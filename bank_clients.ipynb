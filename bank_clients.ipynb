{
  "cells": [
    {
      "cell_type": "markdown",
      "metadata": {
        "toc": true,
        "id": "Ld3rUpylkq_E"
      },
      "source": [
        "<h1>Содержание<span class=\"tocSkip\"></span></h1>\n",
        "<div class=\"toc\"><ul class=\"toc-item\"><li><span><a href=\"#Подготовка-данных\" data-toc-modified-id=\"Подготовка-данных-1\"><span class=\"toc-item-num\">1&nbsp;&nbsp;</span>Подготовка данных</a></span><ul class=\"toc-item\"><li><span><a href=\"#Считывание-файла-и-ознакомление-с-данными\" data-toc-modified-id=\"Считывание-файла-и-ознакомление-с-данными-1.1\"><span class=\"toc-item-num\">1.1&nbsp;&nbsp;</span>Считывание файла и ознакомление с данными</a></span></li><li><span><a href=\"#Предобработка-данных\" data-toc-modified-id=\"Предобработка-данных-1.2\"><span class=\"toc-item-num\">1.2&nbsp;&nbsp;</span>Предобработка данных</a></span><ul class=\"toc-item\"><li><span><a href=\"#Регистр-столбцов\" data-toc-modified-id=\"Регистр-столбцов-1.2.1\"><span class=\"toc-item-num\">1.2.1&nbsp;&nbsp;</span>Регистр столбцов</a></span></li><li><span><a href=\"#Проверка-unique\" data-toc-modified-id=\"Проверка-unique-1.2.2\"><span class=\"toc-item-num\">1.2.2&nbsp;&nbsp;</span>Проверка unique</a></span></li><li><span><a href=\"#Обработка-пропусков\" data-toc-modified-id=\"Обработка-пропусков-1.2.3\"><span class=\"toc-item-num\">1.2.3&nbsp;&nbsp;</span>Обработка пропусков</a></span></li><li><span><a href=\"#Типы-данных-столбцов\" data-toc-modified-id=\"Типы-данных-столбцов-1.2.4\"><span class=\"toc-item-num\">1.2.4&nbsp;&nbsp;</span>Типы данных столбцов</a></span></li></ul></li></ul></li><li><span><a href=\"#Исследование-задачи\" data-toc-modified-id=\"Исследование-задачи-2\"><span class=\"toc-item-num\">2&nbsp;&nbsp;</span>Исследование задачи</a></span><ul class=\"toc-item\"><li><span><a href=\"#Разброс-целевого-признака\" data-toc-modified-id=\"Разброс-целевого-признака-2.1\"><span class=\"toc-item-num\">2.1&nbsp;&nbsp;</span>Разброс целевого признака</a></span></li><li><span><a href=\"#Разбивка-выборок\" data-toc-modified-id=\"Разбивка-выборок-2.2\"><span class=\"toc-item-num\">2.2&nbsp;&nbsp;</span>Разбивка выборок</a></span></li><li><span><a href=\"#Обучение-модели,-не-учитывая-дизбаланс-классов\" data-toc-modified-id=\"Обучение-модели,-не-учитывая-дизбаланс-классов-2.3\"><span class=\"toc-item-num\">2.3&nbsp;&nbsp;</span>Обучение модели, не учитывая дизбаланс классов</a></span><ul class=\"toc-item\"><li><span><a href=\"#Модель-Decision-Tree\" data-toc-modified-id=\"Модель-Decision-Tree-2.3.1\"><span class=\"toc-item-num\">2.3.1&nbsp;&nbsp;</span>Модель Decision Tree</a></span></li><li><span><a href=\"#Модель-Random-Forest\" data-toc-modified-id=\"Модель-Random-Forest-2.3.2\"><span class=\"toc-item-num\">2.3.2&nbsp;&nbsp;</span>Модель Random Forest</a></span></li><li><span><a href=\"#Модель-Logistic-Regression\" data-toc-modified-id=\"Модель-Logistic-Regression-2.3.3\"><span class=\"toc-item-num\">2.3.3&nbsp;&nbsp;</span>Модель Logistic Regression</a></span></li></ul></li></ul></li><li><span><a href=\"#Борьба-с-дисбалансом\" data-toc-modified-id=\"Борьба-с-дисбалансом-3\"><span class=\"toc-item-num\">3&nbsp;&nbsp;</span>Борьба с дисбалансом</a></span><ul class=\"toc-item\"><li><span><a href=\"#Взвешивание-классов\" data-toc-modified-id=\"Взвешивание-классов-3.1\"><span class=\"toc-item-num\">3.1&nbsp;&nbsp;</span>Взвешивание классов</a></span><ul class=\"toc-item\"><li><span><a href=\"#Модель-Logistic-Regression\" data-toc-modified-id=\"Модель-Logistic-Regression-3.1.1\"><span class=\"toc-item-num\">3.1.1&nbsp;&nbsp;</span>Модель Logistic Regression</a></span></li><li><span><a href=\"#Модель-Random-Forest\" data-toc-modified-id=\"Модель-Random-Forest-3.1.2\"><span class=\"toc-item-num\">3.1.2&nbsp;&nbsp;</span>Модель Random Forest</a></span></li></ul></li><li><span><a href=\"#Увеличение-выборки\" data-toc-modified-id=\"Увеличение-выборки-3.2\"><span class=\"toc-item-num\">3.2&nbsp;&nbsp;</span>Увеличение выборки</a></span><ul class=\"toc-item\"><li><span><a href=\"#Модель-Logistic-Regression\" data-toc-modified-id=\"Модель-Logistic-Regression-3.2.1\"><span class=\"toc-item-num\">3.2.1&nbsp;&nbsp;</span>Модель Logistic Regression</a></span></li><li><span><a href=\"#Модель-Random-Forest\" data-toc-modified-id=\"Модель-Random-Forest-3.2.2\"><span class=\"toc-item-num\">3.2.2&nbsp;&nbsp;</span>Модель Random Forest</a></span></li></ul></li><li><span><a href=\"#Уменьшение-выборки\" data-toc-modified-id=\"Уменьшение-выборки-3.3\"><span class=\"toc-item-num\">3.3&nbsp;&nbsp;</span>Уменьшение выборки</a></span><ul class=\"toc-item\"><li><span><a href=\"#Модель-Logistic-Regression\" data-toc-modified-id=\"Модель-Logistic-Regression-3.3.1\"><span class=\"toc-item-num\">3.3.1&nbsp;&nbsp;</span>Модель Logistic Regression</a></span></li><li><span><a href=\"#Модель-Random-Forest\" data-toc-modified-id=\"Модель-Random-Forest-3.3.2\"><span class=\"toc-item-num\">3.3.2&nbsp;&nbsp;</span>Модель Random Forest</a></span></li></ul></li></ul></li><li><span><a href=\"#Тестирование-модели\" data-toc-modified-id=\"Тестирование-модели-4\"><span class=\"toc-item-num\">4&nbsp;&nbsp;</span>Тестирование модели</a></span></li><li><span><a href=\"#Вывод\" data-toc-modified-id=\"Вывод-5\"><span class=\"toc-item-num\">5&nbsp;&nbsp;</span>Вывод</a></span></li><li><span><a href=\"#Чек-лист-готовности-проекта\" data-toc-modified-id=\"Чек-лист-готовности-проекта-6\"><span class=\"toc-item-num\">6&nbsp;&nbsp;</span>Чек-лист готовности проекта</a></span></li></ul></div>"
      ]
    },
    {
      "cell_type": "markdown",
      "metadata": {
        "id": "E48o3-U2kq_G"
      },
      "source": [
        "# Отток клиентов"
      ]
    },
    {
      "cell_type": "markdown",
      "metadata": {
        "id": "6ZBa4wRHkq_H"
      },
      "source": [
        "Из «Бета-Банка» стали уходить клиенты. Каждый месяц. Немного, но заметно. Банковские маркетологи посчитали: сохранять текущих клиентов дешевле, чем привлекать новых.\n",
        "\n",
        "Нужно спрогнозировать, уйдёт клиент из банка в ближайшее время или нет. Вам предоставлены исторические данные о поведении клиентов и расторжении договоров с банком. \n",
        "\n",
        "Постройте модель с предельно большим значением *F1*-меры. Чтобы сдать проект успешно, нужно довести метрику до 0.59. Проверьте *F1*-меру на тестовой выборке самостоятельно.\n",
        "\n",
        "Дополнительно измеряйте *AUC-ROC*, сравнивайте её значение с *F1*-мерой.\n",
        "\n",
        "Источник данных: [https://www.kaggle.com/barelydedicated/bank-customer-churn-modeling](https://www.kaggle.com/barelydedicated/bank-customer-churn-modeling)"
      ]
    },
    {
      "cell_type": "markdown",
      "metadata": {
        "id": "WkPvUCxFkq_H"
      },
      "source": [
        "## Подготовка данных"
      ]
    },
    {
      "cell_type": "code",
      "execution_count": 1,
      "metadata": {
        "id": "pbZhgb1ekq_I"
      },
      "outputs": [],
      "source": [
        "import pandas as pd\n",
        "import numpy as np\n",
        "import seaborn as sns\n",
        "import matplotlib.pyplot as plt\n",
        "from sklearn import tree\n",
        "from sklearn.tree import DecisionTreeClassifier\n",
        "from sklearn.ensemble import RandomForestClassifier\n",
        "from sklearn.linear_model import LogisticRegression\n",
        "from sklearn.model_selection import train_test_split\n",
        "from sklearn.dummy import DummyClassifier\n",
        "from sklearn.preprocessing import OrdinalEncoder, StandardScaler\n",
        "from sklearn.utils import shuffle\n",
        "from sklearn.metrics import f1_score, precision_score, recall_score, roc_curve, roc_auc_score, confusion_matrix\n",
        "from tqdm import tqdm\n",
        "from time import sleep"
      ]
    },
    {
      "cell_type": "markdown",
      "metadata": {
        "id": "iDQ1imzIkq_K"
      },
      "source": [
        "### Считывание файла и ознакомление с данными"
      ]
    },
    {
      "cell_type": "code",
      "execution_count": 3,
      "metadata": {
        "id": "PcjsXp6Nkq_L"
      },
      "outputs": [],
      "source": [
        "df = pd.read_csv('Churn.csv')"
      ]
    },
    {
      "cell_type": "code",
      "execution_count": 4,
      "metadata": {
        "colab": {
          "base_uri": "https://localhost:8080/"
        },
        "id": "aXmQ5hWDkq_L",
        "outputId": "d5515a35-9139-428f-95d1-0f56bf60013a"
      },
      "outputs": [
        {
          "output_type": "execute_result",
          "data": {
            "text/plain": [
              "(10000, 14)"
            ]
          },
          "metadata": {},
          "execution_count": 4
        }
      ],
      "source": [
        "df.shape"
      ]
    },
    {
      "cell_type": "code",
      "execution_count": 5,
      "metadata": {
        "scrolled": false,
        "colab": {
          "base_uri": "https://localhost:8080/",
          "height": 270
        },
        "id": "Q1s9KJ2tkq_M",
        "outputId": "1cdadbcd-6d7d-4d6d-d18a-f3b7ed12ef99"
      },
      "outputs": [
        {
          "output_type": "execute_result",
          "data": {
            "text/plain": [
              "   RowNumber  CustomerId   Surname  CreditScore Geography  Gender  Age  \\\n",
              "0          1    15634602  Hargrave          619    France  Female   42   \n",
              "1          2    15647311      Hill          608     Spain  Female   41   \n",
              "2          3    15619304      Onio          502    France  Female   42   \n",
              "3          4    15701354      Boni          699    France  Female   39   \n",
              "4          5    15737888  Mitchell          850     Spain  Female   43   \n",
              "\n",
              "   Tenure    Balance  NumOfProducts  HasCrCard  IsActiveMember  \\\n",
              "0     2.0       0.00              1          1               1   \n",
              "1     1.0   83807.86              1          0               1   \n",
              "2     8.0  159660.80              3          1               0   \n",
              "3     1.0       0.00              2          0               0   \n",
              "4     2.0  125510.82              1          1               1   \n",
              "\n",
              "   EstimatedSalary  Exited  \n",
              "0        101348.88       1  \n",
              "1        112542.58       0  \n",
              "2        113931.57       1  \n",
              "3         93826.63       0  \n",
              "4         79084.10       0  "
            ],
            "text/html": [
              "\n",
              "  <div id=\"df-22372051-3f17-4337-86fc-2af4760ba2a5\">\n",
              "    <div class=\"colab-df-container\">\n",
              "      <div>\n",
              "<style scoped>\n",
              "    .dataframe tbody tr th:only-of-type {\n",
              "        vertical-align: middle;\n",
              "    }\n",
              "\n",
              "    .dataframe tbody tr th {\n",
              "        vertical-align: top;\n",
              "    }\n",
              "\n",
              "    .dataframe thead th {\n",
              "        text-align: right;\n",
              "    }\n",
              "</style>\n",
              "<table border=\"1\" class=\"dataframe\">\n",
              "  <thead>\n",
              "    <tr style=\"text-align: right;\">\n",
              "      <th></th>\n",
              "      <th>RowNumber</th>\n",
              "      <th>CustomerId</th>\n",
              "      <th>Surname</th>\n",
              "      <th>CreditScore</th>\n",
              "      <th>Geography</th>\n",
              "      <th>Gender</th>\n",
              "      <th>Age</th>\n",
              "      <th>Tenure</th>\n",
              "      <th>Balance</th>\n",
              "      <th>NumOfProducts</th>\n",
              "      <th>HasCrCard</th>\n",
              "      <th>IsActiveMember</th>\n",
              "      <th>EstimatedSalary</th>\n",
              "      <th>Exited</th>\n",
              "    </tr>\n",
              "  </thead>\n",
              "  <tbody>\n",
              "    <tr>\n",
              "      <th>0</th>\n",
              "      <td>1</td>\n",
              "      <td>15634602</td>\n",
              "      <td>Hargrave</td>\n",
              "      <td>619</td>\n",
              "      <td>France</td>\n",
              "      <td>Female</td>\n",
              "      <td>42</td>\n",
              "      <td>2.0</td>\n",
              "      <td>0.00</td>\n",
              "      <td>1</td>\n",
              "      <td>1</td>\n",
              "      <td>1</td>\n",
              "      <td>101348.88</td>\n",
              "      <td>1</td>\n",
              "    </tr>\n",
              "    <tr>\n",
              "      <th>1</th>\n",
              "      <td>2</td>\n",
              "      <td>15647311</td>\n",
              "      <td>Hill</td>\n",
              "      <td>608</td>\n",
              "      <td>Spain</td>\n",
              "      <td>Female</td>\n",
              "      <td>41</td>\n",
              "      <td>1.0</td>\n",
              "      <td>83807.86</td>\n",
              "      <td>1</td>\n",
              "      <td>0</td>\n",
              "      <td>1</td>\n",
              "      <td>112542.58</td>\n",
              "      <td>0</td>\n",
              "    </tr>\n",
              "    <tr>\n",
              "      <th>2</th>\n",
              "      <td>3</td>\n",
              "      <td>15619304</td>\n",
              "      <td>Onio</td>\n",
              "      <td>502</td>\n",
              "      <td>France</td>\n",
              "      <td>Female</td>\n",
              "      <td>42</td>\n",
              "      <td>8.0</td>\n",
              "      <td>159660.80</td>\n",
              "      <td>3</td>\n",
              "      <td>1</td>\n",
              "      <td>0</td>\n",
              "      <td>113931.57</td>\n",
              "      <td>1</td>\n",
              "    </tr>\n",
              "    <tr>\n",
              "      <th>3</th>\n",
              "      <td>4</td>\n",
              "      <td>15701354</td>\n",
              "      <td>Boni</td>\n",
              "      <td>699</td>\n",
              "      <td>France</td>\n",
              "      <td>Female</td>\n",
              "      <td>39</td>\n",
              "      <td>1.0</td>\n",
              "      <td>0.00</td>\n",
              "      <td>2</td>\n",
              "      <td>0</td>\n",
              "      <td>0</td>\n",
              "      <td>93826.63</td>\n",
              "      <td>0</td>\n",
              "    </tr>\n",
              "    <tr>\n",
              "      <th>4</th>\n",
              "      <td>5</td>\n",
              "      <td>15737888</td>\n",
              "      <td>Mitchell</td>\n",
              "      <td>850</td>\n",
              "      <td>Spain</td>\n",
              "      <td>Female</td>\n",
              "      <td>43</td>\n",
              "      <td>2.0</td>\n",
              "      <td>125510.82</td>\n",
              "      <td>1</td>\n",
              "      <td>1</td>\n",
              "      <td>1</td>\n",
              "      <td>79084.10</td>\n",
              "      <td>0</td>\n",
              "    </tr>\n",
              "  </tbody>\n",
              "</table>\n",
              "</div>\n",
              "      <button class=\"colab-df-convert\" onclick=\"convertToInteractive('df-22372051-3f17-4337-86fc-2af4760ba2a5')\"\n",
              "              title=\"Convert this dataframe to an interactive table.\"\n",
              "              style=\"display:none;\">\n",
              "        \n",
              "  <svg xmlns=\"http://www.w3.org/2000/svg\" height=\"24px\"viewBox=\"0 0 24 24\"\n",
              "       width=\"24px\">\n",
              "    <path d=\"M0 0h24v24H0V0z\" fill=\"none\"/>\n",
              "    <path d=\"M18.56 5.44l.94 2.06.94-2.06 2.06-.94-2.06-.94-.94-2.06-.94 2.06-2.06.94zm-11 1L8.5 8.5l.94-2.06 2.06-.94-2.06-.94L8.5 2.5l-.94 2.06-2.06.94zm10 10l.94 2.06.94-2.06 2.06-.94-2.06-.94-.94-2.06-.94 2.06-2.06.94z\"/><path d=\"M17.41 7.96l-1.37-1.37c-.4-.4-.92-.59-1.43-.59-.52 0-1.04.2-1.43.59L10.3 9.45l-7.72 7.72c-.78.78-.78 2.05 0 2.83L4 21.41c.39.39.9.59 1.41.59.51 0 1.02-.2 1.41-.59l7.78-7.78 2.81-2.81c.8-.78.8-2.07 0-2.86zM5.41 20L4 18.59l7.72-7.72 1.47 1.35L5.41 20z\"/>\n",
              "  </svg>\n",
              "      </button>\n",
              "      \n",
              "  <style>\n",
              "    .colab-df-container {\n",
              "      display:flex;\n",
              "      flex-wrap:wrap;\n",
              "      gap: 12px;\n",
              "    }\n",
              "\n",
              "    .colab-df-convert {\n",
              "      background-color: #E8F0FE;\n",
              "      border: none;\n",
              "      border-radius: 50%;\n",
              "      cursor: pointer;\n",
              "      display: none;\n",
              "      fill: #1967D2;\n",
              "      height: 32px;\n",
              "      padding: 0 0 0 0;\n",
              "      width: 32px;\n",
              "    }\n",
              "\n",
              "    .colab-df-convert:hover {\n",
              "      background-color: #E2EBFA;\n",
              "      box-shadow: 0px 1px 2px rgba(60, 64, 67, 0.3), 0px 1px 3px 1px rgba(60, 64, 67, 0.15);\n",
              "      fill: #174EA6;\n",
              "    }\n",
              "\n",
              "    [theme=dark] .colab-df-convert {\n",
              "      background-color: #3B4455;\n",
              "      fill: #D2E3FC;\n",
              "    }\n",
              "\n",
              "    [theme=dark] .colab-df-convert:hover {\n",
              "      background-color: #434B5C;\n",
              "      box-shadow: 0px 1px 3px 1px rgba(0, 0, 0, 0.15);\n",
              "      filter: drop-shadow(0px 1px 2px rgba(0, 0, 0, 0.3));\n",
              "      fill: #FFFFFF;\n",
              "    }\n",
              "  </style>\n",
              "\n",
              "      <script>\n",
              "        const buttonEl =\n",
              "          document.querySelector('#df-22372051-3f17-4337-86fc-2af4760ba2a5 button.colab-df-convert');\n",
              "        buttonEl.style.display =\n",
              "          google.colab.kernel.accessAllowed ? 'block' : 'none';\n",
              "\n",
              "        async function convertToInteractive(key) {\n",
              "          const element = document.querySelector('#df-22372051-3f17-4337-86fc-2af4760ba2a5');\n",
              "          const dataTable =\n",
              "            await google.colab.kernel.invokeFunction('convertToInteractive',\n",
              "                                                     [key], {});\n",
              "          if (!dataTable) return;\n",
              "\n",
              "          const docLinkHtml = 'Like what you see? Visit the ' +\n",
              "            '<a target=\"_blank\" href=https://colab.research.google.com/notebooks/data_table.ipynb>data table notebook</a>'\n",
              "            + ' to learn more about interactive tables.';\n",
              "          element.innerHTML = '';\n",
              "          dataTable['output_type'] = 'display_data';\n",
              "          await google.colab.output.renderOutput(dataTable, element);\n",
              "          const docLink = document.createElement('div');\n",
              "          docLink.innerHTML = docLinkHtml;\n",
              "          element.appendChild(docLink);\n",
              "        }\n",
              "      </script>\n",
              "    </div>\n",
              "  </div>\n",
              "  "
            ]
          },
          "metadata": {},
          "execution_count": 5
        }
      ],
      "source": [
        "df.head(5)"
      ]
    },
    {
      "cell_type": "code",
      "execution_count": 6,
      "metadata": {
        "colab": {
          "base_uri": "https://localhost:8080/",
          "height": 364
        },
        "id": "TD6nmIYhkq_N",
        "outputId": "f83adefd-f46f-446c-8ccc-7703a72541be"
      },
      "outputs": [
        {
          "output_type": "execute_result",
          "data": {
            "text/plain": [
              "         RowNumber    CustomerId   CreditScore           Age       Tenure  \\\n",
              "count  10000.00000  1.000000e+04  10000.000000  10000.000000  9091.000000   \n",
              "mean    5000.50000  1.569094e+07    650.528800     38.921800     4.997690   \n",
              "std     2886.89568  7.193619e+04     96.653299     10.487806     2.894723   \n",
              "min        1.00000  1.556570e+07    350.000000     18.000000     0.000000   \n",
              "25%     2500.75000  1.562853e+07    584.000000     32.000000     2.000000   \n",
              "50%     5000.50000  1.569074e+07    652.000000     37.000000     5.000000   \n",
              "75%     7500.25000  1.575323e+07    718.000000     44.000000     7.000000   \n",
              "max    10000.00000  1.581569e+07    850.000000     92.000000    10.000000   \n",
              "\n",
              "             Balance  NumOfProducts    HasCrCard  IsActiveMember  \\\n",
              "count   10000.000000   10000.000000  10000.00000    10000.000000   \n",
              "mean    76485.889288       1.530200      0.70550        0.515100   \n",
              "std     62397.405202       0.581654      0.45584        0.499797   \n",
              "min         0.000000       1.000000      0.00000        0.000000   \n",
              "25%         0.000000       1.000000      0.00000        0.000000   \n",
              "50%     97198.540000       1.000000      1.00000        1.000000   \n",
              "75%    127644.240000       2.000000      1.00000        1.000000   \n",
              "max    250898.090000       4.000000      1.00000        1.000000   \n",
              "\n",
              "       EstimatedSalary        Exited  \n",
              "count     10000.000000  10000.000000  \n",
              "mean     100090.239881      0.203700  \n",
              "std       57510.492818      0.402769  \n",
              "min          11.580000      0.000000  \n",
              "25%       51002.110000      0.000000  \n",
              "50%      100193.915000      0.000000  \n",
              "75%      149388.247500      0.000000  \n",
              "max      199992.480000      1.000000  "
            ],
            "text/html": [
              "\n",
              "  <div id=\"df-406e7ce3-cb41-4707-ba75-2f8ee7058bf2\">\n",
              "    <div class=\"colab-df-container\">\n",
              "      <div>\n",
              "<style scoped>\n",
              "    .dataframe tbody tr th:only-of-type {\n",
              "        vertical-align: middle;\n",
              "    }\n",
              "\n",
              "    .dataframe tbody tr th {\n",
              "        vertical-align: top;\n",
              "    }\n",
              "\n",
              "    .dataframe thead th {\n",
              "        text-align: right;\n",
              "    }\n",
              "</style>\n",
              "<table border=\"1\" class=\"dataframe\">\n",
              "  <thead>\n",
              "    <tr style=\"text-align: right;\">\n",
              "      <th></th>\n",
              "      <th>RowNumber</th>\n",
              "      <th>CustomerId</th>\n",
              "      <th>CreditScore</th>\n",
              "      <th>Age</th>\n",
              "      <th>Tenure</th>\n",
              "      <th>Balance</th>\n",
              "      <th>NumOfProducts</th>\n",
              "      <th>HasCrCard</th>\n",
              "      <th>IsActiveMember</th>\n",
              "      <th>EstimatedSalary</th>\n",
              "      <th>Exited</th>\n",
              "    </tr>\n",
              "  </thead>\n",
              "  <tbody>\n",
              "    <tr>\n",
              "      <th>count</th>\n",
              "      <td>10000.00000</td>\n",
              "      <td>1.000000e+04</td>\n",
              "      <td>10000.000000</td>\n",
              "      <td>10000.000000</td>\n",
              "      <td>9091.000000</td>\n",
              "      <td>10000.000000</td>\n",
              "      <td>10000.000000</td>\n",
              "      <td>10000.00000</td>\n",
              "      <td>10000.000000</td>\n",
              "      <td>10000.000000</td>\n",
              "      <td>10000.000000</td>\n",
              "    </tr>\n",
              "    <tr>\n",
              "      <th>mean</th>\n",
              "      <td>5000.50000</td>\n",
              "      <td>1.569094e+07</td>\n",
              "      <td>650.528800</td>\n",
              "      <td>38.921800</td>\n",
              "      <td>4.997690</td>\n",
              "      <td>76485.889288</td>\n",
              "      <td>1.530200</td>\n",
              "      <td>0.70550</td>\n",
              "      <td>0.515100</td>\n",
              "      <td>100090.239881</td>\n",
              "      <td>0.203700</td>\n",
              "    </tr>\n",
              "    <tr>\n",
              "      <th>std</th>\n",
              "      <td>2886.89568</td>\n",
              "      <td>7.193619e+04</td>\n",
              "      <td>96.653299</td>\n",
              "      <td>10.487806</td>\n",
              "      <td>2.894723</td>\n",
              "      <td>62397.405202</td>\n",
              "      <td>0.581654</td>\n",
              "      <td>0.45584</td>\n",
              "      <td>0.499797</td>\n",
              "      <td>57510.492818</td>\n",
              "      <td>0.402769</td>\n",
              "    </tr>\n",
              "    <tr>\n",
              "      <th>min</th>\n",
              "      <td>1.00000</td>\n",
              "      <td>1.556570e+07</td>\n",
              "      <td>350.000000</td>\n",
              "      <td>18.000000</td>\n",
              "      <td>0.000000</td>\n",
              "      <td>0.000000</td>\n",
              "      <td>1.000000</td>\n",
              "      <td>0.00000</td>\n",
              "      <td>0.000000</td>\n",
              "      <td>11.580000</td>\n",
              "      <td>0.000000</td>\n",
              "    </tr>\n",
              "    <tr>\n",
              "      <th>25%</th>\n",
              "      <td>2500.75000</td>\n",
              "      <td>1.562853e+07</td>\n",
              "      <td>584.000000</td>\n",
              "      <td>32.000000</td>\n",
              "      <td>2.000000</td>\n",
              "      <td>0.000000</td>\n",
              "      <td>1.000000</td>\n",
              "      <td>0.00000</td>\n",
              "      <td>0.000000</td>\n",
              "      <td>51002.110000</td>\n",
              "      <td>0.000000</td>\n",
              "    </tr>\n",
              "    <tr>\n",
              "      <th>50%</th>\n",
              "      <td>5000.50000</td>\n",
              "      <td>1.569074e+07</td>\n",
              "      <td>652.000000</td>\n",
              "      <td>37.000000</td>\n",
              "      <td>5.000000</td>\n",
              "      <td>97198.540000</td>\n",
              "      <td>1.000000</td>\n",
              "      <td>1.00000</td>\n",
              "      <td>1.000000</td>\n",
              "      <td>100193.915000</td>\n",
              "      <td>0.000000</td>\n",
              "    </tr>\n",
              "    <tr>\n",
              "      <th>75%</th>\n",
              "      <td>7500.25000</td>\n",
              "      <td>1.575323e+07</td>\n",
              "      <td>718.000000</td>\n",
              "      <td>44.000000</td>\n",
              "      <td>7.000000</td>\n",
              "      <td>127644.240000</td>\n",
              "      <td>2.000000</td>\n",
              "      <td>1.00000</td>\n",
              "      <td>1.000000</td>\n",
              "      <td>149388.247500</td>\n",
              "      <td>0.000000</td>\n",
              "    </tr>\n",
              "    <tr>\n",
              "      <th>max</th>\n",
              "      <td>10000.00000</td>\n",
              "      <td>1.581569e+07</td>\n",
              "      <td>850.000000</td>\n",
              "      <td>92.000000</td>\n",
              "      <td>10.000000</td>\n",
              "      <td>250898.090000</td>\n",
              "      <td>4.000000</td>\n",
              "      <td>1.00000</td>\n",
              "      <td>1.000000</td>\n",
              "      <td>199992.480000</td>\n",
              "      <td>1.000000</td>\n",
              "    </tr>\n",
              "  </tbody>\n",
              "</table>\n",
              "</div>\n",
              "      <button class=\"colab-df-convert\" onclick=\"convertToInteractive('df-406e7ce3-cb41-4707-ba75-2f8ee7058bf2')\"\n",
              "              title=\"Convert this dataframe to an interactive table.\"\n",
              "              style=\"display:none;\">\n",
              "        \n",
              "  <svg xmlns=\"http://www.w3.org/2000/svg\" height=\"24px\"viewBox=\"0 0 24 24\"\n",
              "       width=\"24px\">\n",
              "    <path d=\"M0 0h24v24H0V0z\" fill=\"none\"/>\n",
              "    <path d=\"M18.56 5.44l.94 2.06.94-2.06 2.06-.94-2.06-.94-.94-2.06-.94 2.06-2.06.94zm-11 1L8.5 8.5l.94-2.06 2.06-.94-2.06-.94L8.5 2.5l-.94 2.06-2.06.94zm10 10l.94 2.06.94-2.06 2.06-.94-2.06-.94-.94-2.06-.94 2.06-2.06.94z\"/><path d=\"M17.41 7.96l-1.37-1.37c-.4-.4-.92-.59-1.43-.59-.52 0-1.04.2-1.43.59L10.3 9.45l-7.72 7.72c-.78.78-.78 2.05 0 2.83L4 21.41c.39.39.9.59 1.41.59.51 0 1.02-.2 1.41-.59l7.78-7.78 2.81-2.81c.8-.78.8-2.07 0-2.86zM5.41 20L4 18.59l7.72-7.72 1.47 1.35L5.41 20z\"/>\n",
              "  </svg>\n",
              "      </button>\n",
              "      \n",
              "  <style>\n",
              "    .colab-df-container {\n",
              "      display:flex;\n",
              "      flex-wrap:wrap;\n",
              "      gap: 12px;\n",
              "    }\n",
              "\n",
              "    .colab-df-convert {\n",
              "      background-color: #E8F0FE;\n",
              "      border: none;\n",
              "      border-radius: 50%;\n",
              "      cursor: pointer;\n",
              "      display: none;\n",
              "      fill: #1967D2;\n",
              "      height: 32px;\n",
              "      padding: 0 0 0 0;\n",
              "      width: 32px;\n",
              "    }\n",
              "\n",
              "    .colab-df-convert:hover {\n",
              "      background-color: #E2EBFA;\n",
              "      box-shadow: 0px 1px 2px rgba(60, 64, 67, 0.3), 0px 1px 3px 1px rgba(60, 64, 67, 0.15);\n",
              "      fill: #174EA6;\n",
              "    }\n",
              "\n",
              "    [theme=dark] .colab-df-convert {\n",
              "      background-color: #3B4455;\n",
              "      fill: #D2E3FC;\n",
              "    }\n",
              "\n",
              "    [theme=dark] .colab-df-convert:hover {\n",
              "      background-color: #434B5C;\n",
              "      box-shadow: 0px 1px 3px 1px rgba(0, 0, 0, 0.15);\n",
              "      filter: drop-shadow(0px 1px 2px rgba(0, 0, 0, 0.3));\n",
              "      fill: #FFFFFF;\n",
              "    }\n",
              "  </style>\n",
              "\n",
              "      <script>\n",
              "        const buttonEl =\n",
              "          document.querySelector('#df-406e7ce3-cb41-4707-ba75-2f8ee7058bf2 button.colab-df-convert');\n",
              "        buttonEl.style.display =\n",
              "          google.colab.kernel.accessAllowed ? 'block' : 'none';\n",
              "\n",
              "        async function convertToInteractive(key) {\n",
              "          const element = document.querySelector('#df-406e7ce3-cb41-4707-ba75-2f8ee7058bf2');\n",
              "          const dataTable =\n",
              "            await google.colab.kernel.invokeFunction('convertToInteractive',\n",
              "                                                     [key], {});\n",
              "          if (!dataTable) return;\n",
              "\n",
              "          const docLinkHtml = 'Like what you see? Visit the ' +\n",
              "            '<a target=\"_blank\" href=https://colab.research.google.com/notebooks/data_table.ipynb>data table notebook</a>'\n",
              "            + ' to learn more about interactive tables.';\n",
              "          element.innerHTML = '';\n",
              "          dataTable['output_type'] = 'display_data';\n",
              "          await google.colab.output.renderOutput(dataTable, element);\n",
              "          const docLink = document.createElement('div');\n",
              "          docLink.innerHTML = docLinkHtml;\n",
              "          element.appendChild(docLink);\n",
              "        }\n",
              "      </script>\n",
              "    </div>\n",
              "  </div>\n",
              "  "
            ]
          },
          "metadata": {},
          "execution_count": 6
        }
      ],
      "source": [
        "df.describe()"
      ]
    },
    {
      "cell_type": "markdown",
      "metadata": {
        "id": "SkqUObwikq_N"
      },
      "source": [
        "### Предобработка данных"
      ]
    },
    {
      "cell_type": "markdown",
      "metadata": {
        "id": "1EQKkucNkq_O"
      },
      "source": [
        "#### Регистр столбцов"
      ]
    },
    {
      "cell_type": "code",
      "execution_count": 7,
      "metadata": {
        "id": "nVU-ZC3ckq_O"
      },
      "outputs": [],
      "source": [
        "df.columns = df.columns.str.lower()"
      ]
    },
    {
      "cell_type": "code",
      "execution_count": 8,
      "metadata": {
        "id": "GPh0L-rSkq_O"
      },
      "outputs": [],
      "source": [
        "df = df.rename(\n",
        "    columns = {\n",
        "        'rownumber' : 'row_number',\n",
        "        'customerid' : 'customer_id',\n",
        "        'creditscore' : 'credit_score',\n",
        "        'numofproducts' : 'num_of_products',\n",
        "        'hascrcard' : 'has_cr_card',\n",
        "        'isactivemember' : 'is_active_member',\n",
        "        'estimatedsalary' : 'estimated_salary',\n",
        "    }\n",
        ")"
      ]
    },
    {
      "cell_type": "markdown",
      "metadata": {
        "id": "Vd_eIOYZkq_O"
      },
      "source": [
        "#### Проверка unique"
      ]
    },
    {
      "cell_type": "markdown",
      "metadata": {
        "id": "4nUeUINZkq_P"
      },
      "source": [
        "**Проверим уникальные значения столбцов на предмет ошибок правописания и непредвиденных значений**"
      ]
    },
    {
      "cell_type": "code",
      "execution_count": 9,
      "metadata": {
        "scrolled": true,
        "colab": {
          "base_uri": "https://localhost:8080/"
        },
        "id": "OLY4L7vTkq_P",
        "outputId": "7cc4ce92-bde9-4f1a-897c-c70499ccf05e"
      },
      "outputs": [
        {
          "output_type": "stream",
          "name": "stdout",
          "text": [
            "geography : \n",
            " ['France' 'Spain' 'Germany'] \n",
            "\n",
            "tenure : \n",
            " [ 2.  1.  8.  7.  4.  6.  3. 10.  5.  9.  0. nan] \n",
            "\n",
            "num_of_products : \n",
            " [1 3 2 4] \n",
            "\n",
            "has_cr_card : \n",
            " [1 0] \n",
            "\n",
            "is_active_member : \n",
            " [1 0] \n",
            "\n",
            "gender : \n",
            " ['Female' 'Male'] \n",
            "\n"
          ]
        }
      ],
      "source": [
        "# Столбцы для проверки столбцов, предполагаемо имеющих малый разброс значений\n",
        "col = ['geography', 'tenure', 'num_of_products', 'has_cr_card', 'is_active_member', 'gender']\n",
        "for i in col:\n",
        "    print(i, ':', '\\n', df[i].unique(), '\\n')"
      ]
    },
    {
      "cell_type": "markdown",
      "metadata": {
        "id": "OExn_uJbkq_P"
      },
      "source": [
        "**Построим гистограммы для столбцов, предполагаемо имеющих большой разброс значений**"
      ]
    },
    {
      "cell_type": "code",
      "execution_count": 10,
      "metadata": {
        "colab": {
          "base_uri": "https://localhost:8080/",
          "height": 873
        },
        "id": "_RBgYejYkq_Q",
        "outputId": "3915768f-ab19-46a9-dd81-c0ae41922d32"
      },
      "outputs": [
        {
          "output_type": "display_data",
          "data": {
            "text/plain": [
              "<Figure size 504x864 with 4 Axes>"
            ],
            "image/png": "[encoded data removed]"
          },
          "metadata": {
            "needs_background": "light"
          }
        }
      ],
      "source": [
        "\n",
        "fig, axs = plt.subplots(figsize=(7, 12), nrows = 4, ncols = 1)\n",
        "\n",
        "axs[0].hist(df['credit_score'], bins=30)\n",
        "axs[0].set_title('Кредитный рейтинг')\n",
        "\n",
        "axs[1].hist(df['balance'], bins=30)\n",
        "axs[1].set_title('Баланс')\n",
        "\n",
        "axs[2].hist(df['estimated_salary'], bins=30)\n",
        "axs[2].set_title('Предполагаемая зарплата')\n",
        "\n",
        "axs[3].hist(df['age'], bins=30)\n",
        "axs[3].set_title('Возраст')\n",
        "\n",
        "fig.tight_layout()"
      ]
    },
    {
      "cell_type": "markdown",
      "metadata": {
        "id": "fXi-YuNgkq_R"
      },
      "source": [
        "**Ошибок не наблюдается**"
      ]
    },
    {
      "cell_type": "markdown",
      "metadata": {
        "id": "ZRyztq3pkq_V"
      },
      "source": [
        "#### Обработка пропусков"
      ]
    },
    {
      "cell_type": "code",
      "execution_count": 11,
      "metadata": {
        "scrolled": true,
        "colab": {
          "base_uri": "https://localhost:8080/"
        },
        "id": "RMUNQA_Nkq_W",
        "outputId": "6d21cf38-83fe-47c8-a19b-013465c12d8f"
      },
      "outputs": [
        {
          "output_type": "execute_result",
          "data": {
            "text/plain": [
              "row_number            0\n",
              "customer_id           0\n",
              "surname               0\n",
              "credit_score          0\n",
              "geography             0\n",
              "gender                0\n",
              "age                   0\n",
              "tenure              909\n",
              "balance               0\n",
              "num_of_products       0\n",
              "has_cr_card           0\n",
              "is_active_member      0\n",
              "estimated_salary      0\n",
              "exited                0\n",
              "dtype: int64"
            ]
          },
          "metadata": {},
          "execution_count": 11
        }
      ],
      "source": [
        "df.isna().sum()"
      ]
    },
    {
      "cell_type": "markdown",
      "metadata": {
        "id": "udHJbwdHkq_W"
      },
      "source": [
        "**Рассмотрим столбец tenure (Сколько лет человек является клиентом банка)**"
      ]
    },
    {
      "cell_type": "code",
      "execution_count": 12,
      "metadata": {
        "colab": {
          "base_uri": "https://localhost:8080/"
        },
        "id": "9kfVtRsJkq_W",
        "outputId": "9404d7de-aedd-44f0-fb5a-f32e0b78046d"
      },
      "outputs": [
        {
          "output_type": "execute_result",
          "data": {
            "text/plain": [
              "array([ 2.,  1.,  8.,  7.,  4.,  6.,  3., 10.,  5.,  9.,  0., nan])"
            ]
          },
          "metadata": {},
          "execution_count": 12
        }
      ],
      "source": [
        "df['tenure'].unique()"
      ]
    },
    {
      "cell_type": "markdown",
      "metadata": {
        "id": "VBprb_mjkq_X"
      },
      "source": [
        "**Скоее всего, банковская система не могла ошибаться в старых клиентах, значит, можно сделать вывод, что 909 пропусков - это новые клиенты. Заменим пропуски на ноль**"
      ]
    },
    {
      "cell_type": "code",
      "execution_count": 13,
      "metadata": {
        "scrolled": true,
        "id": "EBIQcYe5kq_X"
      },
      "outputs": [],
      "source": [
        "df['tenure'] = df['tenure'].fillna(0)"
      ]
    },
    {
      "cell_type": "markdown",
      "metadata": {
        "id": "YXQh8TPtkq_Y"
      },
      "source": [
        "#### Типы данных столбцов"
      ]
    },
    {
      "cell_type": "code",
      "execution_count": 14,
      "metadata": {
        "scrolled": false,
        "colab": {
          "base_uri": "https://localhost:8080/"
        },
        "id": "VjVtivtMkq_Y",
        "outputId": "378fde16-0624-4a89-a043-24a59303ef84"
      },
      "outputs": [
        {
          "output_type": "stream",
          "name": "stdout",
          "text": [
            "<class 'pandas.core.frame.DataFrame'>\n",
            "RangeIndex: 10000 entries, 0 to 9999\n",
            "Data columns (total 14 columns):\n",
            " #   Column            Non-Null Count  Dtype  \n",
            "---  ------            --------------  -----  \n",
            " 0   row_number        10000 non-null  int64  \n",
            " 1   customer_id       10000 non-null  int64  \n",
            " 2   surname           10000 non-null  object \n",
            " 3   credit_score      10000 non-null  int64  \n",
            " 4   geography         10000 non-null  object \n",
            " 5   gender            10000 non-null  object \n",
            " 6   age               10000 non-null  int64  \n",
            " 7   tenure            10000 non-null  float64\n",
            " 8   balance           10000 non-null  float64\n",
            " 9   num_of_products   10000 non-null  int64  \n",
            " 10  has_cr_card       10000 non-null  int64  \n",
            " 11  is_active_member  10000 non-null  int64  \n",
            " 12  estimated_salary  10000 non-null  float64\n",
            " 13  exited            10000 non-null  int64  \n",
            "dtypes: float64(3), int64(8), object(3)\n",
            "memory usage: 1.1+ MB\n"
          ]
        }
      ],
      "source": [
        "df.info()"
      ]
    },
    {
      "cell_type": "markdown",
      "metadata": {
        "id": "Ae_TUD2Skq_Y"
      },
      "source": [
        "**Заменим тип данных столбца tenure на int64**"
      ]
    },
    {
      "cell_type": "code",
      "execution_count": 15,
      "metadata": {
        "id": "Lmv7lA-Ukq_Y"
      },
      "outputs": [],
      "source": [
        "df['tenure'] = df['tenure'].astype('int')"
      ]
    },
    {
      "cell_type": "markdown",
      "metadata": {
        "id": "ww9zlMkZkq_Z"
      },
      "source": [
        "## Исследование задачи"
      ]
    },
    {
      "cell_type": "markdown",
      "metadata": {
        "id": "t3VI0yh9kq_Z"
      },
      "source": [
        "### Разброс целевого признака"
      ]
    },
    {
      "cell_type": "code",
      "execution_count": 16,
      "metadata": {
        "scrolled": true,
        "colab": {
          "base_uri": "https://localhost:8080/"
        },
        "id": "-Zc_4JCikq_Z",
        "outputId": "a23a7877-b9ba-4084-8690-2837c74fd4be"
      },
      "outputs": [
        {
          "output_type": "execute_result",
          "data": {
            "text/plain": [
              "0    0.7963\n",
              "1    0.2037\n",
              "Name: exited, dtype: float64"
            ]
          },
          "metadata": {},
          "execution_count": 16
        }
      ],
      "source": [
        "df['exited'].value_counts(normalize=True)"
      ]
    },
    {
      "cell_type": "code",
      "execution_count": 17,
      "metadata": {
        "scrolled": true,
        "colab": {
          "base_uri": "https://localhost:8080/",
          "height": 282
        },
        "id": "AoK8pkwfkq_a",
        "outputId": "457d5737-2b3c-4c08-ba1b-49383caa2e1a"
      },
      "outputs": [
        {
          "output_type": "execute_result",
          "data": {
            "text/plain": [
              "<matplotlib.axes._subplots.AxesSubplot at 0x7fbb77a7ad90>"
            ]
          },
          "metadata": {},
          "execution_count": 17
        },
        {
          "output_type": "display_data",
          "data": {
            "text/plain": [
              "<Figure size 432x288 with 1 Axes>"
            ],
            "image/png": "[encoded data removed]"
          },
          "metadata": {
            "needs_background": "light"
          }
        }
      ],
      "source": [
        "df['exited'].hist(bins=2)"
      ]
    },
    {
      "cell_type": "markdown",
      "metadata": {
        "id": "r8neYGpQkq_a"
      },
      "source": [
        "**Разброс целевого признака составляет 79.63% нулей и 20.37% единиц**"
      ]
    },
    {
      "cell_type": "markdown",
      "metadata": {
        "id": "hwjv8F7bkq_b"
      },
      "source": [
        "**Разброс целевого признака - 1 к 4**"
      ]
    },
    {
      "cell_type": "markdown",
      "metadata": {
        "id": "zFFk0pLNkq_b"
      },
      "source": [
        "### Разбивка выборок"
      ]
    },
    {
      "cell_type": "markdown",
      "metadata": {
        "id": "xa2TxcfFkq_b"
      },
      "source": [
        "**Для того, чтобы обучить модель, нужно избавиться от категориальных признаков - воспользуемся техникой One Hot Encoding**"
      ]
    },
    {
      "cell_type": "markdown",
      "metadata": {
        "id": "9ln2hJhwkq_c"
      },
      "source": [
        "**Удалим столбец с фамилиями, номерами строк (которые по сути дублируют индекс) и id юзеров, так как на прогнозы эти столбцы влиять не будут, но при технике кодирования OHE функция либо создаст слишком много столбцов, соответствующих фамилиям, либо будет грузиться лишний раз бесполезными данными**"
      ]
    },
    {
      "cell_type": "code",
      "execution_count": 18,
      "metadata": {
        "id": "lxqTpxoHkq_c"
      },
      "outputs": [],
      "source": [
        "useless = ['surname','row_number','customer_id']\n",
        "df.drop(useless, axis=1, inplace=True)"
      ]
    },
    {
      "cell_type": "code",
      "execution_count": 19,
      "metadata": {
        "id": "a5At-AcNkq_c"
      },
      "outputs": [],
      "source": [
        "data = pd.get_dummies(df, drop_first=True)"
      ]
    },
    {
      "cell_type": "code",
      "execution_count": 20,
      "metadata": {
        "scrolled": true,
        "colab": {
          "base_uri": "https://localhost:8080/",
          "height": 270
        },
        "id": "3etIp_dHkq_c",
        "outputId": "dde748d6-a77c-4517-ba62-f1021c052d93"
      },
      "outputs": [
        {
          "output_type": "execute_result",
          "data": {
            "text/plain": [
              "   credit_score  age  tenure    balance  num_of_products  has_cr_card  \\\n",
              "0           619   42       2       0.00                1            1   \n",
              "1           608   41       1   83807.86                1            0   \n",
              "2           502   42       8  159660.80                3            1   \n",
              "3           699   39       1       0.00                2            0   \n",
              "4           850   43       2  125510.82                1            1   \n",
              "\n",
              "   is_active_member  estimated_salary  exited  geography_Germany  \\\n",
              "0                 1         101348.88       1                  0   \n",
              "1                 1         112542.58       0                  0   \n",
              "2                 0         113931.57       1                  0   \n",
              "3                 0          93826.63       0                  0   \n",
              "4                 1          79084.10       0                  0   \n",
              "\n",
              "   geography_Spain  gender_Male  \n",
              "0                0            0  \n",
              "1                1            0  \n",
              "2                0            0  \n",
              "3                0            0  \n",
              "4                1            0  "
            ],
            "text/html": [
              "\n",
              "  <div id=\"df-df69e59b-ebfa-432a-87c1-338744a0622d\">\n",
              "    <div class=\"colab-df-container\">\n",
              "      <div>\n",
              "<style scoped>\n",
              "    .dataframe tbody tr th:only-of-type {\n",
              "        vertical-align: middle;\n",
              "    }\n",
              "\n",
              "    .dataframe tbody tr th {\n",
              "        vertical-align: top;\n",
              "    }\n",
              "\n",
              "    .dataframe thead th {\n",
              "        text-align: right;\n",
              "    }\n",
              "</style>\n",
              "<table border=\"1\" class=\"dataframe\">\n",
              "  <thead>\n",
              "    <tr style=\"text-align: right;\">\n",
              "      <th></th>\n",
              "      <th>credit_score</th>\n",
              "      <th>age</th>\n",
              "      <th>tenure</th>\n",
              "      <th>balance</th>\n",
              "      <th>num_of_products</th>\n",
              "      <th>has_cr_card</th>\n",
              "      <th>is_active_member</th>\n",
              "      <th>estimated_salary</th>\n",
              "      <th>exited</th>\n",
              "      <th>geography_Germany</th>\n",
              "      <th>geography_Spain</th>\n",
              "      <th>gender_Male</th>\n",
              "    </tr>\n",
              "  </thead>\n",
              "  <tbody>\n",
              "    <tr>\n",
              "      <th>0</th>\n",
              "      <td>619</td>\n",
              "      <td>42</td>\n",
              "      <td>2</td>\n",
              "      <td>0.00</td>\n",
              "      <td>1</td>\n",
              "      <td>1</td>\n",
              "      <td>1</td>\n",
              "      <td>101348.88</td>\n",
              "      <td>1</td>\n",
              "      <td>0</td>\n",
              "      <td>0</td>\n",
              "      <td>0</td>\n",
              "    </tr>\n",
              "    <tr>\n",
              "      <th>1</th>\n",
              "      <td>608</td>\n",
              "      <td>41</td>\n",
              "      <td>1</td>\n",
              "      <td>83807.86</td>\n",
              "      <td>1</td>\n",
              "      <td>0</td>\n",
              "      <td>1</td>\n",
              "      <td>112542.58</td>\n",
              "      <td>0</td>\n",
              "      <td>0</td>\n",
              "      <td>1</td>\n",
              "      <td>0</td>\n",
              "    </tr>\n",
              "    <tr>\n",
              "      <th>2</th>\n",
              "      <td>502</td>\n",
              "      <td>42</td>\n",
              "      <td>8</td>\n",
              "      <td>159660.80</td>\n",
              "      <td>3</td>\n",
              "      <td>1</td>\n",
              "      <td>0</td>\n",
              "      <td>113931.57</td>\n",
              "      <td>1</td>\n",
              "      <td>0</td>\n",
              "      <td>0</td>\n",
              "      <td>0</td>\n",
              "    </tr>\n",
              "    <tr>\n",
              "      <th>3</th>\n",
              "      <td>699</td>\n",
              "      <td>39</td>\n",
              "      <td>1</td>\n",
              "      <td>0.00</td>\n",
              "      <td>2</td>\n",
              "      <td>0</td>\n",
              "      <td>0</td>\n",
              "      <td>93826.63</td>\n",
              "      <td>0</td>\n",
              "      <td>0</td>\n",
              "      <td>0</td>\n",
              "      <td>0</td>\n",
              "    </tr>\n",
              "    <tr>\n",
              "      <th>4</th>\n",
              "      <td>850</td>\n",
              "      <td>43</td>\n",
              "      <td>2</td>\n",
              "      <td>125510.82</td>\n",
              "      <td>1</td>\n",
              "      <td>1</td>\n",
              "      <td>1</td>\n",
              "      <td>79084.10</td>\n",
              "      <td>0</td>\n",
              "      <td>0</td>\n",
              "      <td>1</td>\n",
              "      <td>0</td>\n",
              "    </tr>\n",
              "  </tbody>\n",
              "</table>\n",
              "</div>\n",
              "      <button class=\"colab-df-convert\" onclick=\"convertToInteractive('df-df69e59b-ebfa-432a-87c1-338744a0622d')\"\n",
              "              title=\"Convert this dataframe to an interactive table.\"\n",
              "              style=\"display:none;\">\n",
              "        \n",
              "  <svg xmlns=\"http://www.w3.org/2000/svg\" height=\"24px\"viewBox=\"0 0 24 24\"\n",
              "       width=\"24px\">\n",
              "    <path d=\"M0 0h24v24H0V0z\" fill=\"none\"/>\n",
              "    <path d=\"M18.56 5.44l.94 2.06.94-2.06 2.06-.94-2.06-.94-.94-2.06-.94 2.06-2.06.94zm-11 1L8.5 8.5l.94-2.06 2.06-.94-2.06-.94L8.5 2.5l-.94 2.06-2.06.94zm10 10l.94 2.06.94-2.06 2.06-.94-2.06-.94-.94-2.06-.94 2.06-2.06.94z\"/><path d=\"M17.41 7.96l-1.37-1.37c-.4-.4-.92-.59-1.43-.59-.52 0-1.04.2-1.43.59L10.3 9.45l-7.72 7.72c-.78.78-.78 2.05 0 2.83L4 21.41c.39.39.9.59 1.41.59.51 0 1.02-.2 1.41-.59l7.78-7.78 2.81-2.81c.8-.78.8-2.07 0-2.86zM5.41 20L4 18.59l7.72-7.72 1.47 1.35L5.41 20z\"/>\n",
              "  </svg>\n",
              "      </button>\n",
              "      \n",
              "  <style>\n",
              "    .colab-df-container {\n",
              "      display:flex;\n",
              "      flex-wrap:wrap;\n",
              "      gap: 12px;\n",
              "    }\n",
              "\n",
              "    .colab-df-convert {\n",
              "      background-color: #E8F0FE;\n",
              "      border: none;\n",
              "      border-radius: 50%;\n",
              "      cursor: pointer;\n",
              "      display: none;\n",
              "      fill: #1967D2;\n",
              "      height: 32px;\n",
              "      padding: 0 0 0 0;\n",
              "      width: 32px;\n",
              "    }\n",
              "\n",
              "    .colab-df-convert:hover {\n",
              "      background-color: #E2EBFA;\n",
              "      box-shadow: 0px 1px 2px rgba(60, 64, 67, 0.3), 0px 1px 3px 1px rgba(60, 64, 67, 0.15);\n",
              "      fill: #174EA6;\n",
              "    }\n",
              "\n",
              "    [theme=dark] .colab-df-convert {\n",
              "      background-color: #3B4455;\n",
              "      fill: #D2E3FC;\n",
              "    }\n",
              "\n",
              "    [theme=dark] .colab-df-convert:hover {\n",
              "      background-color: #434B5C;\n",
              "      box-shadow: 0px 1px 3px 1px rgba(0, 0, 0, 0.15);\n",
              "      filter: drop-shadow(0px 1px 2px rgba(0, 0, 0, 0.3));\n",
              "      fill: #FFFFFF;\n",
              "    }\n",
              "  </style>\n",
              "\n",
              "      <script>\n",
              "        const buttonEl =\n",
              "          document.querySelector('#df-df69e59b-ebfa-432a-87c1-338744a0622d button.colab-df-convert');\n",
              "        buttonEl.style.display =\n",
              "          google.colab.kernel.accessAllowed ? 'block' : 'none';\n",
              "\n",
              "        async function convertToInteractive(key) {\n",
              "          const element = document.querySelector('#df-df69e59b-ebfa-432a-87c1-338744a0622d');\n",
              "          const dataTable =\n",
              "            await google.colab.kernel.invokeFunction('convertToInteractive',\n",
              "                                                     [key], {});\n",
              "          if (!dataTable) return;\n",
              "\n",
              "          const docLinkHtml = 'Like what you see? Visit the ' +\n",
              "            '<a target=\"_blank\" href=https://colab.research.google.com/notebooks/data_table.ipynb>data table notebook</a>'\n",
              "            + ' to learn more about interactive tables.';\n",
              "          element.innerHTML = '';\n",
              "          dataTable['output_type'] = 'display_data';\n",
              "          await google.colab.output.renderOutput(dataTable, element);\n",
              "          const docLink = document.createElement('div');\n",
              "          docLink.innerHTML = docLinkHtml;\n",
              "          element.appendChild(docLink);\n",
              "        }\n",
              "      </script>\n",
              "    </div>\n",
              "  </div>\n",
              "  "
            ]
          },
          "metadata": {},
          "execution_count": 20
        }
      ],
      "source": [
        "data.head()"
      ]
    },
    {
      "cell_type": "markdown",
      "metadata": {
        "id": "MNwQIhobkq_d"
      },
      "source": [
        "**Функция закодировала столбцы со страной проживания и полом**"
      ]
    },
    {
      "cell_type": "markdown",
      "metadata": {
        "id": "VcvQb0CPkq_d"
      },
      "source": [
        "**Разобьем  Data на признаки и целевой признак**"
      ]
    },
    {
      "cell_type": "code",
      "execution_count": 21,
      "metadata": {
        "id": "98ssUV13kq_e"
      },
      "outputs": [],
      "source": [
        "features = data.drop('exited', axis = 1)\n",
        "target = data['exited']"
      ]
    },
    {
      "cell_type": "markdown",
      "metadata": {
        "id": "QJIPxMVrkq_e"
      },
      "source": [
        "**Далее разобьем всю выборку сначала на обучающую и тестовую**"
      ]
    },
    {
      "cell_type": "code",
      "execution_count": 22,
      "metadata": {
        "id": "c38zgF59kq_e"
      },
      "outputs": [],
      "source": [
        "features_train, features_test, target_train, target_test = train_test_split(\n",
        "    features, target, test_size = 0.2, random_state=12345, stratify = target)\n"
      ]
    },
    {
      "cell_type": "markdown",
      "metadata": {
        "id": "VAIaWeOLkq_e"
      },
      "source": [
        "**А потом разобьем обучающую на обучающую и валидационную**"
      ]
    },
    {
      "cell_type": "code",
      "execution_count": 23,
      "metadata": {
        "id": "5DQIAbtTkq_f"
      },
      "outputs": [],
      "source": [
        "features_train, features_valid, target_train, target_valid = train_test_split(\n",
        "    features_train, target_train, test_size = 0.25, random_state=12345, stratify = target_train)"
      ]
    },
    {
      "cell_type": "code",
      "execution_count": 24,
      "metadata": {
        "scrolled": false,
        "colab": {
          "base_uri": "https://localhost:8080/",
          "height": 121
        },
        "id": "RbqbOe0tkq_f",
        "outputId": "b105aefd-59a8-4893-9592-4505e92444f7"
      },
      "outputs": [
        {
          "output_type": "display_data",
          "data": {
            "text/plain": [
              "(6000, 11)"
            ]
          },
          "metadata": {}
        },
        {
          "output_type": "display_data",
          "data": {
            "text/plain": [
              "(2000, 11)"
            ]
          },
          "metadata": {}
        },
        {
          "output_type": "display_data",
          "data": {
            "text/plain": [
              "(2000, 11)"
            ]
          },
          "metadata": {}
        },
        {
          "output_type": "display_data",
          "data": {
            "text/plain": [
              "(6000,)"
            ]
          },
          "metadata": {}
        },
        {
          "output_type": "display_data",
          "data": {
            "text/plain": [
              "(2000,)"
            ]
          },
          "metadata": {}
        },
        {
          "output_type": "display_data",
          "data": {
            "text/plain": [
              "(2000,)"
            ]
          },
          "metadata": {}
        }
      ],
      "source": [
        "# Проверим размеры\n",
        "display(features_train.shape)\n",
        "display(features_test.shape)\n",
        "display(features_valid.shape)\n",
        "\n",
        "display(target_train.shape)\n",
        "display(target_test.shape)\n",
        "display(target_valid.shape)"
      ]
    },
    {
      "cell_type": "markdown",
      "metadata": {
        "id": "I2UGFIFJkq_f"
      },
      "source": [
        "**Применим метод масштабирования признаков - стандартизацию данных**"
      ]
    },
    {
      "cell_type": "code",
      "execution_count": 25,
      "metadata": {
        "id": "vvHwxPQZkq_g"
      },
      "outputs": [],
      "source": [
        "pd.options.mode.chained_assignment = None\n",
        "col_to_scale=['credit_score','age','tenure','balance','num_of_products','estimated_salary']\n",
        "\n",
        "# Создадим объект структуры для стандартизации данных\n",
        "scaler = StandardScaler()\n",
        "\n",
        "# Настроим на обучающих данных\n",
        "scaler.fit(features_train[col_to_scale])\n",
        "\n",
        "features_train[col_to_scale] = scaler.transform(features_train[col_to_scale])\n",
        "features_valid[col_to_scale] = scaler.transform(features_valid[col_to_scale])\n",
        "features_test[col_to_scale] = scaler.transform(features_test[col_to_scale])"
      ]
    },
    {
      "cell_type": "markdown",
      "metadata": {
        "id": "041VMDzWkq_g"
      },
      "source": [
        "**Тестовой выборке было определено 20% от общей. 60% ушло на тренировочную и 20% на валидационную**"
      ]
    },
    {
      "cell_type": "markdown",
      "metadata": {
        "id": "XLRRfgcukq_h"
      },
      "source": [
        "### Обучение модели, не учитывая дизбаланс классов"
      ]
    },
    {
      "cell_type": "markdown",
      "metadata": {
        "id": "HmlRZEyJkq_h"
      },
      "source": [
        "#### Модель Decision Tree"
      ]
    },
    {
      "cell_type": "markdown",
      "metadata": {
        "id": "GYHrSw5ikq_i"
      },
      "source": [
        "**Обучим модель DT, не взирая на баланс классов**"
      ]
    },
    {
      "cell_type": "markdown",
      "metadata": {
        "id": "adMrfHD4kq_i"
      },
      "source": [
        "**Пройдемся циклом по глубине, чтобы получить наилучший результат**"
      ]
    },
    {
      "cell_type": "code",
      "execution_count": 27,
      "metadata": {
        "scrolled": true,
        "colab": {
          "base_uri": "https://localhost:8080/"
        },
        "id": "uTgRhzo1kq_i",
        "outputId": "afceb6cf-bb99-4ddf-d2f5-5c5583039379"
      },
      "outputs": [
        {
          "output_type": "stream",
          "name": "stderr",
          "text": [
            "100%|██████████| 9/9 [00:00<00:00, 44.92it/s]"
          ]
        },
        {
          "output_type": "stream",
          "name": "stdout",
          "text": [
            "max_depth = 1 : max_depth = 2 : max_depth = 3 : max_depth = 4 : max_depth = 5 : max_depth = 6 : max_depth = 7 : max_depth = 8 : max_depth = 9 : \n",
            "\n",
            "Глубина лучшей модели: 8\n",
            "F1 лучшей модели: 0.5817655571635311\n"
          ]
        },
        {
          "output_type": "stream",
          "name": "stderr",
          "text": [
            "\n"
          ]
        }
      ],
      "source": [
        "tree_model = None\n",
        "best_result = 0\n",
        "\n",
        "for depth in tqdm(range(1, 10)): \n",
        "    model_tree = DecisionTreeClassifier(random_state = 12345, max_depth = depth) \n",
        "    \n",
        "    # Обучение модели на обучающей выборке\n",
        "    model_tree.fit(features_train, target_train)\n",
        "    \n",
        "    # Предсказание модели на валидационной выборке\n",
        "    predictions_valid_tree = model_tree.predict(features_valid)\n",
        "    \n",
        "    print(\"max_depth =\", depth, \": \", end='')\n",
        "    \n",
        "    # Полнота\n",
        "    #print('Полнота:', f\"{recall_score(target_valid, predictions_valid_tree):.2}\", ' | ', end='')\n",
        "\n",
        "    # Точность\n",
        "    #print('Точность:', f\"{precision_score(target_valid,predictions_valid_tree):.2}\", ' | ', end='')\n",
        "\n",
        "    # F1-мера\n",
        "    f1 = f1_score(target_valid, predictions_valid_tree)\n",
        "    #print('F1:',f1)\n",
        "\n",
        "    # Выбор лучшей модели\n",
        "    if f1 > best_result:\n",
        "        tree_model = model_tree\n",
        "        best_result = f1\n",
        "        best_depth = depth\n",
        "        \n",
        "# Запишем наилучшие предсказания - они пригодятся для построения матрицы ошибок \n",
        "tree_model_best_predictions = tree_model.predict(features_valid)  \n",
        "\n",
        "print('\\n')        \n",
        "print('Глубина лучшей модели:', best_depth)\n",
        "print('F1 лучшей модели:', best_result)"
      ]
    },
    {
      "cell_type": "markdown",
      "metadata": {
        "id": "oKfIW5cfkq_j"
      },
      "source": [
        "**Построим и визуализируем матрицу ошибок для наилучшей модели**"
      ]
    },
    {
      "cell_type": "code",
      "execution_count": 28,
      "metadata": {
        "scrolled": false,
        "colab": {
          "base_uri": "https://localhost:8080/",
          "height": 330
        },
        "id": "FRSU11Zbkq_j",
        "outputId": "e8e8e59f-3dd6-4887-81b6-878ba9d2c174"
      },
      "outputs": [
        {
          "output_type": "stream",
          "name": "stdout",
          "text": [
            "[[1510   83]\n",
            " [ 206  201]]\n"
          ]
        },
        {
          "output_type": "display_data",
          "data": {
            "text/plain": [
              "<Figure size 432x288 with 2 Axes>"
            ],
            "image/png": "[encoded data removed]"
          },
          "metadata": {
            "needs_background": "light"
          }
        }
      ],
      "source": [
        "cm = confusion_matrix(target_valid, tree_model_best_predictions)\n",
        "\n",
        "# Print the Confusion Matrix\n",
        "print(cm)\n",
        "\n",
        "ax = sns.heatmap(cm, annot=True, fmt='g');\n",
        "\n",
        "ax.set_title('Confusion Matrix');\n",
        "ax.set_xlabel('Предсказания')\n",
        "ax.set_ylabel('Ответы');\n",
        "\n",
        "plt.show()"
      ]
    },
    {
      "cell_type": "code",
      "execution_count": 29,
      "metadata": {
        "colab": {
          "base_uri": "https://localhost:8080/"
        },
        "id": "4hBdtYHbkq_k",
        "outputId": "9c7f8803-cca0-47a8-8ba9-e31c79b67ff7"
      },
      "outputs": [
        {
          "output_type": "stream",
          "name": "stdout",
          "text": [
            "AUC-ROC: 0.8073851972157057\n"
          ]
        }
      ],
      "source": [
        "# Переберем значения порога\n",
        "probabilities_valid_tree = tree_model.predict_proba(features_valid)\n",
        "\n",
        "# Передадим предсказания единиц\n",
        "probabilities_one_valid_tree = probabilities_valid_tree[:, 1]\n",
        "\n",
        "# Расчет площади под ROC-кривой\n",
        "auc_roc = roc_auc_score(target_valid, probabilities_one_valid_tree)\n",
        "print('AUC-ROC:', auc_roc)"
      ]
    },
    {
      "cell_type": "markdown",
      "metadata": {
        "id": "hpMR5uwtkq_k"
      },
      "source": [
        "**На графике:**\n",
        "- TP = 201\n",
        "- FP = 83\n",
        "- TN = 1510\n",
        "- FN = 206"
      ]
    },
    {
      "cell_type": "markdown",
      "metadata": {
        "id": "D9Autp_Xkq_k"
      },
      "source": [
        "**Модель ошиблась 206 + 83 = 289 раз. Наилучшее значение F1 = 0.5817, что не соответствует нашему минимальному порогу качества (0.59). Метрика AUC-ROC = 0.8073**"
      ]
    },
    {
      "cell_type": "markdown",
      "metadata": {
        "id": "JdfA3NTykq_k"
      },
      "source": [
        "#### Модель Random Forest"
      ]
    },
    {
      "cell_type": "code",
      "execution_count": 30,
      "metadata": {
        "colab": {
          "base_uri": "https://localhost:8080/"
        },
        "id": "TJ-oMbVqkq_l",
        "outputId": "28d6d598-731b-4d11-b646-c4ecde81f5a6"
      },
      "outputs": [
        {
          "output_type": "stream",
          "name": "stderr",
          "text": [
            "100%|██████████| 22/22 [02:53<00:00,  7.90s/it]"
          ]
        },
        {
          "output_type": "stream",
          "name": "stdout",
          "text": [
            "Количество деревьев: 70\n",
            "Глубина: 12\n",
            "F1 наилучшей модели: 0.5822784810126582\n"
          ]
        },
        {
          "output_type": "stream",
          "name": "stderr",
          "text": [
            "\n"
          ]
        }
      ],
      "source": [
        "forest_model = None\n",
        "best_result = 0\n",
        "\n",
        "for est in tqdm(range(10, 120, 5)):\n",
        "    for depth in range(1, 20):\n",
        "    \n",
        "        # объявление модели с количеством деревьев, равным est\n",
        "        model_forest = RandomForestClassifier(random_state = 12345, n_estimators = est, max_depth = depth)\n",
        "    \n",
        "        # обучение модели на тренировочной выборке\n",
        "        model_forest.fit(features_train, target_train)\n",
        "    \n",
        "        # Предсказание модели на валидационной выборке\n",
        "        predictions_valid_forest = model_forest.predict(features_valid) \n",
        "\n",
        "        # F1-мера\n",
        "        f1 = f1_score(target_valid, predictions_valid_forest)\n",
        "        #print('F1:', f1)\n",
        "\n",
        "        # Выбор лучшей модели\n",
        "        if f1 > best_result:\n",
        "            forest_model = model_forest\n",
        "            best_result = f1\n",
        "            best_est = est\n",
        "            best_depth = depth\n",
        "            \n",
        "# Запишем наилучшие предсказания - они пригодятся для построения матрицы ошибок \n",
        "forest_model_best_predictions = forest_model.predict(features_valid) \n",
        "\n",
        "print(\"Количество деревьев:\", best_est)        \n",
        "print(\"Глубина:\", best_depth)\n",
        "print(\"F1 наилучшей модели:\", best_result)"
      ]
    },
    {
      "cell_type": "markdown",
      "metadata": {
        "id": "mKD1sWjPkq_l"
      },
      "source": [
        "**Рассмотрим матрицу ошибок**"
      ]
    },
    {
      "cell_type": "code",
      "execution_count": 31,
      "metadata": {
        "scrolled": true,
        "colab": {
          "base_uri": "https://localhost:8080/",
          "height": 330
        },
        "id": "2nbzfoukkq_l",
        "outputId": "73378383-069a-481f-b056-55b80ec4899a"
      },
      "outputs": [
        {
          "output_type": "stream",
          "name": "stdout",
          "text": [
            "[[1552   41]\n",
            " [ 223  184]]\n"
          ]
        },
        {
          "output_type": "display_data",
          "data": {
            "text/plain": [
              "<Figure size 432x288 with 2 Axes>"
            ],
            "image/png": "[encoded data removed]"
          },
          "metadata": {
            "needs_background": "light"
          }
        }
      ],
      "source": [
        "cm = confusion_matrix(target_valid, forest_model_best_predictions)\n",
        "\n",
        "# Print the Confusion Matrix\n",
        "print(cm)\n",
        "\n",
        "ax = sns.heatmap(cm, annot=True, fmt='g');\n",
        "\n",
        "ax.set_title('Confusion Matrix');\n",
        "ax.set_xlabel('Предсказания')\n",
        "ax.set_ylabel('Ответы');\n",
        "\n",
        "plt.show()"
      ]
    },
    {
      "cell_type": "code",
      "execution_count": 32,
      "metadata": {
        "colab": {
          "base_uri": "https://localhost:8080/"
        },
        "id": "ybgugSzYkq_l",
        "outputId": "a56282f6-1e64-4cd2-d36e-f36afbaa3a4a"
      },
      "outputs": [
        {
          "output_type": "stream",
          "name": "stdout",
          "text": [
            "AUC-ROC: 0.8615024886211328\n"
          ]
        }
      ],
      "source": [
        "# Переберем значения порога\n",
        "probabilities_valid_forest = forest_model.predict_proba(features_valid)\n",
        "\n",
        "# Передадим предсказания единиц\n",
        "probabilities_one_valid_forest = probabilities_valid_forest[:, 1]\n",
        "\n",
        "# Расчет площади под ROC-кривой\n",
        "auc_roc = roc_auc_score(target_valid, probabilities_one_valid_forest)\n",
        "print('AUC-ROC:', auc_roc)"
      ]
    },
    {
      "cell_type": "markdown",
      "metadata": {
        "id": "DnHn-0xzkq_m"
      },
      "source": [
        "**На графике:**\n",
        "- TP = 184\n",
        "- FP = 41\n",
        "- TN = 1552\n",
        "- FN = 223"
      ]
    },
    {
      "cell_type": "markdown",
      "metadata": {
        "id": "TvujT3z_kq_m"
      },
      "source": [
        "**Всего модель ошиблась 264 раза. Наилучшее значение метрики F1 оказалось ненамного больше: 0.5822, что все еще не соответствует нашим ожиданиям, т.к. на тестовой выборке модель покажет значение ниже. Значение AUC-ROC = 0.8615, результат заметно улучшился. Посмотрим, как модель поведет себя после работы по устранению дисбаланса классов**"
      ]
    },
    {
      "cell_type": "markdown",
      "metadata": {
        "id": "u7z0LmZhkq_n"
      },
      "source": [
        "#### Модель Logistic Regression"
      ]
    },
    {
      "cell_type": "code",
      "execution_count": 33,
      "metadata": {
        "colab": {
          "base_uri": "https://localhost:8080/"
        },
        "id": "RxLSxsDukq_n",
        "outputId": "78037f34-9d7a-438f-a5a8-563432e1c9e5"
      },
      "outputs": [
        {
          "output_type": "stream",
          "name": "stdout",
          "text": [
            "F1: 0.3214953271028037\n"
          ]
        }
      ],
      "source": [
        "# Объявление модели\n",
        "model_regression = LogisticRegression(random_state=12345, solver='liblinear')\n",
        "\n",
        "# Обучене модели на тренировочной выборке\n",
        "model_regression.fit(features_train, target_train)\n",
        "\n",
        "# Предсказания модели на валидационной выборке\n",
        "predicted_valid_regression = model_regression.predict(features_valid)\n",
        "\n",
        "# Расчет меры F1\n",
        "print(\"F1:\", f1_score(target_valid, predicted_valid_regression))"
      ]
    },
    {
      "cell_type": "code",
      "execution_count": 34,
      "metadata": {
        "scrolled": true,
        "colab": {
          "base_uri": "https://localhost:8080/",
          "height": 330
        },
        "id": "gKFdeMXVkq_n",
        "outputId": "2d80c2b8-30fe-4e47-96e5-fe07d783b891"
      },
      "outputs": [
        {
          "output_type": "stream",
          "name": "stdout",
          "text": [
            "[[1551   42]\n",
            " [ 321   86]]\n"
          ]
        },
        {
          "output_type": "display_data",
          "data": {
            "text/plain": [
              "<Figure size 432x288 with 2 Axes>"
            ],
            "image/png": "[encoded data removed]"
          },
          "metadata": {
            "needs_background": "light"
          }
        }
      ],
      "source": [
        "cm = confusion_matrix(target_valid, predicted_valid_regression)\n",
        "\n",
        "## Print the Confusion Matrix\n",
        "print(cm)\n",
        "\n",
        "ax = sns.heatmap(cm, annot=True, fmt='g');\n",
        "\n",
        "ax.set_title('Confusion Matrix');\n",
        "ax.set_xlabel('Predict')\n",
        "ax.set_ylabel('Target');\n",
        "\n",
        "plt.show()"
      ]
    },
    {
      "cell_type": "code",
      "execution_count": 35,
      "metadata": {
        "colab": {
          "base_uri": "https://localhost:8080/"
        },
        "id": "qQJwtSFhkq_o",
        "outputId": "6e270361-27d2-4414-9157-7b97c5fa774c"
      },
      "outputs": [
        {
          "output_type": "stream",
          "name": "stdout",
          "text": [
            "AUC-ROC: 0.7874237874237874\n"
          ]
        }
      ],
      "source": [
        "# Переберем значения порога\n",
        "probabilities_valid_regression = model_regression.predict_proba(features_valid)\n",
        "\n",
        "# Передадим предсказания единиц\n",
        "probabilities_one_valid_regression = probabilities_valid_regression[:, 1]\n",
        "\n",
        "# Расчет площади под ROC-кривой\n",
        "auc_roc = roc_auc_score(target_valid, probabilities_one_valid_regression)\n",
        "print('AUC-ROC:', auc_roc)"
      ]
    },
    {
      "cell_type": "markdown",
      "metadata": {
        "id": "skjS3Z4ikq_o"
      },
      "source": [
        "**Значение F1 = 0.3214, AUC-ROC = 0.7874. Такое значение обусловлено тем, что модель постоянно предсказывает нули и очень редко единицы (модель предсказала всего 128 единиц в то время как должно быть их 321 + 86 = 407)**"
      ]
    },
    {
      "cell_type": "markdown",
      "metadata": {
        "id": "fV5mIQVskq_o"
      },
      "source": [
        "**Вывод: Модели не справились с задачей:**\n",
        "- DT: F1 = 0.5817\n",
        "- RF: F1 = 0.5822\n",
        "- LR: F1 = 0.3214"
      ]
    },
    {
      "cell_type": "markdown",
      "metadata": {
        "id": "meZj83GNkq_p"
      },
      "source": [
        "**На предсказания моделей могут влиять не только гиперпараметры, но и дисбаланс классов. В следующем разделе будут рассмотрены различные способы борьбы с дисбалансом**"
      ]
    },
    {
      "cell_type": "markdown",
      "metadata": {
        "id": "S8bwWKLxkq_p"
      },
      "source": [
        "## Борьба с дисбалансом"
      ]
    },
    {
      "cell_type": "markdown",
      "metadata": {
        "id": "cVxy0914kq_q"
      },
      "source": [
        "### Взвешивание классов"
      ]
    },
    {
      "cell_type": "markdown",
      "metadata": {
        "id": "n8wt2eWtkq_q"
      },
      "source": [
        "**Этот алгоритм рассмотрит количество классов 1 и 0 в целевом признаке, после чего придаст вес реже встречающемуся классу, равный отношению количества нулей к количеству единиц**"
      ]
    },
    {
      "cell_type": "markdown",
      "metadata": {
        "id": "l4WK4_Gskq_q"
      },
      "source": [
        "#### Модель Logistic Regression"
      ]
    },
    {
      "cell_type": "code",
      "execution_count": 36,
      "metadata": {
        "colab": {
          "base_uri": "https://localhost:8080/"
        },
        "id": "VsRon0qIkq_q",
        "outputId": "8614e345-8564-41b2-8824-f003654e360c"
      },
      "outputs": [
        {
          "output_type": "stream",
          "name": "stdout",
          "text": [
            "F1: 0.5099739809193409\n"
          ]
        }
      ],
      "source": [
        "# Объявление модели\n",
        "model_regression_balanced = LogisticRegression(random_state=12345, solver='liblinear', class_weight='balanced')\n",
        "\n",
        "# Обучене модели на тренировочной выборке\n",
        "model_regression_balanced.fit(features_train, target_train)\n",
        "\n",
        "# Предсказания модели на валидационной выборке\n",
        "predicted_valid_regression_balanced = model_regression_balanced.predict(features_valid)\n",
        "\n",
        "# Расчет меры F1\n",
        "print(\"F1:\", f1_score(target_valid, predicted_valid_regression_balanced))"
      ]
    },
    {
      "cell_type": "markdown",
      "metadata": {
        "id": "ZgfH-oDpkq_r"
      },
      "source": [
        "**Построим матрицу ошибок**"
      ]
    },
    {
      "cell_type": "code",
      "execution_count": 37,
      "metadata": {
        "scrolled": true,
        "colab": {
          "base_uri": "https://localhost:8080/",
          "height": 330
        },
        "id": "ZPaP87hKkq_r",
        "outputId": "02584958-b2cc-45ff-8503-a6851afc6716"
      },
      "outputs": [
        {
          "output_type": "stream",
          "name": "stdout",
          "text": [
            "[[1141  452]\n",
            " [ 113  294]]\n"
          ]
        },
        {
          "output_type": "display_data",
          "data": {
            "text/plain": [
              "<Figure size 432x288 with 2 Axes>"
            ],
            "image/png": "[encoded data removed]"
          },
          "metadata": {
            "needs_background": "light"
          }
        }
      ],
      "source": [
        "cm = confusion_matrix(target_valid, predicted_valid_regression_balanced)\n",
        "\n",
        "## Print the Confusion Matrix\n",
        "print(cm)\n",
        "\n",
        "ax = sns.heatmap(cm, annot=True, fmt='g');\n",
        "\n",
        "ax.set_title('Confusion Matrix');\n",
        "ax.set_xlabel('Predict')\n",
        "ax.set_ylabel('Target');\n",
        "\n",
        "plt.show()"
      ]
    },
    {
      "cell_type": "markdown",
      "metadata": {
        "id": "zyab_fLbkq_r"
      },
      "source": [
        "**Рассмотрим ROC-кривую и площадь под этой кривой - AUC-ROC**"
      ]
    },
    {
      "cell_type": "markdown",
      "metadata": {
        "id": "l_RLftCLkq_r"
      },
      "source": [
        "**TPR измеряется как отношение числа истинно положительных ответов модели к числу всех положительных ответов.  \n",
        "FPR измеряется как отношения ложно положительных ответов модели ко всем отрицательным ответам.  \n",
        "Эти метрики хороши тем, что знаменатель никогда не обращается в ноль, так как количество положительных и отрицательных ответов остается величиной постоянной\n",
        "ROC-кривая откладывает по ox FPR, а по oy TPR.**"
      ]
    },
    {
      "cell_type": "markdown",
      "metadata": {
        "id": "ZPiIBllqkq_r"
      },
      "source": [
        "**Также добавим ROC-кривую случайной модели, чтобы сравнивать ответы обученной модели со случайной и сделать вывод о значимости нашей модели**"
      ]
    },
    {
      "cell_type": "code",
      "execution_count": 38,
      "metadata": {
        "colab": {
          "base_uri": "https://localhost:8080/",
          "height": 330
        },
        "id": "ry7aYWd_kq_s",
        "outputId": "e55d760b-8047-4960-fdb5-31d0340d1f88"
      },
      "outputs": [
        {
          "output_type": "stream",
          "name": "stdout",
          "text": [
            "Площадь под ROC-кривой: 0.7917547748056223\n"
          ]
        },
        {
          "output_type": "execute_result",
          "data": {
            "text/plain": [
              "Text(0.5, 1.0, 'ROC-кривая')"
            ]
          },
          "metadata": {},
          "execution_count": 38
        },
        {
          "output_type": "display_data",
          "data": {
            "text/plain": [
              "<Figure size 432x288 with 1 Axes>"
            ],
            "image/png": "[encoded data removed]"
          },
          "metadata": {
            "needs_background": "light"
          }
        }
      ],
      "source": [
        "# Переберем значения порога, чтобы построить кривую\n",
        "probabilities_valid_regression = model_regression_balanced.predict_proba(features_valid)\n",
        "\n",
        "# Передадим для постройки предсказания единицы\n",
        "probabilities_one_valid_regression = probabilities_valid_regression[:, 1]\n",
        "\n",
        "# Расчет площади под ROC-кривой\n",
        "auc_roc = roc_auc_score(target_valid, probabilities_one_valid_regression)\n",
        "print('Площадь под ROC-кривой:', auc_roc)\n",
        "\n",
        "# Вычисление FPR, TPR и построение кривой\n",
        "fpr, tpr, thresholds = roc_curve(target_valid, probabilities_one_valid_regression)\n",
        "plt.figure()\n",
        "plt.plot(fpr,tpr)\n",
        "\n",
        "# ROC-кривая случайной модели (для наглядности)\n",
        "plt.plot([0, 1], [0, 1], linestyle='--')\n",
        "\n",
        "plt.xlim([0.0,1.0])\n",
        "plt.ylim([0.0,1.0])\n",
        "\n",
        "plt.xlabel('False Positive Rate')\n",
        "plt.ylabel('True Positive Rate')\n",
        "\n",
        "plt.title('ROC-кривая')"
      ]
    },
    {
      "cell_type": "markdown",
      "metadata": {
        "id": "tkSM4O1Xkq_s"
      },
      "source": [
        "**Судя по ROC-кривой модель ведет себя лучше, чем если бы она предсказывала ответы наугад, но среднее гармоническое полноты и точности - метрика F1 (0.5099) оставляет желать лучшего. Способ взвешивания классов не дает нам требуемого результата**"
      ]
    },
    {
      "cell_type": "markdown",
      "metadata": {
        "id": "4rnxwkKskq_t"
      },
      "source": [
        "#### Модель Random Forest"
      ]
    },
    {
      "cell_type": "markdown",
      "metadata": {
        "id": "OFncdW4Vkq_t"
      },
      "source": [
        "**Разберем способ взвешивания классов для Random Forest**"
      ]
    },
    {
      "cell_type": "code",
      "execution_count": 39,
      "metadata": {
        "colab": {
          "base_uri": "https://localhost:8080/"
        },
        "id": "6lpebkFekq_t",
        "outputId": "4a9662a1-ec1e-49a2-d9fb-51700efcf214"
      },
      "outputs": [
        {
          "output_type": "stream",
          "name": "stderr",
          "text": [
            "100%|██████████| 22/22 [02:49<00:00,  7.71s/it]"
          ]
        },
        {
          "output_type": "stream",
          "name": "stdout",
          "text": [
            "Количество деревьев: 30\n",
            "Глубина: 10\n",
            "F1 наилучшей модели: 0.6438188494492044\n"
          ]
        },
        {
          "output_type": "stream",
          "name": "stderr",
          "text": [
            "\n"
          ]
        }
      ],
      "source": [
        "forest_model = None\n",
        "best_result = 0\n",
        "\n",
        "for est in tqdm(range(10, 120, 5)):\n",
        "    for depth in range(1, 20):\n",
        "    \n",
        "        # объявление модели с количеством деревьев, равным est\n",
        "        model_forest = RandomForestClassifier(random_state = 12345, n_estimators = est, max_depth = depth, class_weight='balanced')\n",
        "    \n",
        "        # обучение модели на тренировочной выборке\n",
        "        model_forest.fit(features_train, target_train)\n",
        "    \n",
        "        # Предсказание модели на валидационной выборке\n",
        "        predictions_valid_forest = model_forest.predict(features_valid) \n",
        "\n",
        "        # F1-мера\n",
        "        f1 = f1_score(target_valid, predictions_valid_forest)\n",
        "        #print('F1:', f1)\n",
        "\n",
        "        # Выбор лучшей модели\n",
        "        if f1 > best_result:\n",
        "            model_forest_balanced = model_forest\n",
        "            best_result = f1\n",
        "            best_est = est\n",
        "            best_depth = depth\n",
        "            forest_model_best_predictions = model_forest_balanced.predict(features_valid) \n",
        "\n",
        "print(\"Количество деревьев:\", best_est)        \n",
        "print(\"Глубина:\", best_depth)\n",
        "print(\"F1 наилучшей модели:\", best_result)"
      ]
    },
    {
      "cell_type": "markdown",
      "metadata": {
        "id": "kFeTPig7kq_t"
      },
      "source": [
        "**Построим матрицу ошибок**"
      ]
    },
    {
      "cell_type": "code",
      "execution_count": 40,
      "metadata": {
        "scrolled": false,
        "colab": {
          "base_uri": "https://localhost:8080/",
          "height": 330
        },
        "id": "a2ytPeWtkq_u",
        "outputId": "68ee22c6-530d-48df-d07c-1c0d53d02f1e"
      },
      "outputs": [
        {
          "output_type": "stream",
          "name": "stdout",
          "text": [
            "[[1446  147]\n",
            " [ 144  263]]\n"
          ]
        },
        {
          "output_type": "display_data",
          "data": {
            "text/plain": [
              "<Figure size 432x288 with 2 Axes>"
            ],
            "image/png": "[encoded data removed]"
          },
          "metadata": {
            "needs_background": "light"
          }
        }
      ],
      "source": [
        "cm = confusion_matrix(target_valid, forest_model_best_predictions)\n",
        "\n",
        "## Print the Confusion Matrix\n",
        "print(cm)\n",
        "\n",
        "ax = sns.heatmap(cm, annot=True, fmt='g');\n",
        "\n",
        "ax.set_title('Confusion Matrix');\n",
        "ax.set_xlabel('Predict')\n",
        "ax.set_ylabel('Target');\n",
        "\n",
        "plt.show()"
      ]
    },
    {
      "cell_type": "markdown",
      "metadata": {
        "id": "VzelGsb2kq_u"
      },
      "source": [
        "**Построим ROC-кривую**"
      ]
    },
    {
      "cell_type": "code",
      "execution_count": 41,
      "metadata": {
        "scrolled": true,
        "colab": {
          "base_uri": "https://localhost:8080/",
          "height": 330
        },
        "id": "FxC8YloRkq_u",
        "outputId": "99927000-c7f3-42cf-d924-38f25f2a0b49"
      },
      "outputs": [
        {
          "output_type": "stream",
          "name": "stdout",
          "text": [
            "Площадь под ROC-кривой: 0.8659337303405099\n"
          ]
        },
        {
          "output_type": "execute_result",
          "data": {
            "text/plain": [
              "Text(0.5, 1.0, 'ROC-кривая')"
            ]
          },
          "metadata": {},
          "execution_count": 41
        },
        {
          "output_type": "display_data",
          "data": {
            "text/plain": [
              "<Figure size 432x288 with 1 Axes>"
            ],
            "image/png": "[encoded data removed]"
          },
          "metadata": {
            "needs_background": "light"
          }
        }
      ],
      "source": [
        "# Переберем значения порога, чтобы построить кривую\n",
        "probabilities_valid_forest = model_forest_balanced.predict_proba(features_valid)\n",
        "\n",
        "# Передадим для постройки предсказания единицы\n",
        "probabilities_one_valid_forest = probabilities_valid_forest[:, 1]\n",
        "\n",
        "# Расчет площади под ROC-кривой\n",
        "auc_roc = roc_auc_score(target_valid, probabilities_one_valid_forest)\n",
        "print('Площадь под ROC-кривой:', auc_roc)\n",
        "\n",
        "# Вычисление FPR, TPR и построение кривой\n",
        "fpr, tpr, thresholds = roc_curve(target_valid, probabilities_one_valid_forest)\n",
        "plt.figure()\n",
        "plt.plot(fpr,tpr)\n",
        "\n",
        "# ROC-кривая случайной модели (для наглядности)\n",
        "plt.plot([0, 1], [0, 1], linestyle='--')\n",
        "\n",
        "plt.xlim([0.0,1.0])\n",
        "plt.ylim([0.0,1.0])\n",
        "\n",
        "plt.xlabel('False Positive Rate')\n",
        "plt.ylabel('True Positive Rate')\n",
        "\n",
        "plt.title('ROC-кривая')"
      ]
    },
    {
      "cell_type": "markdown",
      "metadata": {
        "id": "34gmlEMskq_u"
      },
      "source": [
        "**В отличие от логистической регрессии кривая случайного леса показывает себя гораздо лучше. Она начинается со значения TPR выше, что означает, что при нулевой доле ложноположительных ответов доля истинноположительных выше. Также кривая имеет большую крутизну, что положительно характеризует поведение модели**"
      ]
    },
    {
      "cell_type": "markdown",
      "metadata": {
        "id": "109y9Ro8kq_w"
      },
      "source": [
        "### Увеличение выборки"
      ]
    },
    {
      "cell_type": "markdown",
      "metadata": {
        "id": "XiiRUCZUkq_w"
      },
      "source": [
        "**Пропишем функцию upsample, которая будет умножать ответы \"1\" на число repeat, чтобы сравнять соотношения между классами  \n",
        "Параметр repeat примем равным 4, т.к. соотношение классов 1 к 4**"
      ]
    },
    {
      "cell_type": "code",
      "execution_count": 42,
      "metadata": {
        "id": "k5CD-PY0kq_w"
      },
      "outputs": [],
      "source": [
        "def upsample(features, target, repeat):\n",
        "    # Разобьем на 2 части признаки и целевой признак по сценарию: признаки при target = 0 и 1, \n",
        "    # а также целевой признак при target = 0 и 1\n",
        "    features_zeros = features[target == 0]\n",
        "    features_ones = features[target == 1]\n",
        "    target_zeros = target[target == 0]\n",
        "    target_ones = target[target == 1]\n",
        "    \n",
        "    # Далее объединим наши части обратно после домножения более редкого значения (1 в нашем случае)\n",
        "    # на переменную repeat\n",
        "    features_upsampled = pd.concat([features_zeros] + [features_ones] * repeat)\n",
        "    target_upsampled = pd.concat([target_zeros] + [target_ones] * repeat)\n",
        "    \n",
        "    # Перемешаем методом shuffle получившиеся DF для правильного восприятия их моделью\n",
        "    features_upsampled, target_upsampled = shuffle(\n",
        "        features_upsampled, target_upsampled, random_state=12345)\n",
        "    \n",
        "    return features_upsampled, target_upsampled\n",
        "\n",
        "# Вызов функции upsample\n",
        "features_upsampled, target_upsampled = upsample(features_train, target_train, 4)"
      ]
    },
    {
      "cell_type": "markdown",
      "metadata": {
        "id": "FwaIUJTPkq_x"
      },
      "source": [
        "#### Модель Logistic Regression"
      ]
    },
    {
      "cell_type": "code",
      "execution_count": 43,
      "metadata": {
        "colab": {
          "base_uri": "https://localhost:8080/"
        },
        "id": "fnQkWzxykq_x",
        "outputId": "c85562c6-42b2-4749-92c3-0c22e1016e6e"
      },
      "outputs": [
        {
          "output_type": "stream",
          "name": "stdout",
          "text": [
            "F1: 0.5068493150684932\n"
          ]
        }
      ],
      "source": [
        "# Объявление модели\n",
        "model_regression_upsampled = LogisticRegression(random_state = 12345, solver = 'liblinear')\n",
        "\n",
        "# Обучене модели на измененной техникой upsampled выборке\n",
        "model_regression_upsampled.fit(features_upsampled, target_upsampled)\n",
        "\n",
        "# Предсказания модели на валидационной выборке\n",
        "predicted_valid_regression_upsampled = model_regression_upsampled.predict(features_valid)\n",
        "\n",
        "# Расчет меры F1\n",
        "print(\"F1:\", f1_score(target_valid, predicted_valid_regression_upsampled))"
      ]
    },
    {
      "cell_type": "markdown",
      "metadata": {
        "id": "5dqqgCRYkq_x"
      },
      "source": [
        "**Матрица ошибок**"
      ]
    },
    {
      "cell_type": "code",
      "execution_count": 44,
      "metadata": {
        "scrolled": false,
        "colab": {
          "base_uri": "https://localhost:8080/",
          "height": 330
        },
        "id": "UAxclcjmkq_x",
        "outputId": "cef79570-c0eb-4c5f-ca6a-07e53921be0e"
      },
      "outputs": [
        {
          "output_type": "stream",
          "name": "stdout",
          "text": [
            "[[1128  465]\n",
            " [ 111  296]]\n"
          ]
        },
        {
          "output_type": "display_data",
          "data": {
            "text/plain": [
              "<Figure size 432x288 with 2 Axes>"
            ],
            "image/png": "[encoded data removed]"
          },
          "metadata": {
            "needs_background": "light"
          }
        }
      ],
      "source": [
        "cm = confusion_matrix(target_valid, predicted_valid_regression_upsampled)\n",
        "\n",
        "## Print the Confusion Matrix\n",
        "print(cm)\n",
        "\n",
        "ax = sns.heatmap(cm, annot=True, fmt='g');\n",
        "\n",
        "ax.set_title('Confusion Matrix');\n",
        "ax.set_xlabel('Predict')\n",
        "ax.set_ylabel('Target');\n",
        "\n",
        "plt.show()"
      ]
    },
    {
      "cell_type": "markdown",
      "metadata": {
        "id": "MGjkr15Ekq_y"
      },
      "source": [
        "**ROC-кривая и AUC-ROC**"
      ]
    },
    {
      "cell_type": "code",
      "execution_count": 45,
      "metadata": {
        "scrolled": true,
        "colab": {
          "base_uri": "https://localhost:8080/",
          "height": 330
        },
        "id": "I6EIgmC8kq_y",
        "outputId": "d2f439f0-be5e-4f3f-ece7-a19389a7e1a7"
      },
      "outputs": [
        {
          "output_type": "stream",
          "name": "stdout",
          "text": [
            "Площадь под ROC-кривой: 0.7917995036639105\n"
          ]
        },
        {
          "output_type": "execute_result",
          "data": {
            "text/plain": [
              "Text(0.5, 1.0, 'ROC-кривая')"
            ]
          },
          "metadata": {},
          "execution_count": 45
        },
        {
          "output_type": "display_data",
          "data": {
            "text/plain": [
              "<Figure size 432x288 with 1 Axes>"
            ],
            "image/png": "[encoded data removed]"
          },
          "metadata": {
            "needs_background": "light"
          }
        }
      ],
      "source": [
        "# Переберем значения порога, чтобы построить кривую\n",
        "probabilities_valid_regression_upsampled = model_regression_upsampled.predict_proba(features_valid)\n",
        "\n",
        "# Передадим для постройки предсказания единицы\n",
        "probabilities_one_valid_regression_upsampled = probabilities_valid_regression_upsampled[:, 1]\n",
        "\n",
        "# Расчет площади под ROC-кривой\n",
        "auc_roc = roc_auc_score(target_valid, probabilities_one_valid_regression_upsampled)\n",
        "print('Площадь под ROC-кривой:', auc_roc)\n",
        "\n",
        "# Вычисление FPR, TPR и построение кривой\n",
        "fpr, tpr, thresholds = roc_curve(target_valid, probabilities_one_valid_regression_upsampled)\n",
        "plt.figure()\n",
        "plt.plot(fpr,tpr)\n",
        "\n",
        "# ROC-кривая случайной модели (для наглядности)\n",
        "plt.plot([0, 1], [0, 1], linestyle='--')\n",
        "\n",
        "plt.xlim([0.0,1.0])\n",
        "plt.ylim([0.0,1.0])\n",
        "\n",
        "plt.xlabel('False Positive Rate')\n",
        "plt.ylabel('True Positive Rate')\n",
        "\n",
        "plt.title('ROC-кривая')"
      ]
    },
    {
      "cell_type": "markdown",
      "metadata": {
        "id": "rTmnOzm8kq_y"
      },
      "source": [
        "**По сравнению с предыдущим методом метрики F1 и AUC-ROC не изменились, либо показали результат хуже. Такая модель все еще не подходит под желаемое условие минимум в 0.59**"
      ]
    },
    {
      "cell_type": "markdown",
      "metadata": {
        "id": "6VWr_KSFkq_z"
      },
      "source": [
        "#### Модель Random Forest"
      ]
    },
    {
      "cell_type": "code",
      "execution_count": 46,
      "metadata": {
        "colab": {
          "base_uri": "https://localhost:8080/"
        },
        "id": "ksgfxFeWkq_0",
        "outputId": "e67b705d-65a3-46cc-9b1a-9e7b167eb992"
      },
      "outputs": [
        {
          "output_type": "stream",
          "name": "stderr",
          "text": [
            "100%|██████████| 22/22 [03:53<00:00, 10.62s/it]"
          ]
        },
        {
          "output_type": "stream",
          "name": "stdout",
          "text": [
            "Количество деревьев: 115\n",
            "Глубина: 11\n",
            "F1 наилучшей модели: 0.6405529953917051\n"
          ]
        },
        {
          "output_type": "stream",
          "name": "stderr",
          "text": [
            "\n"
          ]
        }
      ],
      "source": [
        "model_forest_upsampled = None\n",
        "best_result = 0\n",
        "\n",
        "for est in tqdm(range(10, 120, 5)):\n",
        "    for depth in range(1, 20):\n",
        "    \n",
        "        # объявление модели с количеством деревьев, равным est\n",
        "        model_forest_upsampled = RandomForestClassifier(random_state = 12345, n_estimators = est, max_depth = depth, class_weight='balanced')\n",
        "    \n",
        "        # обучение модели на тренировочной выборке\n",
        "        model_forest_upsampled.fit(features_upsampled, target_upsampled)\n",
        "    \n",
        "        # Предсказание модели на валидационной выборке\n",
        "        predictions_valid_forest = model_forest_upsampled.predict(features_valid) \n",
        "\n",
        "        # F1-мера\n",
        "        f1 = f1_score(target_valid, predictions_valid_forest)\n",
        "        #print('F1:', f1)\n",
        "\n",
        "        # Выбор лучшей модели\n",
        "        if f1 > best_result:\n",
        "            model_forest_upsampled = model_forest_upsampled\n",
        "            best_result = f1\n",
        "            best_est = est\n",
        "            best_depth = depth\n",
        "            predictions_valid_forest_upsampled = model_forest_upsampled.predict(features_valid) \n",
        "\n",
        "print(\"Количество деревьев:\", best_est)        \n",
        "print(\"Глубина:\", best_depth)\n",
        "print(\"F1 наилучшей модели:\", best_result)"
      ]
    },
    {
      "cell_type": "markdown",
      "metadata": {
        "id": "wb_euOeCkq_0"
      },
      "source": [
        "**Матрица ошибок**"
      ]
    },
    {
      "cell_type": "code",
      "execution_count": 47,
      "metadata": {
        "colab": {
          "base_uri": "https://localhost:8080/",
          "height": 330
        },
        "id": "kvn-EhbQkq_0",
        "outputId": "3e21f7c6-ec31-49d9-9c7b-b7c58095df16"
      },
      "outputs": [
        {
          "output_type": "stream",
          "name": "stdout",
          "text": [
            "[[1410  183]\n",
            " [ 129  278]]\n"
          ]
        },
        {
          "output_type": "display_data",
          "data": {
            "text/plain": [
              "<Figure size 432x288 with 2 Axes>"
            ],
            "image/png": "[encoded data removed]"
          },
          "metadata": {
            "needs_background": "light"
          }
        }
      ],
      "source": [
        "cm = confusion_matrix(target_valid, predictions_valid_forest_upsampled)\n",
        "\n",
        "## Print the Confusion Matrix\n",
        "print(cm)\n",
        "\n",
        "ax = sns.heatmap(cm, annot=True, fmt='g');\n",
        "\n",
        "ax.set_title('Confusion Matrix');\n",
        "ax.set_xlabel('Predict')\n",
        "ax.set_ylabel('Target');\n",
        "\n",
        "plt.show()"
      ]
    },
    {
      "cell_type": "markdown",
      "metadata": {
        "id": "b-g95mYIkq_1"
      },
      "source": [
        "**ROC-кривая и AUC-ROC**"
      ]
    },
    {
      "cell_type": "code",
      "execution_count": 48,
      "metadata": {
        "scrolled": true,
        "colab": {
          "base_uri": "https://localhost:8080/",
          "height": 330
        },
        "id": "T2UjnWVpkq_1",
        "outputId": "24c3f696-fe02-43ab-d4e6-e97f363e1980"
      },
      "outputs": [
        {
          "output_type": "stream",
          "name": "stdout",
          "text": [
            "Площадь под ROC-кривой: 0.8532824041298618\n"
          ]
        },
        {
          "output_type": "execute_result",
          "data": {
            "text/plain": [
              "Text(0.5, 1.0, 'ROC-кривая')"
            ]
          },
          "metadata": {},
          "execution_count": 48
        },
        {
          "output_type": "display_data",
          "data": {
            "text/plain": [
              "<Figure size 432x288 with 1 Axes>"
            ],
            "image/png": "[encoded data removed]"
          },
          "metadata": {
            "needs_background": "light"
          }
        }
      ],
      "source": [
        "# Переберем значения порога, чтобы построить кривую\n",
        "probabilities_valid_forest_upsampled = model_forest_upsampled.predict_proba(features_valid)\n",
        "\n",
        "# Передадим для постройки предсказания единицы\n",
        "probabilities_one_valid_forest_upsampled = probabilities_valid_forest_upsampled[:, 1]\n",
        "\n",
        "# Расчет площади под ROC-кривой\n",
        "auc_roc = roc_auc_score(target_valid, probabilities_one_valid_forest_upsampled)\n",
        "print('Площадь под ROC-кривой:', auc_roc)\n",
        "\n",
        "# Вычисление FPR, TPR и построение кривой\n",
        "fpr, tpr, thresholds = roc_curve(target_valid, probabilities_one_valid_forest_upsampled)\n",
        "plt.figure()\n",
        "plt.plot(fpr,tpr)\n",
        "\n",
        "# ROC-кривая случайной модели (для наглядности)\n",
        "plt.plot([0, 1], [0, 1], linestyle='--')\n",
        "\n",
        "plt.xlim([0.0,1.0])\n",
        "plt.ylim([0.0,1.0])\n",
        "\n",
        "plt.xlabel('False Positive Rate')\n",
        "plt.ylabel('True Positive Rate')\n",
        "\n",
        "plt.title('ROC-кривая')"
      ]
    },
    {
      "cell_type": "markdown",
      "metadata": {
        "id": "WPOGYTrakq_2"
      },
      "source": [
        "**Значения метрик F1 и AUC-ROC ухудшились**"
      ]
    },
    {
      "cell_type": "markdown",
      "metadata": {
        "id": "PdYeE-nckq_3"
      },
      "source": [
        "### Уменьшение выборки"
      ]
    },
    {
      "cell_type": "markdown",
      "metadata": {
        "id": "hdeNGy4Mkq_3"
      },
      "source": [
        "**Пропишем функцию downsample, которая будет умножать ответы \"0\" на число fraction, чтобы сравнять соотношения между классами  \n",
        "Параметр fraction = 2037/7963 = 0.2558**"
      ]
    },
    {
      "cell_type": "code",
      "execution_count": 49,
      "metadata": {
        "id": "TIVH03lwkq_4"
      },
      "outputs": [],
      "source": [
        "def downsample(features, target, fraction):\n",
        "    # Разобьем на 2 части признаки и целевой признак по сценарию: признаки при target = 0 и 1, \n",
        "    # а также целевой признак при target = 0 и 1    \n",
        "    features_zeros = features[target == 0]\n",
        "    features_ones = features[target == 1]\n",
        "    target_zeros = target[target == 0]\n",
        "    target_ones = target[target == 1]\n",
        "\n",
        "    # Далее объединим наши части обратно после домножения более частого значения (0 в нашем случае)\n",
        "    # на переменную fraction\n",
        "    features_downsampled = pd.concat(\n",
        "        [features_zeros.sample(frac=fraction, random_state=12345)] + [features_ones])\n",
        "    target_downsampled = pd.concat(\n",
        "        [target_zeros.sample(frac=fraction, random_state=12345)] + [target_ones])\n",
        "    # Перемешаем методом shuffle получившиеся DF для правильного восприятия их моделью    \n",
        "    features_downsampled, target_downsampled = shuffle(\n",
        "        features_downsampled, target_downsampled, random_state=12345)\n",
        "    \n",
        "    return features_downsampled, target_downsampled\n",
        "# Вызов функции downsample\n",
        "features_downsampled, target_downsampled = downsample(features_train, target_train, 0.2558)"
      ]
    },
    {
      "cell_type": "markdown",
      "metadata": {
        "id": "tLjwH9Jikq_5"
      },
      "source": [
        "#### Модель Logistic Regression"
      ]
    },
    {
      "cell_type": "code",
      "execution_count": 50,
      "metadata": {
        "colab": {
          "base_uri": "https://localhost:8080/"
        },
        "id": "BBg1YOuLkq_5",
        "outputId": "0f7cdf76-5d77-48de-eb9d-cbe3ad208a11"
      },
      "outputs": [
        {
          "output_type": "stream",
          "name": "stdout",
          "text": [
            "F1: 0.5100436681222706\n"
          ]
        }
      ],
      "source": [
        "model_regression_downsampled = LogisticRegression(random_state = 12345, solver = 'liblinear')\n",
        "model_regression_downsampled.fit(features_downsampled, target_downsampled)\n",
        "predicted_valid_regression_downsampled = model_regression_downsampled.predict(features_valid)\n",
        "\n",
        "print(\"F1:\", f1_score(target_valid, predicted_valid_regression_downsampled))"
      ]
    },
    {
      "cell_type": "markdown",
      "metadata": {
        "id": "b49-PFSAkq_6"
      },
      "source": [
        "**Матрица ошибок**"
      ]
    },
    {
      "cell_type": "code",
      "execution_count": 51,
      "metadata": {
        "colab": {
          "base_uri": "https://localhost:8080/",
          "height": 330
        },
        "id": "Y3QeVu7Dkq_6",
        "outputId": "2b94786d-f64a-49f9-abb5-82f863ba2eae"
      },
      "outputs": [
        {
          "output_type": "stream",
          "name": "stdout",
          "text": [
            "[[1147  446]\n",
            " [ 115  292]]\n"
          ]
        },
        {
          "output_type": "display_data",
          "data": {
            "text/plain": [
              "<Figure size 432x288 with 2 Axes>"
            ],
            "image/png": "[encoded data removed]"
          },
          "metadata": {
            "needs_background": "light"
          }
        }
      ],
      "source": [
        "cm = confusion_matrix(target_valid, predicted_valid_regression_downsampled)\n",
        "\n",
        "## Print the Confusion Matrix\n",
        "print(cm)\n",
        "\n",
        "ax = sns.heatmap(cm, annot=True, fmt='g');\n",
        "\n",
        "ax.set_title('Confusion Matrix');\n",
        "ax.set_xlabel('Predict')\n",
        "ax.set_ylabel('Target');\n",
        "\n",
        "plt.show()"
      ]
    },
    {
      "cell_type": "markdown",
      "metadata": {
        "id": "kxuwPRRxkq_7"
      },
      "source": [
        "**ROC-кривая и AUC-ROC**"
      ]
    },
    {
      "cell_type": "code",
      "execution_count": 52,
      "metadata": {
        "scrolled": true,
        "colab": {
          "base_uri": "https://localhost:8080/",
          "height": 330
        },
        "id": "LNbG8IqBkq_7",
        "outputId": "733eddf8-0dae-4446-e4e8-1d19b5b47f19"
      },
      "outputs": [
        {
          "output_type": "stream",
          "name": "stdout",
          "text": [
            "Площадь под ROC-кривой: 0.7908416891467739\n"
          ]
        },
        {
          "output_type": "execute_result",
          "data": {
            "text/plain": [
              "Text(0.5, 1.0, 'ROC-кривая')"
            ]
          },
          "metadata": {},
          "execution_count": 52
        },
        {
          "output_type": "display_data",
          "data": {
            "text/plain": [
              "<Figure size 432x288 with 1 Axes>"
            ],
            "image/png": "[encoded data removed]"
          },
          "metadata": {
            "needs_background": "light"
          }
        }
      ],
      "source": [
        "# Переберем значения порога, чтобы построить кривую\n",
        "probabilities_valid_regression_downsampled = model_regression_downsampled.predict_proba(features_valid)\n",
        "\n",
        "# Передадим для постройки предсказания единицы\n",
        "probabilities_one_valid_regression_downsampled = probabilities_valid_regression_downsampled[:, 1]\n",
        "\n",
        "# Расчет площади под ROC-кривой\n",
        "auc_roc = roc_auc_score(target_valid, probabilities_one_valid_regression_downsampled)\n",
        "print('Площадь под ROC-кривой:', auc_roc)\n",
        "\n",
        "# Вычисление FPR, TPR и построение кривой\n",
        "fpr, tpr, thresholds = roc_curve(target_valid, probabilities_one_valid_regression_downsampled)\n",
        "plt.figure()\n",
        "plt.plot(fpr,tpr)\n",
        "\n",
        "# ROC-кривая случайной модели (для наглядности)\n",
        "plt.plot([0, 1], [0, 1], linestyle='--')\n",
        "\n",
        "plt.xlim([0.0,1.0])\n",
        "plt.ylim([0.0,1.0])\n",
        "\n",
        "plt.xlabel('False Positive Rate')\n",
        "plt.ylabel('True Positive Rate')\n",
        "\n",
        "plt.title('ROC-кривая')"
      ]
    },
    {
      "cell_type": "markdown",
      "metadata": {
        "id": "zjHA2Kuakq_8"
      },
      "source": [
        "#### Модель Random Forest"
      ]
    },
    {
      "cell_type": "code",
      "execution_count": 54,
      "metadata": {
        "colab": {
          "base_uri": "https://localhost:8080/"
        },
        "id": "nDtqV7GXkq_9",
        "outputId": "0da28755-6961-4460-d2ab-50a2edf4f3c8"
      },
      "outputs": [
        {
          "output_type": "stream",
          "name": "stderr",
          "text": [
            "100%|██████████| 22/22 [03:52<00:00, 10.57s/it]"
          ]
        },
        {
          "output_type": "stream",
          "name": "stdout",
          "text": [
            "Количество деревьев: 115\n",
            "Глубина: 11\n",
            "F1 наилучшей модели: 0.6405529953917051\n"
          ]
        },
        {
          "output_type": "stream",
          "name": "stderr",
          "text": [
            "\n"
          ]
        }
      ],
      "source": [
        "model_forest_downsampled = None\n",
        "best_result = 0\n",
        "\n",
        "for est in tqdm(range(10, 120, 5)):\n",
        "    for depth in range(1, 20):\n",
        "    \n",
        "        # объявление модели с количеством деревьев, равным est\n",
        "        model_forest_downsampled = RandomForestClassifier(random_state = 12345, n_estimators = est, max_depth = depth, class_weight='balanced')\n",
        "    \n",
        "        # обучение модели на тренировочной выборке\n",
        "        model_forest_downsampled.fit(features_upsampled, target_upsampled)\n",
        "    \n",
        "        # Предсказание модели на валидационной выборке\n",
        "        predictions_valid_forest = model_forest_downsampled.predict(features_valid) \n",
        "\n",
        "        # F1-мера\n",
        "        f1 = f1_score(target_valid, predictions_valid_forest)\n",
        "        #print('F1:', f1)\n",
        "\n",
        "        # Выбор лучшей модели\n",
        "        if f1 > best_result:\n",
        "            model_forest_downsampled = model_forest_downsampled\n",
        "            best_result = f1\n",
        "            best_est = est\n",
        "            best_depth = depth\n",
        "            predictions_valid_forest_downsampled = predictions_valid_forest\n",
        "\n",
        "print(\"Количество деревьев:\", best_est)        \n",
        "print(\"Глубина:\", best_depth)\n",
        "print(\"F1 наилучшей модели:\", best_result)"
      ]
    },
    {
      "cell_type": "markdown",
      "metadata": {
        "id": "P6NoMKymkq_9"
      },
      "source": [
        "**Матрица ошибок**"
      ]
    },
    {
      "cell_type": "code",
      "execution_count": 55,
      "metadata": {
        "colab": {
          "base_uri": "https://localhost:8080/",
          "height": 330
        },
        "id": "cr5o5aVwkq_9",
        "outputId": "011b946a-b74f-4ffa-bed5-839905d063e4"
      },
      "outputs": [
        {
          "output_type": "stream",
          "name": "stdout",
          "text": [
            "[[1410  183]\n",
            " [ 129  278]]\n"
          ]
        },
        {
          "output_type": "display_data",
          "data": {
            "text/plain": [
              "<Figure size 432x288 with 2 Axes>"
            ],
            "image/png": "[encoded data removed]"
          },
          "metadata": {
            "needs_background": "light"
          }
        }
      ],
      "source": [
        "cm = confusion_matrix(target_valid, predictions_valid_forest_downsampled)\n",
        "\n",
        "## Print the Confusion Matrix\n",
        "print(cm)\n",
        "\n",
        "ax = sns.heatmap(cm, annot=True, fmt='g');\n",
        "\n",
        "ax.set_title('Confusion Matrix');\n",
        "ax.set_xlabel('Predict')\n",
        "ax.set_ylabel('Target');\n",
        "\n",
        "plt.show()"
      ]
    },
    {
      "cell_type": "markdown",
      "metadata": {
        "id": "BVaP4ci7kq_-"
      },
      "source": [
        "**ROC-кривая и AUC-ROC**"
      ]
    },
    {
      "cell_type": "code",
      "execution_count": 56,
      "metadata": {
        "scrolled": true,
        "colab": {
          "base_uri": "https://localhost:8080/",
          "height": 330
        },
        "id": "DuTrTXmNkq_-",
        "outputId": "fcdaed6d-8d20-4523-b5f5-da62f3642b70"
      },
      "outputs": [
        {
          "output_type": "stream",
          "name": "stdout",
          "text": [
            "Площадь под ROC-кривой: 0.8532824041298618\n"
          ]
        },
        {
          "output_type": "execute_result",
          "data": {
            "text/plain": [
              "Text(0.5, 1.0, 'ROC-кривая')"
            ]
          },
          "metadata": {},
          "execution_count": 56
        },
        {
          "output_type": "display_data",
          "data": {
            "text/plain": [
              "<Figure size 432x288 with 1 Axes>"
            ],
            "image/png": "[encoded data removed]"
          },
          "metadata": {
            "needs_background": "light"
          }
        }
      ],
      "source": [
        "# Переберем значения порога, чтобы построить кривую\n",
        "probabilities_valid_forest_downsampled = model_forest_downsampled.predict_proba(features_valid)\n",
        "\n",
        "# Передадим для постройки предсказания единицы\n",
        "probabilities_one_valid_forest_downsampled = probabilities_valid_forest_downsampled[:, 1]\n",
        "\n",
        "# Расчет площади под ROC-кривой\n",
        "auc_roc = roc_auc_score(target_valid, probabilities_one_valid_forest_downsampled)\n",
        "print('Площадь под ROC-кривой:', auc_roc)\n",
        "\n",
        "# Вычисление FPR, TPR и построение кривой\n",
        "fpr, tpr, thresholds = roc_curve(target_valid, probabilities_one_valid_forest_downsampled)\n",
        "plt.figure()\n",
        "plt.plot(fpr,tpr)\n",
        "\n",
        "# ROC-кривая случайной модели (для наглядности)\n",
        "plt.plot([0, 1], [0, 1], linestyle='--')\n",
        "\n",
        "plt.xlim([0.0,1.0])\n",
        "plt.ylim([0.0,1.0])\n",
        "\n",
        "plt.xlabel('False Positive Rate')\n",
        "plt.ylabel('True Positive Rate')\n",
        "\n",
        "plt.title('ROC-кривая')"
      ]
    },
    {
      "cell_type": "markdown",
      "metadata": {
        "id": "wYBmi1SWkrAA"
      },
      "source": [
        "**Вывод:**"
      ]
    },
    {
      "cell_type": "markdown",
      "metadata": {
        "id": "3WWOj-7SkrAA"
      },
      "source": [
        "**Способ взвешивания классов:**\n",
        "- LR: F1 = 0.5099, AUC-ROC = 0.7917\n",
        "- RF: F1 = 0.6435, AUC-ROC = 0.8710"
      ]
    },
    {
      "cell_type": "markdown",
      "metadata": {
        "id": "D605TAP-krAA"
      },
      "source": [
        "**Способ увеличения выборки:**\n",
        "- LR: F1 = 0.5068, AUC-ROC = 0.7917\n",
        "- RF: F1 = 0.0.6364, AUC-ROC = 0.8550"
      ]
    },
    {
      "cell_type": "markdown",
      "metadata": {
        "id": "PreMDYOIkrAA"
      },
      "source": [
        "**Способ уменьшения выборки:**\n",
        "- LR: F1 = 0.5100, AUC-ROC = 0.7908\n",
        "- RF: F1 = 0.6364, AUC-ROC = 0.8550"
      ]
    },
    {
      "cell_type": "markdown",
      "metadata": {
        "id": "9LEHzGMmkrAA"
      },
      "source": [
        "**По сути, уменьшение и увеличение выборки не сильно отличаются друг от друга. Опытным путем было выяснено, что метрика F1 одинакова для этих способов для RF, а для LR отличается на тысячные доли. Способ взвешивания классов показал себя лучше остальных, поэтому для тестирования будем использовать именно его**"
      ]
    },
    {
      "cell_type": "markdown",
      "metadata": {
        "id": "S8JbzlbRkrAB"
      },
      "source": [
        "## Тестирование модели"
      ]
    },
    {
      "cell_type": "markdown",
      "metadata": {
        "id": "-eB0a36akrAB"
      },
      "source": [
        "**Переобучим модель с наилучшими параметрами и наилучшим результатом после работы с дибалансом на объединенной train и valid выборке**"
      ]
    },
    {
      "cell_type": "code",
      "execution_count": 57,
      "metadata": {
        "id": "B3HA1l9IkrAB"
      },
      "outputs": [],
      "source": [
        "full_features = pd.concat([features_train] + [features_valid])\n",
        "full_target = pd.concat([target_train] + [target_valid]) "
      ]
    },
    {
      "cell_type": "code",
      "execution_count": 58,
      "metadata": {
        "scrolled": true,
        "colab": {
          "base_uri": "https://localhost:8080/"
        },
        "id": "1haPc_GwkrAC",
        "outputId": "511a63b9-c13f-4868-e0be-eda9d4a6f29a"
      },
      "outputs": [
        {
          "output_type": "stream",
          "name": "stdout",
          "text": [
            "F1: 0.6489479512735327\n"
          ]
        }
      ],
      "source": [
        "model_forest = RandomForestClassifier(random_state = 12345, n_estimators = 110, max_depth = 9, class_weight='balanced')\n",
        "    \n",
        "# обучение модели на тренировочной выборке\n",
        "model_forest.fit(full_features, full_target)\n",
        "    \n",
        "# Предсказание модели на валидационной выборке\n",
        "predictions_test_forest = model_forest.predict(features_test) \n",
        "\n",
        "# F1-мера\n",
        "f1 = f1_score(target_test, predictions_test_forest)\n",
        "print('F1:', f1)\n"
      ]
    },
    {
      "cell_type": "code",
      "execution_count": 59,
      "metadata": {
        "colab": {
          "base_uri": "https://localhost:8080/",
          "height": 330
        },
        "id": "YL4uOuwzkrAD",
        "outputId": "df49583b-5765-4fb0-8e90-a3f9b3f19bce"
      },
      "outputs": [
        {
          "output_type": "stream",
          "name": "stdout",
          "text": [
            "[[1178  415]\n",
            " [ 326   81]]\n"
          ]
        },
        {
          "output_type": "display_data",
          "data": {
            "text/plain": [
              "<Figure size 432x288 with 2 Axes>"
            ],
            "image/png": "[encoded data removed]"
          },
          "metadata": {
            "needs_background": "light"
          }
        }
      ],
      "source": [
        "cm = confusion_matrix(target_valid, predictions_test_forest)\n",
        "\n",
        "## Print the Confusion Matrix\n",
        "print(cm)\n",
        "\n",
        "ax = sns.heatmap(cm, annot=True, fmt='g');\n",
        "\n",
        "ax.set_title('Confusion Matrix');\n",
        "ax.set_xlabel('Predict')\n",
        "ax.set_ylabel('Target');\n",
        "\n",
        "plt.show()"
      ]
    },
    {
      "cell_type": "code",
      "execution_count": 60,
      "metadata": {
        "scrolled": false,
        "colab": {
          "base_uri": "https://localhost:8080/",
          "height": 330
        },
        "id": "xM271iVekrAD",
        "outputId": "ac6b1ca6-72a5-42c6-c42f-4eedd8a8c05d"
      },
      "outputs": [
        {
          "output_type": "stream",
          "name": "stdout",
          "text": [
            "Площадь под ROC-кривой: 0.8686791568147502\n"
          ]
        },
        {
          "output_type": "execute_result",
          "data": {
            "text/plain": [
              "Text(0.5, 1.0, 'ROC-кривая')"
            ]
          },
          "metadata": {},
          "execution_count": 60
        },
        {
          "output_type": "display_data",
          "data": {
            "text/plain": [
              "<Figure size 432x288 with 1 Axes>"
            ],
            "image/png": "[encoded data removed]"
          },
          "metadata": {
            "needs_background": "light"
          }
        }
      ],
      "source": [
        "probabilities_test = model_forest.predict_proba(features_test)\n",
        "probabilities_one_test = probabilities_test[:, 1]\n",
        "auc_roc = roc_auc_score(target_test, probabilities_one_test)\n",
        "print('Площадь под ROC-кривой:', auc_roc)\n",
        "\n",
        "fpr, tpr, thresholds = roc_curve(target_test, probabilities_one_test)\n",
        "plt.figure()\n",
        "plt.plot(fpr,tpr)\n",
        "\n",
        "# ROC-кривая случайной модели (для наглядности)\n",
        "plt.plot([0, 1], [0, 1], linestyle='--')\n",
        "\n",
        "plt.xlim([0.0,1.0])\n",
        "plt.ylim([0.0,1.0])\n",
        "\n",
        "plt.xlabel('False Positive Rate')\n",
        "plt.ylabel('True Positive Rate')\n",
        "\n",
        "plt.title('ROC-кривая')"
      ]
    },
    {
      "cell_type": "markdown",
      "metadata": {
        "id": "tk97w4TGkrAE"
      },
      "source": [
        "**Были получены самые высокие значения метрик. Во многом благодаря объединению тренировочной и ставшей уже ненужной валидационной выборки, а также вследствие использования функции взвешивания классов\n",
        "Результаты:**\n",
        "- F1 = 0.6466\n",
        "- AUC-ROC = 0.8687\n"
      ]
    },
    {
      "cell_type": "markdown",
      "metadata": {
        "id": "vWpRwpN7krAE"
      },
      "source": [
        "## Вывод"
      ]
    },
    {
      "cell_type": "markdown",
      "metadata": {
        "id": "LWggqXFpkrAF"
      },
      "source": [
        "**Вывод: построена модель, предсказывающая, уйдет ли клиент из банка**\n",
        "- Проведена предобработка данных\n",
        "- Выполнено деление на признаки и целевой признак, а также на тренировочную, валидационную и тестовую выборки в соотношении 3:1:1\n",
        "- Проведено исследование работы моделей, учитывающих и не учитывающих дизбаланс классов\n",
        "- Было выяснено, что на предсказания моделей вляют не только гиперпараметры, но и дисбаланс классов в целевом признаке\n",
        "- Построена модель, показавшая себя лучше остальных на тестовой выборке"
      ]
    },
    {
      "cell_type": "markdown",
      "metadata": {
        "id": "xIpdr1UYkrAF"
      },
      "source": [
        "**Модель справилась с поставленной задачей: метрика F1 превысила значение 0.59. Проведено сравнение со случайной моделью на графике ROC-кривой: кривая обученной модели целиком находится выше кривой случайной модели, что подтверждает успех проведенной работы. Если быть точнее, то при изменении порога процент точек класса 1, которые верно определены моделью (судя по графику) будет всегда выше, чем процент точек класса 1, определенных неверно. Успех данной метрики определяется близостью к единице площади под ROC-кривой, что, по сути, означает идеальное предсказание всех единиц там, где они действительно должны быть**"
      ]
    }
  ],
  "metadata": {
    "ExecuteTimeLog": [
      {
        "duration": 415,
        "start_time": "2022-09-09T20:36:12.595Z"
      },
      {
        "duration": 80,
        "start_time": "2022-09-09T20:36:29.898Z"
      },
      {
        "duration": 17,
        "start_time": "2022-09-09T20:37:12.217Z"
      },
      {
        "duration": 7,
        "start_time": "2022-09-09T20:39:47.147Z"
      },
      {
        "duration": 57,
        "start_time": "2022-09-09T20:42:02.749Z"
      },
      {
        "duration": 4,
        "start_time": "2022-09-09T20:42:07.682Z"
      },
      {
        "duration": 5,
        "start_time": "2022-09-09T20:42:47.755Z"
      },
      {
        "duration": 4,
        "start_time": "2022-09-09T20:43:23.832Z"
      },
      {
        "duration": 22,
        "start_time": "2022-09-09T20:45:56.477Z"
      },
      {
        "duration": 7,
        "start_time": "2022-09-09T20:46:16.337Z"
      },
      {
        "duration": 4,
        "start_time": "2022-09-09T20:47:12.325Z"
      },
      {
        "duration": 6,
        "start_time": "2022-09-09T20:47:28.348Z"
      },
      {
        "duration": 5,
        "start_time": "2022-09-09T20:49:32.909Z"
      },
      {
        "duration": 47,
        "start_time": "2022-09-09T20:50:26.307Z"
      },
      {
        "duration": 21,
        "start_time": "2022-09-09T20:50:31.269Z"
      },
      {
        "duration": 27,
        "start_time": "2022-09-09T20:51:20.549Z"
      },
      {
        "duration": 20,
        "start_time": "2022-09-09T20:51:45.609Z"
      },
      {
        "duration": 9,
        "start_time": "2022-09-09T20:52:10.878Z"
      },
      {
        "duration": 6,
        "start_time": "2022-09-09T20:52:24.632Z"
      },
      {
        "duration": 4,
        "start_time": "2022-09-09T20:53:24.075Z"
      },
      {
        "duration": 6,
        "start_time": "2022-09-09T20:53:50.605Z"
      },
      {
        "duration": 7,
        "start_time": "2022-09-09T20:54:26.171Z"
      },
      {
        "duration": 7,
        "start_time": "2022-09-09T20:54:37.653Z"
      },
      {
        "duration": 6,
        "start_time": "2022-09-09T20:54:42.386Z"
      },
      {
        "duration": 6,
        "start_time": "2022-09-09T20:55:05.332Z"
      },
      {
        "duration": 6,
        "start_time": "2022-09-09T20:55:32.359Z"
      },
      {
        "duration": 5,
        "start_time": "2022-09-09T20:56:00.261Z"
      },
      {
        "duration": 7,
        "start_time": "2022-09-09T20:56:44.109Z"
      },
      {
        "duration": 7,
        "start_time": "2022-09-09T20:57:30.700Z"
      },
      {
        "duration": 6,
        "start_time": "2022-09-09T20:57:47.264Z"
      },
      {
        "duration": 10,
        "start_time": "2022-09-09T20:58:24.078Z"
      },
      {
        "duration": 9,
        "start_time": "2022-09-09T20:58:30.882Z"
      },
      {
        "duration": 10,
        "start_time": "2022-09-09T20:58:49.682Z"
      },
      {
        "duration": 10,
        "start_time": "2022-09-09T20:59:17.151Z"
      },
      {
        "duration": 11,
        "start_time": "2022-09-09T20:59:44.411Z"
      },
      {
        "duration": 10,
        "start_time": "2022-09-09T21:00:06.830Z"
      },
      {
        "duration": 9,
        "start_time": "2022-09-09T21:00:35.240Z"
      },
      {
        "duration": 3,
        "start_time": "2022-09-09T21:06:38.964Z"
      },
      {
        "duration": 39,
        "start_time": "2022-09-09T21:06:39.686Z"
      },
      {
        "duration": 3,
        "start_time": "2022-09-09T21:06:40.097Z"
      },
      {
        "duration": 27,
        "start_time": "2022-09-09T21:06:44.702Z"
      },
      {
        "duration": 5,
        "start_time": "2022-09-09T21:07:22.414Z"
      },
      {
        "duration": 4,
        "start_time": "2022-09-09T21:07:41.670Z"
      },
      {
        "duration": 5,
        "start_time": "2022-09-09T21:07:55.187Z"
      },
      {
        "duration": 12,
        "start_time": "2022-09-09T21:08:11.570Z"
      },
      {
        "duration": 6,
        "start_time": "2022-09-09T21:08:37.490Z"
      },
      {
        "duration": 3,
        "start_time": "2022-09-09T21:08:48.114Z"
      },
      {
        "duration": 11,
        "start_time": "2022-09-09T21:08:58.030Z"
      },
      {
        "duration": 16,
        "start_time": "2022-09-09T21:11:18.417Z"
      },
      {
        "duration": 4,
        "start_time": "2022-09-09T21:13:52.887Z"
      },
      {
        "duration": 12,
        "start_time": "2022-09-09T21:14:00.124Z"
      },
      {
        "duration": 11,
        "start_time": "2022-09-09T21:14:20.597Z"
      },
      {
        "duration": 7,
        "start_time": "2022-09-09T21:14:21.510Z"
      },
      {
        "duration": 4,
        "start_time": "2022-09-09T21:14:37.888Z"
      },
      {
        "duration": 3,
        "start_time": "2022-09-09T21:14:46.462Z"
      },
      {
        "duration": 16,
        "start_time": "2022-09-09T21:15:14.432Z"
      },
      {
        "duration": 18,
        "start_time": "2022-09-09T21:17:02.467Z"
      },
      {
        "duration": 12,
        "start_time": "2022-09-09T21:17:21.800Z"
      },
      {
        "duration": 13,
        "start_time": "2022-09-09T21:17:32.125Z"
      },
      {
        "duration": 13,
        "start_time": "2022-09-09T21:18:32.778Z"
      },
      {
        "duration": 8,
        "start_time": "2022-09-09T21:19:22.397Z"
      },
      {
        "duration": 9,
        "start_time": "2022-09-09T21:19:41.156Z"
      },
      {
        "duration": 15,
        "start_time": "2022-09-09T21:19:59.319Z"
      },
      {
        "duration": 14,
        "start_time": "2022-09-09T21:20:15.417Z"
      },
      {
        "duration": 18,
        "start_time": "2022-09-09T21:20:25.354Z"
      },
      {
        "duration": 19,
        "start_time": "2022-09-09T21:20:47.742Z"
      },
      {
        "duration": 14,
        "start_time": "2022-09-09T21:21:50.624Z"
      },
      {
        "duration": 4,
        "start_time": "2022-09-09T21:24:56.155Z"
      },
      {
        "duration": 12,
        "start_time": "2022-09-09T21:25:03.786Z"
      },
      {
        "duration": 3,
        "start_time": "2022-09-09T21:25:22.951Z"
      },
      {
        "duration": 435,
        "start_time": "2022-09-09T21:29:39.516Z"
      },
      {
        "duration": 41,
        "start_time": "2022-09-09T21:29:39.953Z"
      },
      {
        "duration": 8,
        "start_time": "2022-09-09T21:29:39.996Z"
      },
      {
        "duration": 20,
        "start_time": "2022-09-09T21:29:40.006Z"
      },
      {
        "duration": 3,
        "start_time": "2022-09-09T21:29:40.027Z"
      },
      {
        "duration": 16,
        "start_time": "2022-09-09T21:29:40.032Z"
      },
      {
        "duration": 23,
        "start_time": "2022-09-09T21:29:40.049Z"
      },
      {
        "duration": 6,
        "start_time": "2022-09-09T21:29:40.074Z"
      },
      {
        "duration": 11,
        "start_time": "2022-09-09T21:29:40.082Z"
      },
      {
        "duration": 9,
        "start_time": "2022-09-09T21:29:40.095Z"
      },
      {
        "duration": 23,
        "start_time": "2022-09-09T21:29:40.105Z"
      },
      {
        "duration": 3,
        "start_time": "2022-09-09T21:29:40.129Z"
      },
      {
        "duration": 17,
        "start_time": "2022-09-09T21:29:40.134Z"
      },
      {
        "duration": 325,
        "start_time": "2022-09-11T19:12:54.513Z"
      },
      {
        "duration": 171,
        "start_time": "2022-09-11T19:12:55.712Z"
      },
      {
        "duration": 8,
        "start_time": "2022-09-11T19:12:56.170Z"
      },
      {
        "duration": 13,
        "start_time": "2022-09-11T19:12:57.737Z"
      },
      {
        "duration": 3,
        "start_time": "2022-09-11T19:13:01.211Z"
      },
      {
        "duration": 4,
        "start_time": "2022-09-11T19:13:01.769Z"
      },
      {
        "duration": 16,
        "start_time": "2022-09-11T19:13:07.207Z"
      },
      {
        "duration": 7,
        "start_time": "2022-09-11T19:13:12.555Z"
      },
      {
        "duration": 4,
        "start_time": "2022-09-11T19:17:40.896Z"
      },
      {
        "duration": 3,
        "start_time": "2022-09-11T19:17:42.278Z"
      },
      {
        "duration": 11,
        "start_time": "2022-09-11T19:17:46.509Z"
      },
      {
        "duration": 3,
        "start_time": "2022-09-11T19:17:51.164Z"
      },
      {
        "duration": 13,
        "start_time": "2022-09-11T19:17:57.662Z"
      },
      {
        "duration": 10,
        "start_time": "2022-09-11T19:27:18.245Z"
      },
      {
        "duration": 11,
        "start_time": "2022-09-11T19:30:21.102Z"
      },
      {
        "duration": 64,
        "start_time": "2022-09-11T19:33:11.750Z"
      },
      {
        "duration": 4,
        "start_time": "2022-09-11T19:33:20.393Z"
      },
      {
        "duration": 7,
        "start_time": "2022-09-11T19:43:17.085Z"
      },
      {
        "duration": 1049,
        "start_time": "2022-09-11T19:43:42.071Z"
      },
      {
        "duration": 9,
        "start_time": "2022-09-11T19:43:50.837Z"
      },
      {
        "duration": 9,
        "start_time": "2022-09-11T19:44:30.064Z"
      },
      {
        "duration": 11,
        "start_time": "2022-09-11T19:45:22.797Z"
      },
      {
        "duration": 7,
        "start_time": "2022-09-11T19:48:33.100Z"
      },
      {
        "duration": 7,
        "start_time": "2022-09-11T19:48:33.353Z"
      },
      {
        "duration": 8,
        "start_time": "2022-09-11T19:48:33.797Z"
      },
      {
        "duration": 6,
        "start_time": "2022-09-11T19:48:43.112Z"
      },
      {
        "duration": 8,
        "start_time": "2022-09-11T19:48:44.627Z"
      },
      {
        "duration": 9,
        "start_time": "2022-09-11T19:48:47.170Z"
      },
      {
        "duration": 8,
        "start_time": "2022-09-11T19:48:47.526Z"
      },
      {
        "duration": 8,
        "start_time": "2022-09-11T19:48:48.031Z"
      },
      {
        "duration": 8,
        "start_time": "2022-09-11T19:49:39.701Z"
      },
      {
        "duration": 7,
        "start_time": "2022-09-11T19:50:15.484Z"
      },
      {
        "duration": 8,
        "start_time": "2022-09-11T19:50:16.239Z"
      },
      {
        "duration": 10,
        "start_time": "2022-09-11T19:50:16.831Z"
      },
      {
        "duration": 60,
        "start_time": "2022-09-11T19:54:34.031Z"
      },
      {
        "duration": 188,
        "start_time": "2022-09-11T20:02:33.081Z"
      },
      {
        "duration": 2,
        "start_time": "2022-09-11T20:07:01.833Z"
      },
      {
        "duration": 10,
        "start_time": "2022-09-11T20:12:56.745Z"
      },
      {
        "duration": 4,
        "start_time": "2022-09-11T20:13:11.570Z"
      },
      {
        "duration": 46,
        "start_time": "2022-09-11T20:13:30.399Z"
      },
      {
        "duration": 31,
        "start_time": "2022-09-11T20:13:35.969Z"
      },
      {
        "duration": 35,
        "start_time": "2022-09-11T20:13:56.665Z"
      },
      {
        "duration": 4,
        "start_time": "2022-09-11T20:13:57.253Z"
      },
      {
        "duration": 10,
        "start_time": "2022-09-11T20:14:07.186Z"
      },
      {
        "duration": 17,
        "start_time": "2022-09-11T20:14:17.761Z"
      },
      {
        "duration": 29,
        "start_time": "2022-09-11T20:15:39.214Z"
      },
      {
        "duration": 4,
        "start_time": "2022-09-11T20:15:39.862Z"
      },
      {
        "duration": 8,
        "start_time": "2022-09-11T20:15:40.629Z"
      },
      {
        "duration": 6,
        "start_time": "2022-09-11T20:15:41.566Z"
      },
      {
        "duration": 9,
        "start_time": "2022-09-11T20:15:42.518Z"
      },
      {
        "duration": 30,
        "start_time": "2022-09-11T20:18:43.040Z"
      },
      {
        "duration": 4,
        "start_time": "2022-09-11T20:18:43.755Z"
      },
      {
        "duration": 7,
        "start_time": "2022-09-11T20:18:44.176Z"
      },
      {
        "duration": 7,
        "start_time": "2022-09-11T20:18:44.711Z"
      },
      {
        "duration": 9,
        "start_time": "2022-09-11T20:18:44.931Z"
      },
      {
        "duration": 4,
        "start_time": "2022-09-11T20:20:59.867Z"
      },
      {
        "duration": 56,
        "start_time": "2022-09-11T20:23:07.430Z"
      },
      {
        "duration": 53,
        "start_time": "2022-09-11T20:26:51.874Z"
      },
      {
        "duration": 4,
        "start_time": "2022-09-11T20:27:05.339Z"
      },
      {
        "duration": 52,
        "start_time": "2022-09-11T20:27:11.728Z"
      },
      {
        "duration": 52,
        "start_time": "2022-09-11T20:30:25.037Z"
      },
      {
        "duration": 50,
        "start_time": "2022-09-11T20:30:29.476Z"
      },
      {
        "duration": 50,
        "start_time": "2022-09-11T20:30:35.897Z"
      },
      {
        "duration": 4,
        "start_time": "2022-09-11T20:34:54.819Z"
      },
      {
        "duration": 50,
        "start_time": "2022-09-11T20:35:01.617Z"
      },
      {
        "duration": 51,
        "start_time": "2022-09-11T20:35:36.382Z"
      },
      {
        "duration": 810,
        "start_time": "2022-09-11T20:36:27.853Z"
      },
      {
        "duration": 795,
        "start_time": "2022-09-11T20:36:42.363Z"
      },
      {
        "duration": 795,
        "start_time": "2022-09-11T20:36:52.247Z"
      },
      {
        "duration": 839,
        "start_time": "2022-09-11T20:37:01.265Z"
      },
      {
        "duration": 92,
        "start_time": "2022-09-11T20:37:15.438Z"
      },
      {
        "duration": 815,
        "start_time": "2022-09-11T20:38:00.179Z"
      },
      {
        "duration": 133,
        "start_time": "2022-09-11T20:38:47.489Z"
      },
      {
        "duration": 112,
        "start_time": "2022-09-11T20:40:05.828Z"
      },
      {
        "duration": 128,
        "start_time": "2022-09-11T20:40:15.894Z"
      },
      {
        "duration": 129,
        "start_time": "2022-09-11T20:40:22.304Z"
      },
      {
        "duration": 113,
        "start_time": "2022-09-11T20:41:21.668Z"
      },
      {
        "duration": 378,
        "start_time": "2022-09-11T20:43:01.177Z"
      },
      {
        "duration": 323,
        "start_time": "2022-09-11T20:43:23.403Z"
      },
      {
        "duration": 219,
        "start_time": "2022-09-11T20:43:31.085Z"
      },
      {
        "duration": 3,
        "start_time": "2022-09-11T20:45:57.984Z"
      },
      {
        "duration": 4,
        "start_time": "2022-09-11T20:46:13.025Z"
      },
      {
        "duration": 23,
        "start_time": "2022-09-11T20:48:32.413Z"
      },
      {
        "duration": 5,
        "start_time": "2022-09-11T20:49:02.045Z"
      },
      {
        "duration": 5,
        "start_time": "2022-09-11T20:49:11.979Z"
      },
      {
        "duration": 150,
        "start_time": "2022-09-11T20:50:34.301Z"
      },
      {
        "duration": 111,
        "start_time": "2022-09-11T20:50:57.858Z"
      },
      {
        "duration": 113,
        "start_time": "2022-09-11T20:52:30.374Z"
      },
      {
        "duration": 107,
        "start_time": "2022-09-11T20:53:21.723Z"
      },
      {
        "duration": 168,
        "start_time": "2022-09-11T20:53:45.223Z"
      },
      {
        "duration": 4,
        "start_time": "2022-09-11T20:59:53.598Z"
      },
      {
        "duration": 2247,
        "start_time": "2022-09-11T21:00:16.334Z"
      },
      {
        "duration": 2193,
        "start_time": "2022-09-11T21:00:28.186Z"
      },
      {
        "duration": 5,
        "start_time": "2022-09-11T21:01:07.452Z"
      },
      {
        "duration": 44,
        "start_time": "2022-09-11T21:01:28.547Z"
      },
      {
        "duration": 2204,
        "start_time": "2022-09-11T21:01:32.040Z"
      },
      {
        "duration": 9,
        "start_time": "2022-09-11T21:01:44.068Z"
      },
      {
        "duration": 1967,
        "start_time": "2022-09-11T21:02:49.400Z"
      },
      {
        "duration": 1995,
        "start_time": "2022-09-11T21:02:53.557Z"
      },
      {
        "duration": 8,
        "start_time": "2022-09-11T21:12:37.540Z"
      },
      {
        "duration": 181,
        "start_time": "2022-09-11T21:12:43.600Z"
      },
      {
        "duration": 58,
        "start_time": "2022-09-11T21:12:48.481Z"
      },
      {
        "duration": 65,
        "start_time": "2022-09-11T21:12:50.118Z"
      },
      {
        "duration": 47,
        "start_time": "2022-09-11T21:12:50.851Z"
      },
      {
        "duration": 8,
        "start_time": "2022-09-11T21:12:51.233Z"
      },
      {
        "duration": 746,
        "start_time": "2022-09-11T21:12:54.954Z"
      },
      {
        "duration": 15715,
        "start_time": "2022-09-11T21:13:00.691Z"
      },
      {
        "duration": 16212,
        "start_time": "2022-09-11T21:14:32.561Z"
      },
      {
        "duration": 1694,
        "start_time": "2022-09-11T21:15:37.397Z"
      },
      {
        "duration": 1733,
        "start_time": "2022-09-11T21:15:59.268Z"
      },
      {
        "duration": 9,
        "start_time": "2022-09-11T21:16:01.710Z"
      },
      {
        "duration": 10,
        "start_time": "2022-09-11T21:16:07.422Z"
      },
      {
        "duration": 9,
        "start_time": "2022-09-11T21:17:44.009Z"
      },
      {
        "duration": 4,
        "start_time": "2022-09-11T21:18:15.942Z"
      },
      {
        "duration": 10,
        "start_time": "2022-09-11T21:18:22.366Z"
      },
      {
        "duration": 46005,
        "start_time": "2022-09-11T21:18:28.861Z"
      },
      {
        "duration": 9,
        "start_time": "2022-09-11T21:19:23.769Z"
      },
      {
        "duration": 74,
        "start_time": "2022-09-11T21:20:17.473Z"
      },
      {
        "duration": 1714,
        "start_time": "2022-09-11T21:20:23.438Z"
      },
      {
        "duration": 8,
        "start_time": "2022-09-11T21:20:25.155Z"
      },
      {
        "duration": 13,
        "start_time": "2022-09-11T21:20:40.196Z"
      },
      {
        "duration": 47681,
        "start_time": "2022-09-11T21:22:32.593Z"
      },
      {
        "duration": 398,
        "start_time": "2022-09-11T21:24:01.057Z"
      },
      {
        "duration": 104,
        "start_time": "2022-09-11T21:24:03.218Z"
      },
      {
        "duration": 554,
        "start_time": "2022-09-11T21:24:58.419Z"
      },
      {
        "duration": 296,
        "start_time": "2022-09-11T21:25:35.344Z"
      },
      {
        "duration": 1804,
        "start_time": "2022-09-11T21:29:20.994Z"
      },
      {
        "duration": 403,
        "start_time": "2022-09-11T21:30:19.356Z"
      },
      {
        "duration": 742,
        "start_time": "2022-09-11T21:30:33.797Z"
      },
      {
        "duration": 40239,
        "start_time": "2022-09-11T21:30:56.025Z"
      },
      {
        "duration": 779,
        "start_time": "2022-09-11T21:37:50.077Z"
      },
      {
        "duration": 250,
        "start_time": "2022-09-11T21:38:02.871Z"
      },
      {
        "duration": 1048,
        "start_time": "2022-09-11T21:38:17.972Z"
      },
      {
        "duration": 1581,
        "start_time": "2022-09-11T21:38:25.389Z"
      },
      {
        "duration": 4421,
        "start_time": "2022-09-11T21:38:36.774Z"
      },
      {
        "duration": 6113,
        "start_time": "2022-09-11T21:38:47.032Z"
      },
      {
        "duration": 375,
        "start_time": "2022-09-11T21:40:59.836Z"
      },
      {
        "duration": 264,
        "start_time": "2022-09-11T21:41:45.573Z"
      },
      {
        "duration": 12,
        "start_time": "2022-09-11T21:42:48.957Z"
      },
      {
        "duration": 4,
        "start_time": "2022-09-11T21:45:34.768Z"
      },
      {
        "duration": 12,
        "start_time": "2022-09-11T21:45:40.688Z"
      },
      {
        "duration": 11,
        "start_time": "2022-09-11T21:47:01.541Z"
      },
      {
        "duration": 13,
        "start_time": "2022-09-11T21:48:08.378Z"
      },
      {
        "duration": 343,
        "start_time": "2022-09-11T21:48:35.463Z"
      },
      {
        "duration": 5,
        "start_time": "2022-09-11T21:50:37.110Z"
      },
      {
        "duration": 385,
        "start_time": "2022-09-11T21:50:44.899Z"
      },
      {
        "duration": 348,
        "start_time": "2022-09-11T21:50:47.462Z"
      },
      {
        "duration": 51,
        "start_time": "2022-09-11T21:53:24.571Z"
      },
      {
        "duration": 446,
        "start_time": "2022-09-11T21:53:33.016Z"
      },
      {
        "duration": 369,
        "start_time": "2022-09-11T21:53:34.438Z"
      },
      {
        "duration": 272,
        "start_time": "2022-09-11T21:54:48.822Z"
      },
      {
        "duration": 231,
        "start_time": "2022-09-11T21:55:34.071Z"
      },
      {
        "duration": 9,
        "start_time": "2022-09-11T21:56:27.388Z"
      },
      {
        "duration": 4,
        "start_time": "2022-09-11T21:56:35.505Z"
      },
      {
        "duration": 4,
        "start_time": "2022-09-11T21:56:53.741Z"
      },
      {
        "duration": 21,
        "start_time": "2022-09-11T21:57:36.834Z"
      },
      {
        "duration": 5,
        "start_time": "2022-09-11T21:57:51.744Z"
      },
      {
        "duration": 20,
        "start_time": "2022-09-11T21:57:59.432Z"
      },
      {
        "duration": 5,
        "start_time": "2022-09-11T21:58:21.233Z"
      },
      {
        "duration": 4,
        "start_time": "2022-09-11T21:58:37.015Z"
      },
      {
        "duration": 5,
        "start_time": "2022-09-11T21:58:51.052Z"
      },
      {
        "duration": 4,
        "start_time": "2022-09-11T21:59:05.529Z"
      },
      {
        "duration": 385,
        "start_time": "2022-09-11T21:59:34.392Z"
      },
      {
        "duration": 29,
        "start_time": "2022-09-11T22:01:05.747Z"
      },
      {
        "duration": 4,
        "start_time": "2022-09-11T22:01:07.563Z"
      },
      {
        "duration": 7,
        "start_time": "2022-09-11T22:01:08.472Z"
      },
      {
        "duration": 6,
        "start_time": "2022-09-11T22:01:08.948Z"
      },
      {
        "duration": 8,
        "start_time": "2022-09-11T22:01:09.138Z"
      },
      {
        "duration": 50,
        "start_time": "2022-09-11T22:01:10.625Z"
      },
      {
        "duration": 812,
        "start_time": "2022-09-11T22:01:11.748Z"
      },
      {
        "duration": 59,
        "start_time": "2022-09-11T22:01:12.901Z"
      },
      {
        "duration": 4,
        "start_time": "2022-09-11T22:01:14.728Z"
      },
      {
        "duration": 300,
        "start_time": "2022-09-11T22:01:25.522Z"
      },
      {
        "duration": 326,
        "start_time": "2022-09-11T22:01:29.381Z"
      },
      {
        "duration": 250,
        "start_time": "2022-09-11T22:02:10.007Z"
      },
      {
        "duration": 194,
        "start_time": "2022-09-11T22:02:35.711Z"
      },
      {
        "duration": 256,
        "start_time": "2022-09-11T22:02:46.329Z"
      },
      {
        "duration": 261,
        "start_time": "2022-09-11T22:05:36.974Z"
      },
      {
        "duration": 818,
        "start_time": "2022-09-11T22:05:56.546Z"
      },
      {
        "duration": 249,
        "start_time": "2022-09-11T22:05:57.367Z"
      },
      {
        "duration": 200,
        "start_time": "2022-09-11T22:07:16.508Z"
      },
      {
        "duration": 29,
        "start_time": "2022-09-11T22:09:59.303Z"
      },
      {
        "duration": 4,
        "start_time": "2022-09-11T22:10:00.320Z"
      },
      {
        "duration": 8,
        "start_time": "2022-09-11T22:10:00.708Z"
      },
      {
        "duration": 6,
        "start_time": "2022-09-11T22:10:01.116Z"
      },
      {
        "duration": 9,
        "start_time": "2022-09-11T22:10:01.324Z"
      },
      {
        "duration": 50,
        "start_time": "2022-09-11T22:10:02.828Z"
      },
      {
        "duration": 802,
        "start_time": "2022-09-11T22:10:04.701Z"
      },
      {
        "duration": 198,
        "start_time": "2022-09-11T22:10:09.310Z"
      },
      {
        "duration": 60,
        "start_time": "2022-09-11T22:10:13.956Z"
      },
      {
        "duration": 231,
        "start_time": "2022-09-11T22:10:16.064Z"
      },
      {
        "duration": 164,
        "start_time": "2022-09-11T22:11:05.491Z"
      },
      {
        "duration": 844,
        "start_time": "2022-09-11T22:12:32.239Z"
      },
      {
        "duration": 148,
        "start_time": "2022-09-11T22:12:42.071Z"
      },
      {
        "duration": 164,
        "start_time": "2022-09-11T22:13:04.904Z"
      },
      {
        "duration": 339,
        "start_time": "2022-09-11T22:16:36.157Z"
      },
      {
        "duration": 41,
        "start_time": "2022-09-11T22:17:04.426Z"
      },
      {
        "duration": 49,
        "start_time": "2022-09-11T22:17:09.465Z"
      },
      {
        "duration": 41,
        "start_time": "2022-09-11T22:17:14.266Z"
      },
      {
        "duration": 8,
        "start_time": "2022-09-11T22:19:53.515Z"
      },
      {
        "duration": 9,
        "start_time": "2022-09-11T22:20:40.340Z"
      },
      {
        "duration": 9,
        "start_time": "2022-09-11T22:21:03.177Z"
      },
      {
        "duration": 9,
        "start_time": "2022-09-11T22:21:31.862Z"
      },
      {
        "duration": 794,
        "start_time": "2022-09-11T22:21:43.828Z"
      },
      {
        "duration": 193,
        "start_time": "2022-09-11T22:21:44.708Z"
      },
      {
        "duration": 9,
        "start_time": "2022-09-11T22:21:46.332Z"
      },
      {
        "duration": 7,
        "start_time": "2022-09-12T16:33:22.365Z"
      },
      {
        "duration": 154,
        "start_time": "2022-09-12T16:33:25.022Z"
      },
      {
        "duration": 5,
        "start_time": "2022-09-12T16:33:25.317Z"
      },
      {
        "duration": 17,
        "start_time": "2022-09-12T16:33:25.749Z"
      },
      {
        "duration": 3,
        "start_time": "2022-09-12T16:33:28.373Z"
      },
      {
        "duration": 5,
        "start_time": "2022-09-12T16:33:28.596Z"
      },
      {
        "duration": 19,
        "start_time": "2022-09-12T16:33:30.046Z"
      },
      {
        "duration": 9,
        "start_time": "2022-09-12T16:33:35.452Z"
      },
      {
        "duration": 5,
        "start_time": "2022-09-12T16:33:36.901Z"
      },
      {
        "duration": 4,
        "start_time": "2022-09-12T16:33:43.640Z"
      },
      {
        "duration": 13,
        "start_time": "2022-09-12T16:33:44.836Z"
      },
      {
        "duration": 5,
        "start_time": "2022-09-12T16:33:46.235Z"
      },
      {
        "duration": 14,
        "start_time": "2022-09-12T16:33:52.927Z"
      },
      {
        "duration": 5,
        "start_time": "2022-09-12T16:34:45.115Z"
      },
      {
        "duration": 12,
        "start_time": "2022-09-12T16:34:46.394Z"
      },
      {
        "duration": 6,
        "start_time": "2022-09-12T16:34:47.798Z"
      },
      {
        "duration": 4,
        "start_time": "2022-09-12T16:34:57.061Z"
      },
      {
        "duration": 5,
        "start_time": "2022-09-12T16:35:12.153Z"
      },
      {
        "duration": 12,
        "start_time": "2022-09-12T16:35:20.336Z"
      },
      {
        "duration": 126,
        "start_time": "2022-09-12T16:36:15.928Z"
      },
      {
        "duration": 46,
        "start_time": "2022-09-12T16:36:24.494Z"
      },
      {
        "duration": 4,
        "start_time": "2022-09-12T16:36:24.691Z"
      },
      {
        "duration": 14,
        "start_time": "2022-09-12T16:36:24.873Z"
      },
      {
        "duration": 4,
        "start_time": "2022-09-12T16:36:25.376Z"
      },
      {
        "duration": 5,
        "start_time": "2022-09-12T16:36:25.541Z"
      },
      {
        "duration": 23,
        "start_time": "2022-09-12T16:36:26.038Z"
      },
      {
        "duration": 10,
        "start_time": "2022-09-12T16:36:26.598Z"
      },
      {
        "duration": 4,
        "start_time": "2022-09-12T16:36:27.272Z"
      },
      {
        "duration": 4,
        "start_time": "2022-09-12T16:36:28.272Z"
      },
      {
        "duration": 22,
        "start_time": "2022-09-12T16:36:28.822Z"
      },
      {
        "duration": 5,
        "start_time": "2022-09-12T16:36:29.211Z"
      },
      {
        "duration": 21,
        "start_time": "2022-09-12T16:36:30.210Z"
      },
      {
        "duration": 5,
        "start_time": "2022-09-12T16:36:32.237Z"
      },
      {
        "duration": 10,
        "start_time": "2022-09-12T16:36:34.197Z"
      },
      {
        "duration": 12,
        "start_time": "2022-09-12T16:36:34.629Z"
      },
      {
        "duration": 18,
        "start_time": "2022-09-12T16:38:08.534Z"
      },
      {
        "duration": 4,
        "start_time": "2022-09-12T16:38:19.367Z"
      },
      {
        "duration": 5,
        "start_time": "2022-09-12T16:38:19.548Z"
      },
      {
        "duration": 24,
        "start_time": "2022-09-12T16:38:20.094Z"
      },
      {
        "duration": 7,
        "start_time": "2022-09-12T16:38:20.631Z"
      },
      {
        "duration": 5,
        "start_time": "2022-09-12T16:38:21.000Z"
      },
      {
        "duration": 4,
        "start_time": "2022-09-12T16:38:21.383Z"
      },
      {
        "duration": 14,
        "start_time": "2022-09-12T16:38:21.771Z"
      },
      {
        "duration": 3,
        "start_time": "2022-09-12T16:38:22.244Z"
      },
      {
        "duration": 14,
        "start_time": "2022-09-12T16:38:23.074Z"
      },
      {
        "duration": 14,
        "start_time": "2022-09-12T16:38:24.955Z"
      },
      {
        "duration": 44,
        "start_time": "2022-09-12T16:38:29.916Z"
      },
      {
        "duration": 4,
        "start_time": "2022-09-12T16:38:30.414Z"
      },
      {
        "duration": 12,
        "start_time": "2022-09-12T16:38:30.656Z"
      },
      {
        "duration": 3,
        "start_time": "2022-09-12T16:38:31.184Z"
      },
      {
        "duration": 4,
        "start_time": "2022-09-12T16:38:31.359Z"
      },
      {
        "duration": 20,
        "start_time": "2022-09-12T16:38:31.880Z"
      },
      {
        "duration": 7,
        "start_time": "2022-09-12T16:38:32.451Z"
      },
      {
        "duration": 5,
        "start_time": "2022-09-12T16:38:32.791Z"
      },
      {
        "duration": 4,
        "start_time": "2022-09-12T16:38:33.151Z"
      },
      {
        "duration": 12,
        "start_time": "2022-09-12T16:38:33.520Z"
      },
      {
        "duration": 4,
        "start_time": "2022-09-12T16:38:33.882Z"
      },
      {
        "duration": 12,
        "start_time": "2022-09-12T16:38:34.483Z"
      },
      {
        "duration": 5,
        "start_time": "2022-09-12T16:38:37.216Z"
      },
      {
        "duration": 13,
        "start_time": "2022-09-12T16:38:39.688Z"
      },
      {
        "duration": 16,
        "start_time": "2022-09-12T16:38:40.064Z"
      },
      {
        "duration": 15,
        "start_time": "2022-09-12T16:38:49.282Z"
      },
      {
        "duration": 5,
        "start_time": "2022-09-12T16:38:57.993Z"
      },
      {
        "duration": 8,
        "start_time": "2022-09-12T16:38:59.753Z"
      },
      {
        "duration": 8,
        "start_time": "2022-09-12T16:39:02.020Z"
      },
      {
        "duration": 11,
        "start_time": "2022-09-12T16:39:03.688Z"
      },
      {
        "duration": 41,
        "start_time": "2022-09-12T16:39:14.841Z"
      },
      {
        "duration": 772,
        "start_time": "2022-09-12T16:39:27.080Z"
      },
      {
        "duration": 310,
        "start_time": "2022-09-12T16:39:30.256Z"
      },
      {
        "duration": 8,
        "start_time": "2022-09-12T16:40:55.245Z"
      },
      {
        "duration": 171,
        "start_time": "2022-09-12T16:41:19.456Z"
      },
      {
        "duration": 40,
        "start_time": "2022-09-12T16:41:59.540Z"
      },
      {
        "duration": 44,
        "start_time": "2022-09-12T16:42:11.630Z"
      },
      {
        "duration": 763,
        "start_time": "2022-09-12T16:42:19.619Z"
      },
      {
        "duration": 273,
        "start_time": "2022-09-12T16:42:21.519Z"
      },
      {
        "duration": 12,
        "start_time": "2022-09-12T16:42:32.860Z"
      },
      {
        "duration": 234,
        "start_time": "2022-09-12T16:43:02.863Z"
      },
      {
        "duration": 28,
        "start_time": "2022-09-12T16:43:32.043Z"
      },
      {
        "duration": 755,
        "start_time": "2022-09-12T16:44:12.443Z"
      },
      {
        "duration": 237,
        "start_time": "2022-09-12T16:44:13.542Z"
      },
      {
        "duration": 8,
        "start_time": "2022-09-12T16:44:16.989Z"
      },
      {
        "duration": 208,
        "start_time": "2022-09-12T16:44:26.046Z"
      },
      {
        "duration": 26,
        "start_time": "2022-09-12T16:44:48.046Z"
      },
      {
        "duration": 227,
        "start_time": "2022-09-12T16:45:17.641Z"
      },
      {
        "duration": 691,
        "start_time": "2022-09-12T16:45:54.703Z"
      },
      {
        "duration": 220,
        "start_time": "2022-09-12T16:45:55.457Z"
      },
      {
        "duration": 9,
        "start_time": "2022-09-12T16:46:00.360Z"
      },
      {
        "duration": 164,
        "start_time": "2022-09-12T16:46:01.425Z"
      },
      {
        "duration": 62,
        "start_time": "2022-09-12T16:46:02.760Z"
      },
      {
        "duration": 223,
        "start_time": "2022-09-12T16:46:38.649Z"
      },
      {
        "duration": 15,
        "start_time": "2022-09-12T16:47:20.421Z"
      },
      {
        "duration": 244,
        "start_time": "2022-09-12T16:47:45.286Z"
      },
      {
        "duration": 4,
        "start_time": "2022-09-12T16:52:29.262Z"
      },
      {
        "duration": 18,
        "start_time": "2022-09-12T17:01:50.324Z"
      },
      {
        "duration": 16,
        "start_time": "2022-09-12T17:01:53.834Z"
      },
      {
        "duration": 11,
        "start_time": "2022-09-12T17:02:04.057Z"
      },
      {
        "duration": 12,
        "start_time": "2022-09-12T17:03:59.860Z"
      },
      {
        "duration": 57,
        "start_time": "2022-09-12T18:39:43.675Z"
      },
      {
        "duration": 6,
        "start_time": "2022-09-12T18:39:47.681Z"
      },
      {
        "duration": 13,
        "start_time": "2022-09-12T18:39:48.189Z"
      },
      {
        "duration": 16,
        "start_time": "2022-09-12T18:40:02.293Z"
      },
      {
        "duration": 795,
        "start_time": "2022-09-12T18:41:20.017Z"
      },
      {
        "duration": 682,
        "start_time": "2022-09-12T18:41:27.911Z"
      },
      {
        "duration": 782,
        "start_time": "2022-09-12T18:41:43.337Z"
      },
      {
        "duration": 697,
        "start_time": "2022-09-12T18:41:50.225Z"
      },
      {
        "duration": 421,
        "start_time": "2022-09-12T18:41:55.667Z"
      },
      {
        "duration": 5,
        "start_time": "2022-09-12T18:43:47.392Z"
      },
      {
        "duration": 28,
        "start_time": "2022-09-12T18:47:17.242Z"
      },
      {
        "duration": 5,
        "start_time": "2022-09-12T18:50:26.778Z"
      },
      {
        "duration": 40,
        "start_time": "2022-09-12T18:50:27.602Z"
      },
      {
        "duration": 4,
        "start_time": "2022-09-12T18:50:27.851Z"
      },
      {
        "duration": 12,
        "start_time": "2022-09-12T18:50:28.157Z"
      },
      {
        "duration": 4,
        "start_time": "2022-09-12T18:50:28.737Z"
      },
      {
        "duration": 4,
        "start_time": "2022-09-12T18:50:28.923Z"
      },
      {
        "duration": 21,
        "start_time": "2022-09-12T18:50:29.505Z"
      },
      {
        "duration": 5,
        "start_time": "2022-09-12T18:50:29.876Z"
      },
      {
        "duration": 22,
        "start_time": "2022-09-12T18:50:30.525Z"
      },
      {
        "duration": 9,
        "start_time": "2022-09-12T18:50:31.275Z"
      },
      {
        "duration": 5,
        "start_time": "2022-09-12T18:50:31.767Z"
      },
      {
        "duration": 4,
        "start_time": "2022-09-12T18:50:32.162Z"
      },
      {
        "duration": 14,
        "start_time": "2022-09-12T18:50:33.090Z"
      },
      {
        "duration": 5,
        "start_time": "2022-09-12T18:50:35.074Z"
      },
      {
        "duration": 11,
        "start_time": "2022-09-12T18:50:36.482Z"
      },
      {
        "duration": 4,
        "start_time": "2022-09-12T18:50:40.075Z"
      },
      {
        "duration": 11,
        "start_time": "2022-09-12T18:50:40.491Z"
      },
      {
        "duration": 6,
        "start_time": "2022-09-12T18:50:41.514Z"
      },
      {
        "duration": 8,
        "start_time": "2022-09-12T18:50:44.930Z"
      },
      {
        "duration": 7,
        "start_time": "2022-09-12T18:50:45.611Z"
      },
      {
        "duration": 14,
        "start_time": "2022-09-12T18:50:46.215Z"
      },
      {
        "duration": 58,
        "start_time": "2022-09-12T18:51:14.470Z"
      },
      {
        "duration": 49,
        "start_time": "2022-09-12T18:51:53.333Z"
      },
      {
        "duration": 37,
        "start_time": "2022-09-12T18:51:57.695Z"
      },
      {
        "duration": 55,
        "start_time": "2022-09-12T18:52:00.582Z"
      },
      {
        "duration": 50,
        "start_time": "2022-09-12T18:52:04.748Z"
      },
      {
        "duration": 42,
        "start_time": "2022-09-12T18:52:08.343Z"
      },
      {
        "duration": 135,
        "start_time": "2022-09-12T18:52:10.687Z"
      },
      {
        "duration": 99,
        "start_time": "2022-09-12T18:52:12.925Z"
      },
      {
        "duration": 98,
        "start_time": "2022-09-12T18:52:15.625Z"
      },
      {
        "duration": 110,
        "start_time": "2022-09-12T18:52:18.415Z"
      },
      {
        "duration": 389,
        "start_time": "2022-09-12T18:52:20.343Z"
      },
      {
        "duration": 38,
        "start_time": "2022-09-12T18:52:24.005Z"
      },
      {
        "duration": 49,
        "start_time": "2022-09-12T18:52:26.197Z"
      },
      {
        "duration": 21,
        "start_time": "2022-09-12T18:54:42.242Z"
      },
      {
        "duration": 27,
        "start_time": "2022-09-12T18:54:50.659Z"
      },
      {
        "duration": 27,
        "start_time": "2022-09-12T18:54:54.848Z"
      },
      {
        "duration": 34,
        "start_time": "2022-09-12T18:54:57.360Z"
      },
      {
        "duration": 32,
        "start_time": "2022-09-12T18:54:59.806Z"
      },
      {
        "duration": 98,
        "start_time": "2022-09-12T18:55:03.224Z"
      },
      {
        "duration": 42,
        "start_time": "2022-09-12T18:55:06.104Z"
      },
      {
        "duration": 26,
        "start_time": "2022-09-12T18:55:08.061Z"
      },
      {
        "duration": 29,
        "start_time": "2022-09-12T18:55:10.403Z"
      },
      {
        "duration": 93,
        "start_time": "2022-09-12T18:55:15.640Z"
      },
      {
        "duration": 156,
        "start_time": "2022-09-12T18:55:20.770Z"
      },
      {
        "duration": 64,
        "start_time": "2022-09-12T18:55:24.358Z"
      },
      {
        "duration": 118,
        "start_time": "2022-09-12T18:55:27.803Z"
      },
      {
        "duration": 22,
        "start_time": "2022-09-12T18:55:31.247Z"
      },
      {
        "duration": 26,
        "start_time": "2022-09-12T18:55:34.823Z"
      },
      {
        "duration": 24,
        "start_time": "2022-09-12T18:55:38.820Z"
      },
      {
        "duration": 33,
        "start_time": "2022-09-12T18:55:41.648Z"
      },
      {
        "duration": 24,
        "start_time": "2022-09-12T18:55:44.477Z"
      },
      {
        "duration": 251,
        "start_time": "2022-09-12T18:57:11.704Z"
      },
      {
        "duration": 248,
        "start_time": "2022-09-12T18:58:12.093Z"
      },
      {
        "duration": 303,
        "start_time": "2022-09-12T18:58:20.800Z"
      },
      {
        "duration": 278,
        "start_time": "2022-09-12T18:58:28.624Z"
      },
      {
        "duration": 206,
        "start_time": "2022-09-12T18:59:17.351Z"
      },
      {
        "duration": 238,
        "start_time": "2022-09-12T18:59:31.484Z"
      },
      {
        "duration": 285,
        "start_time": "2022-09-12T18:59:38.178Z"
      },
      {
        "duration": 262,
        "start_time": "2022-09-12T19:00:01.993Z"
      },
      {
        "duration": 281,
        "start_time": "2022-09-12T19:14:03.300Z"
      },
      {
        "duration": 9,
        "start_time": "2022-09-12T19:14:43.808Z"
      },
      {
        "duration": 38,
        "start_time": "2022-09-12T19:15:15.007Z"
      },
      {
        "duration": 289,
        "start_time": "2022-09-12T19:15:15.813Z"
      },
      {
        "duration": 10,
        "start_time": "2022-09-12T19:15:17.036Z"
      },
      {
        "duration": 695,
        "start_time": "2022-09-12T19:15:40.596Z"
      },
      {
        "duration": 257,
        "start_time": "2022-09-12T19:15:42.780Z"
      },
      {
        "duration": 9,
        "start_time": "2022-09-12T19:15:47.144Z"
      },
      {
        "duration": 210,
        "start_time": "2022-09-12T19:17:50.046Z"
      },
      {
        "duration": 331,
        "start_time": "2022-09-12T19:17:52.172Z"
      },
      {
        "duration": 1024,
        "start_time": "2022-09-12T19:46:57.598Z"
      },
      {
        "duration": 336,
        "start_time": "2022-09-12T19:47:32.210Z"
      },
      {
        "duration": 969,
        "start_time": "2022-09-12T19:48:00.964Z"
      },
      {
        "duration": 1212,
        "start_time": "2022-09-12T19:48:05.838Z"
      },
      {
        "duration": 1189,
        "start_time": "2022-09-12T19:48:11.513Z"
      },
      {
        "duration": 1157,
        "start_time": "2022-09-12T19:48:17.439Z"
      },
      {
        "duration": 1296,
        "start_time": "2022-09-12T19:48:22.405Z"
      },
      {
        "duration": 1206,
        "start_time": "2022-09-12T19:48:27.454Z"
      },
      {
        "duration": 1120,
        "start_time": "2022-09-12T19:48:32.315Z"
      },
      {
        "duration": 1105,
        "start_time": "2022-09-12T19:48:37.550Z"
      },
      {
        "duration": 1203,
        "start_time": "2022-09-12T19:48:44.114Z"
      },
      {
        "duration": 340,
        "start_time": "2022-09-12T19:48:53.215Z"
      },
      {
        "duration": 300,
        "start_time": "2022-09-12T19:48:57.082Z"
      },
      {
        "duration": 384,
        "start_time": "2022-09-12T19:49:00.076Z"
      },
      {
        "duration": 462,
        "start_time": "2022-09-12T19:49:06.769Z"
      },
      {
        "duration": 526,
        "start_time": "2022-09-12T19:49:11.269Z"
      },
      {
        "duration": 480,
        "start_time": "2022-09-12T19:49:15.377Z"
      },
      {
        "duration": 479,
        "start_time": "2022-09-12T19:49:20.065Z"
      },
      {
        "duration": 432,
        "start_time": "2022-09-12T19:49:23.540Z"
      },
      {
        "duration": 452,
        "start_time": "2022-09-12T19:49:27.737Z"
      },
      {
        "duration": 448,
        "start_time": "2022-09-12T19:49:31.238Z"
      },
      {
        "duration": 442,
        "start_time": "2022-09-12T19:49:37.304Z"
      },
      {
        "duration": 463,
        "start_time": "2022-09-12T19:49:42.205Z"
      },
      {
        "duration": 17,
        "start_time": "2022-09-12T19:49:50.836Z"
      },
      {
        "duration": 1196,
        "start_time": "2022-09-12T19:49:55.192Z"
      },
      {
        "duration": 468,
        "start_time": "2022-09-12T19:49:57.819Z"
      },
      {
        "duration": 433,
        "start_time": "2022-09-12T19:51:01.909Z"
      },
      {
        "duration": 12,
        "start_time": "2022-09-12T20:06:32.956Z"
      },
      {
        "duration": 10,
        "start_time": "2022-09-12T20:07:46.806Z"
      },
      {
        "duration": 11,
        "start_time": "2022-09-12T20:09:34.237Z"
      },
      {
        "duration": 16,
        "start_time": "2022-09-12T20:09:54.010Z"
      },
      {
        "duration": 12,
        "start_time": "2022-09-12T20:10:00.368Z"
      },
      {
        "duration": 4,
        "start_time": "2022-09-12T20:10:11.519Z"
      },
      {
        "duration": 9,
        "start_time": "2022-09-12T20:10:12.251Z"
      },
      {
        "duration": 4,
        "start_time": "2022-09-12T20:10:28.977Z"
      },
      {
        "duration": 11,
        "start_time": "2022-09-12T20:10:29.380Z"
      },
      {
        "duration": 4,
        "start_time": "2022-09-12T20:11:17.212Z"
      },
      {
        "duration": 43,
        "start_time": "2022-09-12T20:11:17.559Z"
      },
      {
        "duration": 4,
        "start_time": "2022-09-12T20:11:17.732Z"
      },
      {
        "duration": 13,
        "start_time": "2022-09-12T20:11:17.925Z"
      },
      {
        "duration": 3,
        "start_time": "2022-09-12T20:11:18.500Z"
      },
      {
        "duration": 4,
        "start_time": "2022-09-12T20:11:18.699Z"
      },
      {
        "duration": 17,
        "start_time": "2022-09-12T20:11:19.248Z"
      },
      {
        "duration": 7,
        "start_time": "2022-09-12T20:11:19.822Z"
      },
      {
        "duration": 5,
        "start_time": "2022-09-12T20:11:20.274Z"
      },
      {
        "duration": 4,
        "start_time": "2022-09-12T20:11:20.797Z"
      },
      {
        "duration": 14,
        "start_time": "2022-09-12T20:11:21.333Z"
      },
      {
        "duration": 4,
        "start_time": "2022-09-12T20:11:22.197Z"
      },
      {
        "duration": 11,
        "start_time": "2022-09-12T20:11:23.784Z"
      },
      {
        "duration": 4,
        "start_time": "2022-09-12T20:11:26.871Z"
      },
      {
        "duration": 10,
        "start_time": "2022-09-12T20:11:27.374Z"
      },
      {
        "duration": 6,
        "start_time": "2022-09-12T20:11:28.662Z"
      },
      {
        "duration": 8,
        "start_time": "2022-09-12T20:11:30.216Z"
      },
      {
        "duration": 8,
        "start_time": "2022-09-12T20:11:31.077Z"
      },
      {
        "duration": 9,
        "start_time": "2022-09-12T20:11:31.717Z"
      },
      {
        "duration": 39,
        "start_time": "2022-09-12T20:11:41.601Z"
      },
      {
        "duration": 211,
        "start_time": "2022-09-12T20:11:42.471Z"
      },
      {
        "duration": 10,
        "start_time": "2022-09-12T20:11:43.379Z"
      },
      {
        "duration": 676,
        "start_time": "2022-09-12T20:11:44.462Z"
      },
      {
        "duration": 252,
        "start_time": "2022-09-12T20:11:45.621Z"
      },
      {
        "duration": 9,
        "start_time": "2022-09-12T20:11:47.249Z"
      },
      {
        "duration": 153,
        "start_time": "2022-09-12T20:11:48.449Z"
      },
      {
        "duration": 47,
        "start_time": "2022-09-12T20:11:49.974Z"
      },
      {
        "duration": 269,
        "start_time": "2022-09-12T20:11:50.731Z"
      },
      {
        "duration": 301,
        "start_time": "2022-09-12T20:11:55.621Z"
      },
      {
        "duration": 3,
        "start_time": "2022-09-12T20:11:59.920Z"
      },
      {
        "duration": 3,
        "start_time": "2022-09-12T20:12:00.378Z"
      },
      {
        "duration": 70,
        "start_time": "2022-09-12T20:12:01.165Z"
      },
      {
        "duration": 47,
        "start_time": "2022-09-12T20:12:04.284Z"
      },
      {
        "duration": 28,
        "start_time": "2022-09-12T20:12:05.606Z"
      },
      {
        "duration": 258,
        "start_time": "2022-09-12T20:12:07.278Z"
      },
      {
        "duration": 257,
        "start_time": "2022-09-12T20:12:08.970Z"
      },
      {
        "duration": 1186,
        "start_time": "2022-09-12T20:12:12.009Z"
      },
      {
        "duration": 437,
        "start_time": "2022-09-12T20:12:15.087Z"
      },
      {
        "duration": 5,
        "start_time": "2022-09-12T20:12:41.764Z"
      },
      {
        "duration": 5,
        "start_time": "2022-09-12T20:13:15.275Z"
      },
      {
        "duration": 11,
        "start_time": "2022-09-12T20:13:50.881Z"
      },
      {
        "duration": 560,
        "start_time": "2022-09-12T20:13:56.398Z"
      },
      {
        "duration": 4,
        "start_time": "2022-09-12T20:19:29.861Z"
      },
      {
        "duration": 37,
        "start_time": "2022-09-12T20:19:33.352Z"
      },
      {
        "duration": 4,
        "start_time": "2022-09-12T20:19:34.281Z"
      },
      {
        "duration": 12,
        "start_time": "2022-09-12T20:19:36.415Z"
      },
      {
        "duration": 11,
        "start_time": "2022-09-12T20:19:42.291Z"
      },
      {
        "duration": 3,
        "start_time": "2022-09-12T20:20:25.811Z"
      },
      {
        "duration": 3,
        "start_time": "2022-09-12T20:20:27.572Z"
      },
      {
        "duration": 18,
        "start_time": "2022-09-12T20:20:42.611Z"
      },
      {
        "duration": 10,
        "start_time": "2022-09-12T20:24:17.166Z"
      },
      {
        "duration": 5,
        "start_time": "2022-09-12T20:24:19.224Z"
      },
      {
        "duration": 4,
        "start_time": "2022-09-12T20:25:03.006Z"
      },
      {
        "duration": 11,
        "start_time": "2022-09-12T20:25:15.854Z"
      },
      {
        "duration": 4,
        "start_time": "2022-09-12T20:25:20.694Z"
      },
      {
        "duration": 11,
        "start_time": "2022-09-12T20:25:25.325Z"
      },
      {
        "duration": 5,
        "start_time": "2022-09-12T20:26:41.939Z"
      },
      {
        "duration": 10,
        "start_time": "2022-09-12T20:27:03.904Z"
      },
      {
        "duration": 11,
        "start_time": "2022-09-12T20:27:14.865Z"
      },
      {
        "duration": 12,
        "start_time": "2022-09-12T20:28:20.611Z"
      },
      {
        "duration": 5,
        "start_time": "2022-09-12T20:32:02.727Z"
      },
      {
        "duration": 36,
        "start_time": "2022-09-12T20:32:03.818Z"
      },
      {
        "duration": 4,
        "start_time": "2022-09-12T20:32:04.161Z"
      },
      {
        "duration": 12,
        "start_time": "2022-09-12T20:32:05.047Z"
      },
      {
        "duration": 14,
        "start_time": "2022-09-12T20:32:06.095Z"
      },
      {
        "duration": 3,
        "start_time": "2022-09-12T20:32:10.659Z"
      },
      {
        "duration": 4,
        "start_time": "2022-09-12T20:32:11.038Z"
      },
      {
        "duration": 18,
        "start_time": "2022-09-12T20:32:12.495Z"
      },
      {
        "duration": 9,
        "start_time": "2022-09-12T20:32:15.274Z"
      },
      {
        "duration": 5,
        "start_time": "2022-09-12T20:32:16.656Z"
      },
      {
        "duration": 4,
        "start_time": "2022-09-12T20:32:17.662Z"
      },
      {
        "duration": 11,
        "start_time": "2022-09-12T20:32:18.804Z"
      },
      {
        "duration": 8,
        "start_time": "2022-09-12T20:32:39.377Z"
      },
      {
        "duration": 4,
        "start_time": "2022-09-12T20:32:40.767Z"
      },
      {
        "duration": 4,
        "start_time": "2022-09-12T20:32:42.251Z"
      },
      {
        "duration": 13,
        "start_time": "2022-09-12T20:32:43.158Z"
      },
      {
        "duration": 4,
        "start_time": "2022-09-12T20:32:48.118Z"
      },
      {
        "duration": 11,
        "start_time": "2022-09-12T20:32:51.048Z"
      },
      {
        "duration": 5,
        "start_time": "2022-09-12T20:33:11.694Z"
      },
      {
        "duration": 39,
        "start_time": "2022-09-12T20:35:52.306Z"
      },
      {
        "duration": 3,
        "start_time": "2022-09-12T20:35:52.457Z"
      },
      {
        "duration": 12,
        "start_time": "2022-09-12T20:35:52.654Z"
      },
      {
        "duration": 3,
        "start_time": "2022-09-12T20:35:53.173Z"
      },
      {
        "duration": 4,
        "start_time": "2022-09-12T20:35:53.329Z"
      },
      {
        "duration": 17,
        "start_time": "2022-09-12T20:35:53.920Z"
      },
      {
        "duration": 8,
        "start_time": "2022-09-12T20:35:54.480Z"
      },
      {
        "duration": 4,
        "start_time": "2022-09-12T20:35:55.645Z"
      },
      {
        "duration": 3,
        "start_time": "2022-09-12T20:35:56.248Z"
      },
      {
        "duration": 12,
        "start_time": "2022-09-12T20:35:56.632Z"
      },
      {
        "duration": 4,
        "start_time": "2022-09-12T20:35:58.003Z"
      },
      {
        "duration": 12,
        "start_time": "2022-09-12T20:36:00.649Z"
      },
      {
        "duration": 4,
        "start_time": "2022-09-12T20:36:06.437Z"
      },
      {
        "duration": 13,
        "start_time": "2022-09-12T20:37:45.426Z"
      },
      {
        "duration": 37,
        "start_time": "2022-09-12T20:37:54.505Z"
      },
      {
        "duration": 4,
        "start_time": "2022-09-12T20:37:54.776Z"
      },
      {
        "duration": 16,
        "start_time": "2022-09-12T20:37:54.864Z"
      },
      {
        "duration": 4,
        "start_time": "2022-09-12T20:37:55.428Z"
      },
      {
        "duration": 5,
        "start_time": "2022-09-12T20:37:55.572Z"
      },
      {
        "duration": 18,
        "start_time": "2022-09-12T20:37:56.147Z"
      },
      {
        "duration": 7,
        "start_time": "2022-09-12T20:37:56.854Z"
      },
      {
        "duration": 4,
        "start_time": "2022-09-12T20:37:57.443Z"
      },
      {
        "duration": 4,
        "start_time": "2022-09-12T20:37:57.906Z"
      },
      {
        "duration": 11,
        "start_time": "2022-09-12T20:37:58.769Z"
      },
      {
        "duration": 4,
        "start_time": "2022-09-12T20:37:58.836Z"
      },
      {
        "duration": 12,
        "start_time": "2022-09-12T20:38:00.147Z"
      },
      {
        "duration": 4,
        "start_time": "2022-09-12T20:38:01.950Z"
      },
      {
        "duration": 12,
        "start_time": "2022-09-12T20:38:07.195Z"
      },
      {
        "duration": 10,
        "start_time": "2022-09-12T20:38:19.389Z"
      },
      {
        "duration": 5,
        "start_time": "2022-09-12T20:38:36.936Z"
      },
      {
        "duration": 8,
        "start_time": "2022-09-12T20:38:38.524Z"
      },
      {
        "duration": 9,
        "start_time": "2022-09-12T20:38:39.537Z"
      },
      {
        "duration": 9,
        "start_time": "2022-09-12T20:38:40.202Z"
      },
      {
        "duration": 26,
        "start_time": "2022-09-12T20:44:28.598Z"
      },
      {
        "duration": 28,
        "start_time": "2022-09-12T20:45:36.937Z"
      },
      {
        "duration": 418,
        "start_time": "2022-09-12T20:45:48.300Z"
      },
      {
        "duration": 451,
        "start_time": "2022-09-12T20:46:08.708Z"
      },
      {
        "duration": 404,
        "start_time": "2022-09-12T20:46:33.405Z"
      },
      {
        "duration": 435,
        "start_time": "2022-09-12T20:46:40.270Z"
      },
      {
        "duration": 415,
        "start_time": "2022-09-12T20:47:03.223Z"
      },
      {
        "duration": 472,
        "start_time": "2022-09-12T20:47:07.618Z"
      },
      {
        "duration": 224,
        "start_time": "2022-09-12T20:47:58.148Z"
      },
      {
        "duration": 191,
        "start_time": "2022-09-12T20:48:10.670Z"
      },
      {
        "duration": 187,
        "start_time": "2022-09-12T20:48:21.058Z"
      },
      {
        "duration": 163,
        "start_time": "2022-09-12T20:49:39.487Z"
      },
      {
        "duration": 264,
        "start_time": "2022-09-12T20:50:17.226Z"
      },
      {
        "duration": 156,
        "start_time": "2022-09-12T20:51:12.733Z"
      },
      {
        "duration": 4,
        "start_time": "2022-09-12T20:53:37.694Z"
      },
      {
        "duration": 206,
        "start_time": "2022-09-12T20:53:47.267Z"
      },
      {
        "duration": 165,
        "start_time": "2022-09-12T20:54:54.107Z"
      },
      {
        "duration": 200,
        "start_time": "2022-09-12T21:02:23.074Z"
      },
      {
        "duration": 179,
        "start_time": "2022-09-12T21:09:10.726Z"
      },
      {
        "duration": 251,
        "start_time": "2022-09-12T21:09:12.716Z"
      },
      {
        "duration": 66,
        "start_time": "2022-09-12T21:13:26.063Z"
      },
      {
        "duration": 84,
        "start_time": "2022-09-12T21:14:44.920Z"
      },
      {
        "duration": 146,
        "start_time": "2022-09-12T21:15:03.495Z"
      },
      {
        "duration": 158,
        "start_time": "2022-09-12T21:15:59.722Z"
      },
      {
        "duration": 111,
        "start_time": "2022-09-12T21:18:27.217Z"
      },
      {
        "duration": 19571,
        "start_time": "2022-09-12T21:18:34.905Z"
      },
      {
        "duration": 181,
        "start_time": "2022-09-12T21:20:36.605Z"
      },
      {
        "duration": 169,
        "start_time": "2022-09-12T21:20:45.456Z"
      },
      {
        "duration": 168,
        "start_time": "2022-09-12T21:21:30.581Z"
      },
      {
        "duration": 74,
        "start_time": "2022-09-12T21:22:04.025Z"
      },
      {
        "duration": 25,
        "start_time": "2022-09-12T21:22:20.384Z"
      },
      {
        "duration": 24,
        "start_time": "2022-09-12T21:22:41.741Z"
      },
      {
        "duration": 162,
        "start_time": "2022-09-12T21:22:51.664Z"
      },
      {
        "duration": 161,
        "start_time": "2022-09-12T21:23:11.137Z"
      },
      {
        "duration": 281,
        "start_time": "2022-09-12T21:23:17.783Z"
      },
      {
        "duration": 19345,
        "start_time": "2022-09-12T21:24:42.964Z"
      },
      {
        "duration": 196,
        "start_time": "2022-09-12T21:32:08.810Z"
      },
      {
        "duration": 163,
        "start_time": "2022-09-12T21:32:41.290Z"
      },
      {
        "duration": 282,
        "start_time": "2022-09-12T21:32:45.905Z"
      },
      {
        "duration": 67572,
        "start_time": "2022-09-12T21:33:44.088Z"
      },
      {
        "duration": 26873,
        "start_time": "2022-09-12T21:36:14.425Z"
      },
      {
        "duration": 26478,
        "start_time": "2022-09-12T21:37:23.625Z"
      },
      {
        "duration": 27016,
        "start_time": "2022-09-12T21:59:03.953Z"
      },
      {
        "duration": 254,
        "start_time": "2022-09-12T21:59:30.970Z"
      },
      {
        "duration": 92,
        "start_time": "2022-09-12T22:04:54.130Z"
      },
      {
        "duration": 237,
        "start_time": "2022-09-12T22:06:04.031Z"
      },
      {
        "duration": 12,
        "start_time": "2022-09-12T22:16:44.675Z"
      },
      {
        "duration": 38,
        "start_time": "2022-09-12T22:16:50.327Z"
      },
      {
        "duration": 4,
        "start_time": "2022-09-12T22:16:50.704Z"
      },
      {
        "duration": 12,
        "start_time": "2022-09-12T22:16:51.043Z"
      },
      {
        "duration": 3,
        "start_time": "2022-09-12T22:16:52.343Z"
      },
      {
        "duration": 4,
        "start_time": "2022-09-12T22:16:52.863Z"
      },
      {
        "duration": 19,
        "start_time": "2022-09-12T22:16:54.734Z"
      },
      {
        "duration": 7,
        "start_time": "2022-09-12T22:16:56.671Z"
      },
      {
        "duration": 5,
        "start_time": "2022-09-12T22:16:58.618Z"
      },
      {
        "duration": 4,
        "start_time": "2022-09-12T22:16:59.359Z"
      },
      {
        "duration": 12,
        "start_time": "2022-09-12T22:16:59.818Z"
      },
      {
        "duration": 4,
        "start_time": "2022-09-12T22:17:00.916Z"
      },
      {
        "duration": 11,
        "start_time": "2022-09-12T22:17:02.823Z"
      },
      {
        "duration": 5,
        "start_time": "2022-09-12T22:17:06.142Z"
      },
      {
        "duration": 9,
        "start_time": "2022-09-12T22:17:08.044Z"
      },
      {
        "duration": 6,
        "start_time": "2022-09-12T22:17:13.617Z"
      },
      {
        "duration": 7,
        "start_time": "2022-09-12T22:17:16.887Z"
      },
      {
        "duration": 8,
        "start_time": "2022-09-12T22:17:18.861Z"
      },
      {
        "duration": 11,
        "start_time": "2022-09-12T22:17:28.781Z"
      },
      {
        "duration": 9,
        "start_time": "2022-09-12T22:17:29.646Z"
      },
      {
        "duration": 146,
        "start_time": "2022-09-12T22:17:47.678Z"
      },
      {
        "duration": 255,
        "start_time": "2022-09-12T22:17:59.012Z"
      },
      {
        "duration": 25812,
        "start_time": "2022-09-12T22:18:07.241Z"
      },
      {
        "duration": 262,
        "start_time": "2022-09-12T22:18:57.485Z"
      },
      {
        "duration": 38,
        "start_time": "2022-09-12T22:20:12.922Z"
      },
      {
        "duration": 4,
        "start_time": "2022-09-12T22:20:15.078Z"
      },
      {
        "duration": 12,
        "start_time": "2022-09-12T22:20:15.438Z"
      },
      {
        "duration": 3,
        "start_time": "2022-09-12T22:20:16.465Z"
      },
      {
        "duration": 3,
        "start_time": "2022-09-12T22:20:16.706Z"
      },
      {
        "duration": 16,
        "start_time": "2022-09-12T22:20:17.566Z"
      },
      {
        "duration": 4,
        "start_time": "2022-09-12T22:20:17.931Z"
      },
      {
        "duration": 17,
        "start_time": "2022-09-12T22:20:18.472Z"
      },
      {
        "duration": 8,
        "start_time": "2022-09-12T22:20:18.974Z"
      },
      {
        "duration": 4,
        "start_time": "2022-09-12T22:20:19.321Z"
      },
      {
        "duration": 3,
        "start_time": "2022-09-12T22:20:19.676Z"
      },
      {
        "duration": 11,
        "start_time": "2022-09-12T22:20:20.049Z"
      },
      {
        "duration": 4,
        "start_time": "2022-09-12T22:20:20.401Z"
      },
      {
        "duration": 12,
        "start_time": "2022-09-12T22:20:20.981Z"
      },
      {
        "duration": 6,
        "start_time": "2022-09-12T22:20:22.537Z"
      },
      {
        "duration": 10,
        "start_time": "2022-09-12T22:20:22.721Z"
      },
      {
        "duration": 6,
        "start_time": "2022-09-12T22:20:23.218Z"
      },
      {
        "duration": 9,
        "start_time": "2022-09-12T22:20:23.625Z"
      },
      {
        "duration": 7,
        "start_time": "2022-09-12T22:20:24.009Z"
      },
      {
        "duration": 9,
        "start_time": "2022-09-12T22:20:24.185Z"
      },
      {
        "duration": 188,
        "start_time": "2022-09-12T22:20:26.025Z"
      },
      {
        "duration": 209,
        "start_time": "2022-09-12T22:20:37.669Z"
      },
      {
        "duration": 26702,
        "start_time": "2022-09-12T22:20:41.201Z"
      },
      {
        "duration": 275,
        "start_time": "2022-09-12T22:21:07.905Z"
      },
      {
        "duration": 74,
        "start_time": "2022-09-12T22:23:56.527Z"
      },
      {
        "duration": 12,
        "start_time": "2022-09-12T22:24:02.357Z"
      },
      {
        "duration": 19,
        "start_time": "2022-09-12T22:24:03.578Z"
      },
      {
        "duration": 11,
        "start_time": "2022-09-12T22:25:54.014Z"
      },
      {
        "duration": 61,
        "start_time": "2022-09-12T22:25:56.161Z"
      },
      {
        "duration": 369,
        "start_time": "2022-09-12T22:26:05.271Z"
      },
      {
        "duration": 37,
        "start_time": "2022-09-12T22:28:44.458Z"
      },
      {
        "duration": 17,
        "start_time": "2022-09-12T22:29:59.429Z"
      },
      {
        "duration": 35,
        "start_time": "2022-09-12T22:30:17.589Z"
      },
      {
        "duration": 15,
        "start_time": "2022-09-12T22:31:23.041Z"
      },
      {
        "duration": 19,
        "start_time": "2022-09-12T22:32:35.543Z"
      },
      {
        "duration": 18,
        "start_time": "2022-09-12T22:34:45.397Z"
      },
      {
        "duration": 17,
        "start_time": "2022-09-12T22:34:56.890Z"
      },
      {
        "duration": 8,
        "start_time": "2022-09-12T22:35:31.403Z"
      },
      {
        "duration": 51,
        "start_time": "2022-09-12T22:35:48.495Z"
      },
      {
        "duration": 11,
        "start_time": "2022-09-12T22:38:39.898Z"
      },
      {
        "duration": 14,
        "start_time": "2022-09-12T22:39:06.150Z"
      },
      {
        "duration": 24,
        "start_time": "2022-09-12T22:39:09.621Z"
      },
      {
        "duration": 214,
        "start_time": "2022-09-12T22:39:13.556Z"
      },
      {
        "duration": 28,
        "start_time": "2022-09-12T22:39:59.986Z"
      },
      {
        "duration": 26,
        "start_time": "2022-09-12T22:40:04.707Z"
      },
      {
        "duration": 15,
        "start_time": "2022-09-12T22:41:01.538Z"
      },
      {
        "duration": 14,
        "start_time": "2022-09-12T22:41:23.686Z"
      },
      {
        "duration": 22,
        "start_time": "2022-09-12T22:41:55.297Z"
      },
      {
        "duration": 278,
        "start_time": "2022-09-12T22:41:57.189Z"
      },
      {
        "duration": 22,
        "start_time": "2022-09-12T22:42:03.532Z"
      },
      {
        "duration": 19,
        "start_time": "2022-09-12T22:42:05.533Z"
      },
      {
        "duration": 19,
        "start_time": "2022-09-12T22:43:21.444Z"
      },
      {
        "duration": 13,
        "start_time": "2022-09-12T22:44:26.941Z"
      },
      {
        "duration": 15,
        "start_time": "2022-09-12T22:44:34.333Z"
      },
      {
        "duration": 30,
        "start_time": "2022-09-12T22:44:35.421Z"
      },
      {
        "duration": 257,
        "start_time": "2022-09-12T22:44:40.517Z"
      },
      {
        "duration": 34,
        "start_time": "2022-09-12T22:45:00.653Z"
      },
      {
        "duration": 23,
        "start_time": "2022-09-12T22:45:06.084Z"
      },
      {
        "duration": 14,
        "start_time": "2022-09-12T22:46:24.307Z"
      },
      {
        "duration": 13,
        "start_time": "2022-09-12T22:46:37.940Z"
      },
      {
        "duration": 28,
        "start_time": "2022-09-12T22:46:41.306Z"
      },
      {
        "duration": 266,
        "start_time": "2022-09-12T22:46:42.602Z"
      },
      {
        "duration": 27,
        "start_time": "2022-09-12T22:46:49.441Z"
      },
      {
        "duration": 1569,
        "start_time": "2022-09-13T16:16:43.872Z"
      },
      {
        "duration": 168,
        "start_time": "2022-09-13T16:16:45.443Z"
      },
      {
        "duration": 5,
        "start_time": "2022-09-13T16:16:45.613Z"
      },
      {
        "duration": 20,
        "start_time": "2022-09-13T16:16:45.620Z"
      },
      {
        "duration": 5,
        "start_time": "2022-09-13T16:16:45.642Z"
      },
      {
        "duration": 13,
        "start_time": "2022-09-13T16:16:45.648Z"
      },
      {
        "duration": 19,
        "start_time": "2022-09-13T16:16:45.941Z"
      },
      {
        "duration": 6,
        "start_time": "2022-09-13T16:16:46.544Z"
      },
      {
        "duration": 5,
        "start_time": "2022-09-13T16:16:46.975Z"
      },
      {
        "duration": 3,
        "start_time": "2022-09-13T16:16:47.489Z"
      },
      {
        "duration": 14,
        "start_time": "2022-09-13T16:16:47.894Z"
      },
      {
        "duration": 4,
        "start_time": "2022-09-13T16:16:48.288Z"
      },
      {
        "duration": 11,
        "start_time": "2022-09-13T16:16:48.856Z"
      },
      {
        "duration": 4,
        "start_time": "2022-09-13T16:16:49.845Z"
      },
      {
        "duration": 9,
        "start_time": "2022-09-13T16:16:50.038Z"
      },
      {
        "duration": 5,
        "start_time": "2022-09-13T16:16:50.440Z"
      },
      {
        "duration": 7,
        "start_time": "2022-09-13T16:16:50.815Z"
      },
      {
        "duration": 7,
        "start_time": "2022-09-13T16:16:51.199Z"
      },
      {
        "duration": 9,
        "start_time": "2022-09-13T16:16:51.415Z"
      },
      {
        "duration": 187,
        "start_time": "2022-09-13T16:16:52.691Z"
      },
      {
        "duration": 270,
        "start_time": "2022-09-13T16:16:53.103Z"
      },
      {
        "duration": 28089,
        "start_time": "2022-09-13T16:16:54.001Z"
      },
      {
        "duration": 245,
        "start_time": "2022-09-13T16:17:22.092Z"
      },
      {
        "duration": 14,
        "start_time": "2022-09-13T16:17:22.339Z"
      },
      {
        "duration": 46,
        "start_time": "2022-09-13T16:17:22.355Z"
      },
      {
        "duration": 437,
        "start_time": "2022-09-13T16:17:22.406Z"
      },
      {
        "duration": 30,
        "start_time": "2022-09-13T16:17:45.488Z"
      },
      {
        "duration": 118,
        "start_time": "2022-09-13T16:17:46.977Z"
      },
      {
        "duration": 1513,
        "start_time": "2022-09-13T19:41:29.521Z"
      },
      {
        "duration": 78,
        "start_time": "2022-09-13T19:41:31.036Z"
      },
      {
        "duration": 5,
        "start_time": "2022-09-13T19:41:31.115Z"
      },
      {
        "duration": 22,
        "start_time": "2022-09-13T19:41:31.121Z"
      },
      {
        "duration": 3,
        "start_time": "2022-09-13T19:41:31.144Z"
      },
      {
        "duration": 9,
        "start_time": "2022-09-13T19:41:31.148Z"
      },
      {
        "duration": 20,
        "start_time": "2022-09-13T19:41:31.541Z"
      },
      {
        "duration": 8,
        "start_time": "2022-09-13T19:41:32.116Z"
      },
      {
        "duration": 5,
        "start_time": "2022-09-13T19:41:32.484Z"
      },
      {
        "duration": 3,
        "start_time": "2022-09-13T19:41:32.878Z"
      },
      {
        "duration": 13,
        "start_time": "2022-09-13T19:41:33.269Z"
      },
      {
        "duration": 4,
        "start_time": "2022-09-13T19:41:33.682Z"
      },
      {
        "duration": 12,
        "start_time": "2022-09-13T19:41:34.285Z"
      },
      {
        "duration": 4,
        "start_time": "2022-09-13T19:41:35.301Z"
      },
      {
        "duration": 10,
        "start_time": "2022-09-13T19:41:35.501Z"
      },
      {
        "duration": 6,
        "start_time": "2022-09-13T19:41:35.889Z"
      },
      {
        "duration": 7,
        "start_time": "2022-09-13T19:41:36.276Z"
      },
      {
        "duration": 7,
        "start_time": "2022-09-13T19:41:36.693Z"
      },
      {
        "duration": 9,
        "start_time": "2022-09-13T19:41:36.907Z"
      },
      {
        "duration": 194,
        "start_time": "2022-09-13T19:41:38.180Z"
      },
      {
        "duration": 297,
        "start_time": "2022-09-13T19:41:38.613Z"
      },
      {
        "duration": 30801,
        "start_time": "2022-09-13T19:41:39.492Z"
      },
      {
        "duration": 261,
        "start_time": "2022-09-13T19:42:10.294Z"
      },
      {
        "duration": 14,
        "start_time": "2022-09-13T19:42:10.556Z"
      },
      {
        "duration": 139,
        "start_time": "2022-09-13T19:42:10.571Z"
      },
      {
        "duration": 348,
        "start_time": "2022-09-13T19:42:10.712Z"
      },
      {
        "duration": 58,
        "start_time": "2022-09-13T19:42:11.061Z"
      },
      {
        "duration": 130,
        "start_time": "2022-09-13T19:51:03.707Z"
      },
      {
        "duration": 157,
        "start_time": "2022-09-13T20:28:53.055Z"
      },
      {
        "duration": 132,
        "start_time": "2022-09-13T20:29:12.758Z"
      },
      {
        "duration": 140,
        "start_time": "2022-09-13T20:29:20.927Z"
      },
      {
        "duration": 116,
        "start_time": "2022-09-13T20:29:25.713Z"
      },
      {
        "duration": 99,
        "start_time": "2022-09-13T20:29:30.117Z"
      },
      {
        "duration": 113,
        "start_time": "2022-09-13T20:29:33.394Z"
      },
      {
        "duration": 445,
        "start_time": "2022-09-13T20:29:38.819Z"
      },
      {
        "duration": 468,
        "start_time": "2022-09-13T20:29:43.312Z"
      },
      {
        "duration": 501,
        "start_time": "2022-09-13T20:29:47.082Z"
      },
      {
        "duration": 539,
        "start_time": "2022-09-13T20:29:53.612Z"
      },
      {
        "duration": 464,
        "start_time": "2022-09-13T20:29:58.259Z"
      },
      {
        "duration": 524,
        "start_time": "2022-09-13T20:30:02.638Z"
      },
      {
        "duration": 34,
        "start_time": "2022-09-13T20:30:51.999Z"
      },
      {
        "duration": 532,
        "start_time": "2022-09-13T20:30:52.695Z"
      },
      {
        "duration": 12,
        "start_time": "2022-09-13T20:34:20.681Z"
      },
      {
        "duration": 18,
        "start_time": "2022-09-13T20:34:21.096Z"
      },
      {
        "duration": 239,
        "start_time": "2022-09-13T20:35:28.122Z"
      },
      {
        "duration": 16,
        "start_time": "2022-09-13T20:35:55.288Z"
      },
      {
        "duration": 507,
        "start_time": "2022-09-13T20:35:57.161Z"
      },
      {
        "duration": 18,
        "start_time": "2022-09-13T20:36:01.566Z"
      },
      {
        "duration": 54,
        "start_time": "2022-09-13T20:38:23.190Z"
      },
      {
        "duration": 47,
        "start_time": "2022-09-13T20:38:30.270Z"
      },
      {
        "duration": 47,
        "start_time": "2022-09-13T20:38:36.029Z"
      },
      {
        "duration": 49,
        "start_time": "2022-09-13T20:38:41.609Z"
      },
      {
        "duration": 53,
        "start_time": "2022-09-13T20:38:46.009Z"
      },
      {
        "duration": 17,
        "start_time": "2022-09-13T20:38:52.961Z"
      },
      {
        "duration": 45,
        "start_time": "2022-09-13T20:38:55.972Z"
      },
      {
        "duration": 32,
        "start_time": "2022-09-13T20:39:09.023Z"
      },
      {
        "duration": 24,
        "start_time": "2022-09-13T20:39:30.109Z"
      },
      {
        "duration": 29,
        "start_time": "2022-09-13T20:39:35.401Z"
      },
      {
        "duration": 23,
        "start_time": "2022-09-13T20:39:40.730Z"
      },
      {
        "duration": 28,
        "start_time": "2022-09-13T20:39:45.529Z"
      },
      {
        "duration": 27,
        "start_time": "2022-09-13T20:39:51.561Z"
      },
      {
        "duration": 26,
        "start_time": "2022-09-13T20:39:55.863Z"
      },
      {
        "duration": 682,
        "start_time": "2022-09-13T20:41:42.241Z"
      },
      {
        "duration": 689,
        "start_time": "2022-09-13T20:41:51.749Z"
      },
      {
        "duration": 743,
        "start_time": "2022-09-13T20:42:03.089Z"
      },
      {
        "duration": 640,
        "start_time": "2022-09-13T20:42:08.962Z"
      },
      {
        "duration": 705,
        "start_time": "2022-09-13T20:42:13.709Z"
      },
      {
        "duration": 77,
        "start_time": "2022-09-13T20:42:17.651Z"
      },
      {
        "duration": 1083,
        "start_time": "2022-09-13T20:42:23.489Z"
      },
      {
        "duration": 1372,
        "start_time": "2022-09-13T20:42:31.437Z"
      },
      {
        "duration": 901,
        "start_time": "2022-09-13T20:42:38.783Z"
      },
      {
        "duration": 1060,
        "start_time": "2022-09-13T20:42:43.935Z"
      },
      {
        "duration": 1024,
        "start_time": "2022-09-13T20:42:51.662Z"
      },
      {
        "duration": 10,
        "start_time": "2022-09-13T20:43:15.114Z"
      },
      {
        "duration": 69,
        "start_time": "2022-09-13T20:43:41.443Z"
      },
      {
        "duration": 1040,
        "start_time": "2022-09-13T20:44:12.744Z"
      },
      {
        "duration": 11,
        "start_time": "2022-09-13T20:44:25.389Z"
      },
      {
        "duration": 11,
        "start_time": "2022-09-13T20:45:08.961Z"
      },
      {
        "duration": 19,
        "start_time": "2022-09-13T20:45:09.795Z"
      },
      {
        "duration": 458,
        "start_time": "2022-09-13T20:45:39.142Z"
      },
      {
        "duration": 439,
        "start_time": "2022-09-13T20:45:46.918Z"
      },
      {
        "duration": 408,
        "start_time": "2022-09-13T20:45:51.851Z"
      },
      {
        "duration": 440,
        "start_time": "2022-09-13T20:45:56.326Z"
      },
      {
        "duration": 217,
        "start_time": "2022-09-13T20:47:59.922Z"
      },
      {
        "duration": 350,
        "start_time": "2022-09-13T20:48:32.761Z"
      },
      {
        "duration": 153,
        "start_time": "2022-09-13T20:48:58.561Z"
      },
      {
        "duration": 248,
        "start_time": "2022-09-13T20:49:10.929Z"
      },
      {
        "duration": 198,
        "start_time": "2022-09-13T20:49:19.137Z"
      },
      {
        "duration": 273,
        "start_time": "2022-09-13T20:49:40.969Z"
      },
      {
        "duration": 768,
        "start_time": "2022-09-13T20:50:49.203Z"
      },
      {
        "duration": 867,
        "start_time": "2022-09-13T20:51:00.337Z"
      },
      {
        "duration": 783,
        "start_time": "2022-09-13T20:51:28.222Z"
      },
      {
        "duration": 146,
        "start_time": "2022-09-13T21:14:42.159Z"
      },
      {
        "duration": 5,
        "start_time": "2022-09-13T21:16:01.241Z"
      },
      {
        "duration": 10,
        "start_time": "2022-09-13T21:16:46.959Z"
      },
      {
        "duration": 546,
        "start_time": "2022-09-13T21:16:53.653Z"
      },
      {
        "duration": 10,
        "start_time": "2022-09-13T21:17:53.118Z"
      },
      {
        "duration": 441,
        "start_time": "2022-09-13T21:17:53.500Z"
      },
      {
        "duration": 11,
        "start_time": "2022-09-13T21:17:57.461Z"
      },
      {
        "duration": 509,
        "start_time": "2022-09-13T21:17:58.860Z"
      },
      {
        "duration": 9,
        "start_time": "2022-09-13T21:18:04.966Z"
      },
      {
        "duration": 572,
        "start_time": "2022-09-13T21:18:06.499Z"
      },
      {
        "duration": 9,
        "start_time": "2022-09-13T21:18:11.278Z"
      },
      {
        "duration": 540,
        "start_time": "2022-09-13T21:18:12.598Z"
      },
      {
        "duration": 9,
        "start_time": "2022-09-13T21:18:19.766Z"
      },
      {
        "duration": 551,
        "start_time": "2022-09-13T21:18:20.321Z"
      },
      {
        "duration": 10,
        "start_time": "2022-09-13T21:18:25.779Z"
      },
      {
        "duration": 544,
        "start_time": "2022-09-13T21:18:26.358Z"
      },
      {
        "duration": 9,
        "start_time": "2022-09-13T21:18:30.518Z"
      },
      {
        "duration": 522,
        "start_time": "2022-09-13T21:18:30.865Z"
      },
      {
        "duration": 10,
        "start_time": "2022-09-13T21:18:35.050Z"
      },
      {
        "duration": 532,
        "start_time": "2022-09-13T21:18:35.506Z"
      },
      {
        "duration": 4,
        "start_time": "2022-09-13T21:21:43.679Z"
      },
      {
        "duration": 552,
        "start_time": "2022-09-13T21:22:46.087Z"
      },
      {
        "duration": 6,
        "start_time": "2022-09-13T21:22:50.667Z"
      },
      {
        "duration": 6,
        "start_time": "2022-09-13T21:23:03.707Z"
      },
      {
        "duration": 535,
        "start_time": "2022-09-13T21:24:03.746Z"
      },
      {
        "duration": 537,
        "start_time": "2022-09-13T21:24:09.779Z"
      },
      {
        "duration": 160,
        "start_time": "2022-09-13T21:25:36.160Z"
      },
      {
        "duration": 30,
        "start_time": "2022-09-13T21:30:39.680Z"
      },
      {
        "duration": 21,
        "start_time": "2022-09-13T21:30:59.446Z"
      },
      {
        "duration": 3,
        "start_time": "2022-09-13T21:31:01.580Z"
      },
      {
        "duration": 8,
        "start_time": "2022-09-13T21:31:02.087Z"
      },
      {
        "duration": 6,
        "start_time": "2022-09-13T21:31:02.480Z"
      },
      {
        "duration": 8,
        "start_time": "2022-09-13T21:31:02.679Z"
      },
      {
        "duration": 188,
        "start_time": "2022-09-13T21:31:03.897Z"
      },
      {
        "duration": 259,
        "start_time": "2022-09-13T21:31:04.319Z"
      },
      {
        "duration": 34103,
        "start_time": "2022-09-13T21:31:05.780Z"
      },
      {
        "duration": 351,
        "start_time": "2022-09-13T21:31:39.884Z"
      },
      {
        "duration": 11,
        "start_time": "2022-09-13T21:31:40.236Z"
      },
      {
        "duration": 65,
        "start_time": "2022-09-13T21:31:40.249Z"
      },
      {
        "duration": 511,
        "start_time": "2022-09-13T21:31:40.315Z"
      },
      {
        "duration": 81,
        "start_time": "2022-09-13T21:31:40.828Z"
      },
      {
        "duration": 1230,
        "start_time": "2022-09-13T21:31:40.911Z"
      },
      {
        "duration": 8,
        "start_time": "2022-09-13T21:31:42.143Z"
      },
      {
        "duration": 69,
        "start_time": "2022-09-13T21:31:42.152Z"
      },
      {
        "duration": 1369,
        "start_time": "2022-09-13T21:31:42.225Z"
      },
      {
        "duration": 14,
        "start_time": "2022-09-13T21:31:43.595Z"
      },
      {
        "duration": 26,
        "start_time": "2022-09-13T21:31:43.610Z"
      },
      {
        "duration": 649,
        "start_time": "2022-09-13T21:31:43.637Z"
      },
      {
        "duration": 400,
        "start_time": "2022-09-13T21:31:44.309Z"
      },
      {
        "duration": 1659,
        "start_time": "2022-09-13T21:31:44.711Z"
      },
      {
        "duration": 4,
        "start_time": "2022-09-13T21:31:46.372Z"
      },
      {
        "duration": 11,
        "start_time": "2022-09-13T21:31:46.377Z"
      },
      {
        "duration": 647,
        "start_time": "2022-09-13T21:31:46.389Z"
      },
      {
        "duration": 153,
        "start_time": "2022-09-13T21:31:47.037Z"
      },
      {
        "duration": 4,
        "start_time": "2022-09-13T21:31:56.655Z"
      },
      {
        "duration": 8,
        "start_time": "2022-09-13T21:31:56.962Z"
      },
      {
        "duration": 602,
        "start_time": "2022-09-13T21:31:57.355Z"
      },
      {
        "duration": 208,
        "start_time": "2022-09-13T21:31:57.979Z"
      },
      {
        "duration": 1318,
        "start_time": "2022-09-13T21:32:30.601Z"
      },
      {
        "duration": 39,
        "start_time": "2022-09-13T21:32:31.921Z"
      },
      {
        "duration": 5,
        "start_time": "2022-09-13T21:32:31.961Z"
      },
      {
        "duration": 23,
        "start_time": "2022-09-13T21:32:31.967Z"
      },
      {
        "duration": 3,
        "start_time": "2022-09-13T21:32:31.992Z"
      },
      {
        "duration": 5,
        "start_time": "2022-09-13T21:32:31.996Z"
      },
      {
        "duration": 22,
        "start_time": "2022-09-13T21:32:32.003Z"
      },
      {
        "duration": 7,
        "start_time": "2022-09-13T21:32:32.026Z"
      },
      {
        "duration": 13,
        "start_time": "2022-09-13T21:32:32.034Z"
      },
      {
        "duration": 7,
        "start_time": "2022-09-13T21:32:32.048Z"
      },
      {
        "duration": 18,
        "start_time": "2022-09-13T21:32:32.056Z"
      },
      {
        "duration": 3,
        "start_time": "2022-09-13T21:32:32.076Z"
      },
      {
        "duration": 12,
        "start_time": "2022-09-13T21:32:32.080Z"
      },
      {
        "duration": 4,
        "start_time": "2022-09-13T21:32:32.108Z"
      },
      {
        "duration": 12,
        "start_time": "2022-09-13T21:32:32.113Z"
      },
      {
        "duration": 5,
        "start_time": "2022-09-13T21:32:32.126Z"
      },
      {
        "duration": 11,
        "start_time": "2022-09-13T21:32:32.132Z"
      },
      {
        "duration": 6,
        "start_time": "2022-09-13T21:32:32.144Z"
      },
      {
        "duration": 8,
        "start_time": "2022-09-13T21:32:32.151Z"
      },
      {
        "duration": 221,
        "start_time": "2022-09-13T21:32:32.160Z"
      },
      {
        "duration": 279,
        "start_time": "2022-09-13T21:32:32.383Z"
      },
      {
        "duration": 30130,
        "start_time": "2022-09-13T21:32:32.663Z"
      },
      {
        "duration": 261,
        "start_time": "2022-09-13T21:33:02.794Z"
      },
      {
        "duration": 12,
        "start_time": "2022-09-13T21:33:03.057Z"
      },
      {
        "duration": 46,
        "start_time": "2022-09-13T21:33:03.070Z"
      },
      {
        "duration": 355,
        "start_time": "2022-09-13T21:33:03.117Z"
      },
      {
        "duration": 36,
        "start_time": "2022-09-13T21:33:03.474Z"
      },
      {
        "duration": 640,
        "start_time": "2022-09-13T21:33:03.512Z"
      },
      {
        "duration": 11,
        "start_time": "2022-09-13T21:33:04.153Z"
      },
      {
        "duration": 51,
        "start_time": "2022-09-13T21:33:04.165Z"
      },
      {
        "duration": 1251,
        "start_time": "2022-09-13T21:33:04.217Z"
      },
      {
        "duration": 10,
        "start_time": "2022-09-13T21:33:05.469Z"
      },
      {
        "duration": 37,
        "start_time": "2022-09-13T21:33:05.480Z"
      },
      {
        "duration": 615,
        "start_time": "2022-09-13T21:33:05.519Z"
      },
      {
        "duration": 215,
        "start_time": "2022-09-13T21:33:06.136Z"
      },
      {
        "duration": 804,
        "start_time": "2022-09-13T21:33:06.352Z"
      },
      {
        "duration": 4,
        "start_time": "2022-09-13T21:33:07.158Z"
      },
      {
        "duration": 11,
        "start_time": "2022-09-13T21:33:07.164Z"
      },
      {
        "duration": 567,
        "start_time": "2022-09-13T21:33:07.176Z"
      },
      {
        "duration": 151,
        "start_time": "2022-09-13T21:33:07.744Z"
      },
      {
        "duration": 305,
        "start_time": "2022-09-13T21:33:37.580Z"
      },
      {
        "duration": 18,
        "start_time": "2022-09-13T21:37:49.520Z"
      },
      {
        "duration": 5,
        "start_time": "2022-09-13T21:37:53.560Z"
      },
      {
        "duration": 39,
        "start_time": "2022-09-13T21:37:53.920Z"
      },
      {
        "duration": 4,
        "start_time": "2022-09-13T21:37:54.101Z"
      },
      {
        "duration": 11,
        "start_time": "2022-09-13T21:37:54.280Z"
      },
      {
        "duration": 4,
        "start_time": "2022-09-13T21:37:54.820Z"
      },
      {
        "duration": 5,
        "start_time": "2022-09-13T21:37:55.263Z"
      },
      {
        "duration": 16,
        "start_time": "2022-09-13T21:37:55.799Z"
      },
      {
        "duration": 7,
        "start_time": "2022-09-13T21:37:56.361Z"
      },
      {
        "duration": 5,
        "start_time": "2022-09-13T21:37:56.728Z"
      },
      {
        "duration": 3,
        "start_time": "2022-09-13T21:37:57.321Z"
      },
      {
        "duration": 12,
        "start_time": "2022-09-13T21:37:57.820Z"
      },
      {
        "duration": 3,
        "start_time": "2022-09-13T21:37:58.200Z"
      },
      {
        "duration": 11,
        "start_time": "2022-09-13T21:37:58.820Z"
      },
      {
        "duration": 4,
        "start_time": "2022-09-13T21:38:00.460Z"
      },
      {
        "duration": 10,
        "start_time": "2022-09-13T21:38:00.688Z"
      },
      {
        "duration": 5,
        "start_time": "2022-09-13T21:38:01.200Z"
      },
      {
        "duration": 7,
        "start_time": "2022-09-13T21:38:01.600Z"
      },
      {
        "duration": 7,
        "start_time": "2022-09-13T21:38:01.988Z"
      },
      {
        "duration": 8,
        "start_time": "2022-09-13T21:38:02.200Z"
      },
      {
        "duration": 205,
        "start_time": "2022-09-13T21:38:03.359Z"
      },
      {
        "duration": 210,
        "start_time": "2022-09-13T21:38:03.744Z"
      },
      {
        "duration": 29986,
        "start_time": "2022-09-13T21:38:04.801Z"
      },
      {
        "duration": 266,
        "start_time": "2022-09-13T21:38:34.789Z"
      },
      {
        "duration": 18,
        "start_time": "2022-09-13T21:38:35.057Z"
      },
      {
        "duration": 16,
        "start_time": "2022-09-13T21:38:38.680Z"
      },
      {
        "duration": 246,
        "start_time": "2022-09-13T21:38:42.409Z"
      },
      {
        "duration": 17,
        "start_time": "2022-09-13T21:38:51.462Z"
      },
      {
        "duration": 497,
        "start_time": "2022-09-13T21:38:56.620Z"
      },
      {
        "duration": 11,
        "start_time": "2022-09-13T21:38:59.688Z"
      },
      {
        "duration": 40,
        "start_time": "2022-09-13T21:39:00.580Z"
      },
      {
        "duration": 1046,
        "start_time": "2022-09-13T21:39:04.756Z"
      },
      {
        "duration": 10,
        "start_time": "2022-09-13T21:39:10.080Z"
      },
      {
        "duration": 20,
        "start_time": "2022-09-13T21:39:15.100Z"
      },
      {
        "duration": 431,
        "start_time": "2022-09-13T21:39:18.069Z"
      },
      {
        "duration": 260,
        "start_time": "2022-09-13T21:39:24.587Z"
      },
      {
        "duration": 791,
        "start_time": "2022-09-13T21:39:37.564Z"
      },
      {
        "duration": 5,
        "start_time": "2022-09-13T21:39:44.820Z"
      },
      {
        "duration": 10,
        "start_time": "2022-09-13T21:39:45.360Z"
      },
      {
        "duration": 536,
        "start_time": "2022-09-13T21:39:48.551Z"
      },
      {
        "duration": 154,
        "start_time": "2022-09-13T21:39:50.580Z"
      },
      {
        "duration": 292,
        "start_time": "2022-09-13T21:39:52.221Z"
      },
      {
        "duration": 40,
        "start_time": "2022-09-13T21:41:32.483Z"
      },
      {
        "duration": 3,
        "start_time": "2022-09-13T21:41:32.743Z"
      },
      {
        "duration": 12,
        "start_time": "2022-09-13T21:41:32.922Z"
      },
      {
        "duration": 3,
        "start_time": "2022-09-13T21:41:33.861Z"
      },
      {
        "duration": 4,
        "start_time": "2022-09-13T21:41:34.060Z"
      },
      {
        "duration": 15,
        "start_time": "2022-09-13T21:41:34.888Z"
      },
      {
        "duration": 6,
        "start_time": "2022-09-13T21:41:35.343Z"
      },
      {
        "duration": 5,
        "start_time": "2022-09-13T21:41:35.662Z"
      },
      {
        "duration": 3,
        "start_time": "2022-09-13T21:41:36.001Z"
      },
      {
        "duration": 10,
        "start_time": "2022-09-13T21:41:36.342Z"
      },
      {
        "duration": 3,
        "start_time": "2022-09-13T21:41:36.704Z"
      },
      {
        "duration": 11,
        "start_time": "2022-09-13T21:41:37.220Z"
      },
      {
        "duration": 3,
        "start_time": "2022-09-13T21:41:39.144Z"
      },
      {
        "duration": 9,
        "start_time": "2022-09-13T21:41:39.622Z"
      },
      {
        "duration": 5,
        "start_time": "2022-09-13T21:41:40.848Z"
      },
      {
        "duration": 18,
        "start_time": "2022-09-13T21:41:41.120Z"
      },
      {
        "duration": 11,
        "start_time": "2022-09-13T21:41:42.160Z"
      },
      {
        "duration": 7,
        "start_time": "2022-09-13T21:41:42.720Z"
      },
      {
        "duration": 9,
        "start_time": "2022-09-13T21:41:43.067Z"
      },
      {
        "duration": 188,
        "start_time": "2022-09-13T21:41:44.961Z"
      },
      {
        "duration": 228,
        "start_time": "2022-09-13T21:41:45.940Z"
      },
      {
        "duration": 30072,
        "start_time": "2022-09-13T21:41:48.807Z"
      },
      {
        "duration": 281,
        "start_time": "2022-09-13T21:42:18.880Z"
      },
      {
        "duration": 47,
        "start_time": "2022-09-13T21:42:23.960Z"
      },
      {
        "duration": 3,
        "start_time": "2022-09-13T21:42:41.187Z"
      },
      {
        "duration": 21,
        "start_time": "2022-09-13T21:42:41.460Z"
      },
      {
        "duration": 215,
        "start_time": "2022-09-13T21:42:45.439Z"
      },
      {
        "duration": 23,
        "start_time": "2022-09-13T21:42:48.962Z"
      },
      {
        "duration": 496,
        "start_time": "2022-09-13T21:42:52.288Z"
      },
      {
        "duration": 11,
        "start_time": "2022-09-13T21:43:01.479Z"
      },
      {
        "duration": 39,
        "start_time": "2022-09-13T21:43:04.720Z"
      },
      {
        "duration": 1026,
        "start_time": "2022-09-13T21:43:10.501Z"
      },
      {
        "duration": 11,
        "start_time": "2022-09-13T21:43:17.962Z"
      },
      {
        "duration": 19,
        "start_time": "2022-09-13T21:43:20.600Z"
      },
      {
        "duration": 459,
        "start_time": "2022-09-13T21:43:25.299Z"
      },
      {
        "duration": 262,
        "start_time": "2022-09-13T21:43:34.401Z"
      },
      {
        "duration": 824,
        "start_time": "2022-09-13T21:43:43.856Z"
      },
      {
        "duration": 5,
        "start_time": "2022-09-13T21:43:50.462Z"
      },
      {
        "duration": 10,
        "start_time": "2022-09-13T21:43:54.121Z"
      },
      {
        "duration": 556,
        "start_time": "2022-09-13T21:43:57.081Z"
      },
      {
        "duration": 155,
        "start_time": "2022-09-13T21:44:00.097Z"
      },
      {
        "duration": 299,
        "start_time": "2022-09-13T21:44:02.262Z"
      },
      {
        "duration": 17,
        "start_time": "2022-09-13T21:56:53.455Z"
      },
      {
        "duration": 38,
        "start_time": "2022-09-13T21:57:06.968Z"
      },
      {
        "duration": 3,
        "start_time": "2022-09-13T21:57:07.206Z"
      },
      {
        "duration": 11,
        "start_time": "2022-09-13T21:57:07.605Z"
      },
      {
        "duration": 3,
        "start_time": "2022-09-13T21:57:08.250Z"
      },
      {
        "duration": 3,
        "start_time": "2022-09-13T21:57:08.663Z"
      },
      {
        "duration": 19,
        "start_time": "2022-09-13T21:57:09.268Z"
      },
      {
        "duration": 6,
        "start_time": "2022-09-13T21:57:09.371Z"
      },
      {
        "duration": 4,
        "start_time": "2022-09-13T21:57:09.427Z"
      },
      {
        "duration": 3,
        "start_time": "2022-09-13T21:57:09.507Z"
      },
      {
        "duration": 12,
        "start_time": "2022-09-13T21:57:09.586Z"
      },
      {
        "duration": 3,
        "start_time": "2022-09-13T21:57:09.662Z"
      },
      {
        "duration": 10,
        "start_time": "2022-09-13T21:57:09.771Z"
      },
      {
        "duration": 4,
        "start_time": "2022-09-13T21:57:09.985Z"
      },
      {
        "duration": 9,
        "start_time": "2022-09-13T21:57:10.054Z"
      },
      {
        "duration": 18,
        "start_time": "2022-09-13T21:57:10.085Z"
      },
      {
        "duration": 4,
        "start_time": "2022-09-13T21:57:10.151Z"
      },
      {
        "duration": 8,
        "start_time": "2022-09-13T21:57:10.205Z"
      },
      {
        "duration": 7,
        "start_time": "2022-09-13T21:57:10.270Z"
      },
      {
        "duration": 7,
        "start_time": "2022-09-13T21:57:10.285Z"
      },
      {
        "duration": 185,
        "start_time": "2022-09-13T21:57:10.558Z"
      },
      {
        "duration": 232,
        "start_time": "2022-09-13T21:57:10.745Z"
      },
      {
        "duration": 30028,
        "start_time": "2022-09-13T21:57:10.978Z"
      },
      {
        "duration": 253,
        "start_time": "2022-09-13T21:57:41.009Z"
      },
      {
        "duration": 3,
        "start_time": "2022-09-13T21:57:41.264Z"
      },
      {
        "duration": 46,
        "start_time": "2022-09-13T21:57:41.268Z"
      },
      {
        "duration": 445,
        "start_time": "2022-09-13T21:57:41.317Z"
      },
      {
        "duration": 46,
        "start_time": "2022-09-13T21:57:41.764Z"
      },
      {
        "duration": 595,
        "start_time": "2022-09-13T21:57:41.812Z"
      },
      {
        "duration": 10,
        "start_time": "2022-09-13T21:57:42.410Z"
      },
      {
        "duration": 26,
        "start_time": "2022-09-13T21:57:42.422Z"
      },
      {
        "duration": 1128,
        "start_time": "2022-09-13T21:57:42.508Z"
      },
      {
        "duration": 10,
        "start_time": "2022-09-13T21:57:43.637Z"
      },
      {
        "duration": 13,
        "start_time": "2022-09-13T21:57:48.588Z"
      },
      {
        "duration": 429,
        "start_time": "2022-09-13T21:57:52.686Z"
      },
      {
        "duration": 190,
        "start_time": "2022-09-13T21:57:55.555Z"
      },
      {
        "duration": 797,
        "start_time": "2022-09-13T21:57:56.959Z"
      },
      {
        "duration": 5,
        "start_time": "2022-09-13T21:57:59.805Z"
      },
      {
        "duration": 9,
        "start_time": "2022-09-13T21:58:00.306Z"
      },
      {
        "duration": 537,
        "start_time": "2022-09-13T21:58:02.485Z"
      },
      {
        "duration": 147,
        "start_time": "2022-09-13T21:58:09.106Z"
      },
      {
        "duration": 296,
        "start_time": "2022-09-13T21:58:18.486Z"
      },
      {
        "duration": 251,
        "start_time": "2022-09-13T21:59:30.868Z"
      },
      {
        "duration": 283,
        "start_time": "2022-09-13T21:59:44.279Z"
      },
      {
        "duration": 244,
        "start_time": "2022-09-13T21:59:52.151Z"
      },
      {
        "duration": 38,
        "start_time": "2022-09-13T22:01:05.055Z"
      },
      {
        "duration": 3,
        "start_time": "2022-09-13T22:01:05.363Z"
      },
      {
        "duration": 11,
        "start_time": "2022-09-13T22:01:05.947Z"
      },
      {
        "duration": 3,
        "start_time": "2022-09-13T22:01:06.805Z"
      },
      {
        "duration": 4,
        "start_time": "2022-09-13T22:01:07.476Z"
      },
      {
        "duration": 16,
        "start_time": "2022-09-13T22:01:08.259Z"
      },
      {
        "duration": 6,
        "start_time": "2022-09-13T22:01:09.043Z"
      },
      {
        "duration": 4,
        "start_time": "2022-09-13T22:01:09.655Z"
      },
      {
        "duration": 3,
        "start_time": "2022-09-13T22:01:10.394Z"
      },
      {
        "duration": 11,
        "start_time": "2022-09-13T22:01:10.885Z"
      },
      {
        "duration": 4,
        "start_time": "2022-09-13T22:01:11.680Z"
      },
      {
        "duration": 10,
        "start_time": "2022-09-13T22:01:13.387Z"
      },
      {
        "duration": 4,
        "start_time": "2022-09-13T22:01:21.869Z"
      },
      {
        "duration": 9,
        "start_time": "2022-09-13T22:01:25.605Z"
      },
      {
        "duration": 16,
        "start_time": "2022-09-13T22:01:34.251Z"
      },
      {
        "duration": 9,
        "start_time": "2022-09-13T22:02:31.959Z"
      },
      {
        "duration": 16,
        "start_time": "2022-09-13T22:02:34.747Z"
      },
      {
        "duration": 19,
        "start_time": "2022-09-13T22:02:53.892Z"
      },
      {
        "duration": 16,
        "start_time": "2022-09-13T22:03:09.059Z"
      },
      {
        "duration": 4,
        "start_time": "2022-09-13T22:03:41.909Z"
      },
      {
        "duration": 7,
        "start_time": "2022-09-13T22:03:42.773Z"
      },
      {
        "duration": 7,
        "start_time": "2022-09-13T22:03:43.685Z"
      },
      {
        "duration": 9,
        "start_time": "2022-09-13T22:03:44.208Z"
      },
      {
        "duration": 262,
        "start_time": "2022-09-13T22:04:18.386Z"
      },
      {
        "duration": 284,
        "start_time": "2022-09-13T22:04:26.073Z"
      },
      {
        "duration": 32659,
        "start_time": "2022-09-13T22:04:37.101Z"
      },
      {
        "duration": 250,
        "start_time": "2022-09-13T22:05:09.762Z"
      },
      {
        "duration": 206,
        "start_time": "2022-09-13T22:06:46.759Z"
      },
      {
        "duration": 3,
        "start_time": "2022-09-13T22:06:56.451Z"
      },
      {
        "duration": 20,
        "start_time": "2022-09-13T22:06:57.974Z"
      },
      {
        "duration": 258,
        "start_time": "2022-09-13T22:07:02.574Z"
      },
      {
        "duration": 16,
        "start_time": "2022-09-13T22:07:08.470Z"
      },
      {
        "duration": 550,
        "start_time": "2022-09-13T22:07:12.006Z"
      },
      {
        "duration": 10,
        "start_time": "2022-09-13T22:07:16.585Z"
      },
      {
        "duration": 23,
        "start_time": "2022-09-13T22:07:20.752Z"
      },
      {
        "duration": 1129,
        "start_time": "2022-09-13T22:07:25.905Z"
      },
      {
        "duration": 10,
        "start_time": "2022-09-13T22:07:31.759Z"
      },
      {
        "duration": 13,
        "start_time": "2022-09-13T22:07:34.357Z"
      },
      {
        "duration": 468,
        "start_time": "2022-09-13T22:07:37.906Z"
      },
      {
        "duration": 194,
        "start_time": "2022-09-13T22:07:43.255Z"
      },
      {
        "duration": 877,
        "start_time": "2022-09-13T22:07:45.558Z"
      },
      {
        "duration": 5,
        "start_time": "2022-09-13T22:07:55.307Z"
      },
      {
        "duration": 9,
        "start_time": "2022-09-13T22:07:56.086Z"
      },
      {
        "duration": 581,
        "start_time": "2022-09-13T22:07:59.947Z"
      },
      {
        "duration": 148,
        "start_time": "2022-09-13T22:08:08.859Z"
      },
      {
        "duration": 147,
        "start_time": "2022-09-13T22:08:52.706Z"
      },
      {
        "duration": 303,
        "start_time": "2022-09-13T22:09:35.406Z"
      },
      {
        "duration": 39,
        "start_time": "2022-09-13T22:11:15.190Z"
      },
      {
        "duration": 3,
        "start_time": "2022-09-13T22:11:15.386Z"
      },
      {
        "duration": 12,
        "start_time": "2022-09-13T22:11:15.607Z"
      },
      {
        "duration": 4,
        "start_time": "2022-09-13T22:11:17.067Z"
      },
      {
        "duration": 4,
        "start_time": "2022-09-13T22:11:18.066Z"
      },
      {
        "duration": 17,
        "start_time": "2022-09-13T22:11:19.685Z"
      },
      {
        "duration": 8,
        "start_time": "2022-09-13T22:11:23.159Z"
      },
      {
        "duration": 5,
        "start_time": "2022-09-13T22:11:24.406Z"
      },
      {
        "duration": 3,
        "start_time": "2022-09-13T22:11:28.351Z"
      },
      {
        "duration": 10,
        "start_time": "2022-09-13T22:11:31.851Z"
      },
      {
        "duration": 3,
        "start_time": "2022-09-13T22:11:36.506Z"
      },
      {
        "duration": 11,
        "start_time": "2022-09-13T22:11:40.585Z"
      },
      {
        "duration": 4,
        "start_time": "2022-09-13T22:11:56.359Z"
      },
      {
        "duration": 8,
        "start_time": "2022-09-13T22:11:57.490Z"
      },
      {
        "duration": 30,
        "start_time": "2022-09-13T22:12:53.459Z"
      },
      {
        "duration": 7,
        "start_time": "2022-09-13T22:12:59.609Z"
      },
      {
        "duration": 8,
        "start_time": "2022-09-13T22:13:02.130Z"
      },
      {
        "duration": 9,
        "start_time": "2022-09-13T22:13:14.587Z"
      },
      {
        "duration": 4,
        "start_time": "2022-09-13T22:13:19.259Z"
      },
      {
        "duration": 7,
        "start_time": "2022-09-13T22:13:20.085Z"
      },
      {
        "duration": 1406,
        "start_time": "2022-09-13T22:13:45.410Z"
      },
      {
        "duration": 41,
        "start_time": "2022-09-13T22:13:46.818Z"
      },
      {
        "duration": 6,
        "start_time": "2022-09-13T22:13:46.860Z"
      },
      {
        "duration": 32,
        "start_time": "2022-09-13T22:13:46.868Z"
      },
      {
        "duration": 5,
        "start_time": "2022-09-13T22:13:46.903Z"
      },
      {
        "duration": 7,
        "start_time": "2022-09-13T22:13:46.909Z"
      },
      {
        "duration": 30,
        "start_time": "2022-09-13T22:13:46.918Z"
      },
      {
        "duration": 8,
        "start_time": "2022-09-13T22:13:46.949Z"
      },
      {
        "duration": 10,
        "start_time": "2022-09-13T22:13:46.958Z"
      },
      {
        "duration": 13,
        "start_time": "2022-09-13T22:13:46.969Z"
      },
      {
        "duration": 28,
        "start_time": "2022-09-13T22:13:46.983Z"
      },
      {
        "duration": 3,
        "start_time": "2022-09-13T22:13:47.012Z"
      },
      {
        "duration": 23,
        "start_time": "2022-09-13T22:13:47.017Z"
      },
      {
        "duration": 3,
        "start_time": "2022-09-13T22:13:47.044Z"
      },
      {
        "duration": 15,
        "start_time": "2022-09-13T22:13:47.049Z"
      },
      {
        "duration": 21,
        "start_time": "2022-09-13T22:13:47.066Z"
      },
      {
        "duration": 5,
        "start_time": "2022-09-13T22:13:47.109Z"
      },
      {
        "duration": 8,
        "start_time": "2022-09-13T22:13:47.115Z"
      },
      {
        "duration": 6,
        "start_time": "2022-09-13T22:13:47.125Z"
      },
      {
        "duration": 12,
        "start_time": "2022-09-13T22:13:47.132Z"
      },
      {
        "duration": 273,
        "start_time": "2022-09-13T22:13:47.146Z"
      },
      {
        "duration": 271,
        "start_time": "2022-09-13T22:13:47.421Z"
      },
      {
        "duration": 34315,
        "start_time": "2022-09-13T22:13:47.693Z"
      },
      {
        "duration": 266,
        "start_time": "2022-09-13T22:14:22.010Z"
      },
      {
        "duration": 3,
        "start_time": "2022-09-13T22:14:22.277Z"
      },
      {
        "duration": 129,
        "start_time": "2022-09-13T22:14:22.281Z"
      },
      {
        "duration": 0,
        "start_time": "2022-09-13T22:14:22.412Z"
      },
      {
        "duration": 0,
        "start_time": "2022-09-13T22:14:22.413Z"
      },
      {
        "duration": 0,
        "start_time": "2022-09-13T22:14:22.414Z"
      },
      {
        "duration": 0,
        "start_time": "2022-09-13T22:14:22.414Z"
      },
      {
        "duration": 0,
        "start_time": "2022-09-13T22:14:22.415Z"
      },
      {
        "duration": 0,
        "start_time": "2022-09-13T22:14:22.416Z"
      },
      {
        "duration": 0,
        "start_time": "2022-09-13T22:14:22.417Z"
      },
      {
        "duration": 0,
        "start_time": "2022-09-13T22:14:22.418Z"
      },
      {
        "duration": 0,
        "start_time": "2022-09-13T22:14:22.419Z"
      },
      {
        "duration": 0,
        "start_time": "2022-09-13T22:14:22.419Z"
      },
      {
        "duration": 0,
        "start_time": "2022-09-13T22:14:22.420Z"
      },
      {
        "duration": 0,
        "start_time": "2022-09-13T22:14:22.421Z"
      },
      {
        "duration": 0,
        "start_time": "2022-09-13T22:14:22.422Z"
      },
      {
        "duration": 0,
        "start_time": "2022-09-13T22:14:22.423Z"
      },
      {
        "duration": 1,
        "start_time": "2022-09-13T22:14:22.423Z"
      },
      {
        "duration": 0,
        "start_time": "2022-09-13T22:14:22.424Z"
      },
      {
        "duration": 10,
        "start_time": "2022-09-13T22:14:39.143Z"
      },
      {
        "duration": 1386,
        "start_time": "2022-09-13T22:14:53.889Z"
      },
      {
        "duration": 41,
        "start_time": "2022-09-13T22:14:55.277Z"
      },
      {
        "duration": 5,
        "start_time": "2022-09-13T22:14:55.319Z"
      },
      {
        "duration": 15,
        "start_time": "2022-09-13T22:14:55.325Z"
      },
      {
        "duration": 3,
        "start_time": "2022-09-13T22:14:55.342Z"
      },
      {
        "duration": 7,
        "start_time": "2022-09-13T22:14:55.346Z"
      },
      {
        "duration": 16,
        "start_time": "2022-09-13T22:14:55.354Z"
      },
      {
        "duration": 6,
        "start_time": "2022-09-13T22:14:55.372Z"
      },
      {
        "duration": 30,
        "start_time": "2022-09-13T22:14:55.380Z"
      },
      {
        "duration": 6,
        "start_time": "2022-09-13T22:14:55.411Z"
      },
      {
        "duration": 13,
        "start_time": "2022-09-13T22:14:55.418Z"
      },
      {
        "duration": 3,
        "start_time": "2022-09-13T22:14:55.432Z"
      },
      {
        "duration": 13,
        "start_time": "2022-09-13T22:14:55.436Z"
      },
      {
        "duration": 4,
        "start_time": "2022-09-13T22:14:55.452Z"
      },
      {
        "duration": 14,
        "start_time": "2022-09-13T22:14:55.457Z"
      },
      {
        "duration": 47,
        "start_time": "2022-09-13T22:14:55.472Z"
      },
      {
        "duration": 4,
        "start_time": "2022-09-13T22:14:55.521Z"
      },
      {
        "duration": 9,
        "start_time": "2022-09-13T22:14:55.526Z"
      },
      {
        "duration": 6,
        "start_time": "2022-09-13T22:14:55.537Z"
      },
      {
        "duration": 8,
        "start_time": "2022-09-13T22:14:55.544Z"
      },
      {
        "duration": 225,
        "start_time": "2022-09-13T22:14:55.553Z"
      },
      {
        "duration": 280,
        "start_time": "2022-09-13T22:14:55.779Z"
      },
      {
        "duration": 35089,
        "start_time": "2022-09-13T22:14:56.061Z"
      },
      {
        "duration": 380,
        "start_time": "2022-09-13T22:15:31.152Z"
      },
      {
        "duration": 3,
        "start_time": "2022-09-13T22:15:31.533Z"
      },
      {
        "duration": 284,
        "start_time": "2022-09-13T22:15:31.537Z"
      },
      {
        "duration": 0,
        "start_time": "2022-09-13T22:15:31.822Z"
      },
      {
        "duration": 0,
        "start_time": "2022-09-13T22:15:31.823Z"
      },
      {
        "duration": 0,
        "start_time": "2022-09-13T22:15:31.824Z"
      },
      {
        "duration": 0,
        "start_time": "2022-09-13T22:15:31.825Z"
      },
      {
        "duration": 0,
        "start_time": "2022-09-13T22:15:31.826Z"
      },
      {
        "duration": 0,
        "start_time": "2022-09-13T22:15:31.827Z"
      },
      {
        "duration": 0,
        "start_time": "2022-09-13T22:15:31.828Z"
      },
      {
        "duration": 0,
        "start_time": "2022-09-13T22:15:31.828Z"
      },
      {
        "duration": 0,
        "start_time": "2022-09-13T22:15:31.829Z"
      },
      {
        "duration": 0,
        "start_time": "2022-09-13T22:15:31.830Z"
      },
      {
        "duration": 0,
        "start_time": "2022-09-13T22:15:31.831Z"
      },
      {
        "duration": 0,
        "start_time": "2022-09-13T22:15:31.832Z"
      },
      {
        "duration": 0,
        "start_time": "2022-09-13T22:15:31.833Z"
      },
      {
        "duration": 0,
        "start_time": "2022-09-13T22:15:31.833Z"
      },
      {
        "duration": 0,
        "start_time": "2022-09-13T22:15:31.834Z"
      },
      {
        "duration": 0,
        "start_time": "2022-09-13T22:15:31.835Z"
      },
      {
        "duration": 24,
        "start_time": "2022-09-13T22:16:34.789Z"
      },
      {
        "duration": 247,
        "start_time": "2022-09-13T22:16:40.115Z"
      },
      {
        "duration": 9,
        "start_time": "2022-09-13T22:16:47.959Z"
      },
      {
        "duration": 580,
        "start_time": "2022-09-13T22:16:48.149Z"
      },
      {
        "duration": 20,
        "start_time": "2022-09-13T22:17:06.067Z"
      },
      {
        "duration": 575,
        "start_time": "2022-09-13T22:17:07.851Z"
      },
      {
        "duration": 10,
        "start_time": "2022-09-13T22:17:09.655Z"
      },
      {
        "duration": 25,
        "start_time": "2022-09-13T22:17:10.610Z"
      },
      {
        "duration": 1195,
        "start_time": "2022-09-13T22:17:13.808Z"
      },
      {
        "duration": 11,
        "start_time": "2022-09-13T22:17:18.408Z"
      },
      {
        "duration": 13,
        "start_time": "2022-09-13T22:17:21.090Z"
      },
      {
        "duration": 485,
        "start_time": "2022-09-13T22:17:22.808Z"
      },
      {
        "duration": 187,
        "start_time": "2022-09-13T22:17:26.867Z"
      },
      {
        "duration": 879,
        "start_time": "2022-09-13T22:17:29.010Z"
      },
      {
        "duration": 5,
        "start_time": "2022-09-13T22:17:32.858Z"
      },
      {
        "duration": 9,
        "start_time": "2022-09-13T22:17:34.804Z"
      },
      {
        "duration": 615,
        "start_time": "2022-09-13T22:17:38.263Z"
      },
      {
        "duration": 144,
        "start_time": "2022-09-13T22:17:46.681Z"
      },
      {
        "duration": 267,
        "start_time": "2022-09-13T22:17:59.047Z"
      },
      {
        "duration": 592,
        "start_time": "2022-09-13T22:18:21.529Z"
      },
      {
        "duration": 10,
        "start_time": "2022-09-13T22:18:35.654Z"
      },
      {
        "duration": 498,
        "start_time": "2022-09-13T22:18:35.881Z"
      },
      {
        "duration": 9,
        "start_time": "2022-09-13T22:18:40.380Z"
      },
      {
        "duration": 585,
        "start_time": "2022-09-13T22:18:40.851Z"
      },
      {
        "duration": 152,
        "start_time": "2022-09-13T22:18:41.438Z"
      },
      {
        "duration": 6,
        "start_time": "2022-09-13T22:18:55.180Z"
      },
      {
        "duration": 46,
        "start_time": "2022-09-13T22:18:55.947Z"
      },
      {
        "duration": 4,
        "start_time": "2022-09-13T22:18:56.267Z"
      },
      {
        "duration": 12,
        "start_time": "2022-09-13T22:18:56.558Z"
      },
      {
        "duration": 3,
        "start_time": "2022-09-13T22:18:57.380Z"
      },
      {
        "duration": 4,
        "start_time": "2022-09-13T22:18:58.280Z"
      },
      {
        "duration": 4,
        "start_time": "2022-09-13T22:23:04.259Z"
      },
      {
        "duration": 41,
        "start_time": "2022-09-13T22:23:05.899Z"
      },
      {
        "duration": 4,
        "start_time": "2022-09-13T22:23:06.299Z"
      },
      {
        "duration": 14,
        "start_time": "2022-09-13T22:23:07.019Z"
      },
      {
        "duration": 4,
        "start_time": "2022-09-13T22:23:09.591Z"
      },
      {
        "duration": 3,
        "start_time": "2022-09-13T22:23:09.781Z"
      },
      {
        "duration": 16,
        "start_time": "2022-09-13T22:23:11.159Z"
      },
      {
        "duration": 7,
        "start_time": "2022-09-13T22:23:12.602Z"
      },
      {
        "duration": 4,
        "start_time": "2022-09-13T22:23:13.751Z"
      },
      {
        "duration": 4,
        "start_time": "2022-09-13T22:23:14.619Z"
      },
      {
        "duration": 12,
        "start_time": "2022-09-13T22:23:15.659Z"
      },
      {
        "duration": 4,
        "start_time": "2022-09-13T22:23:16.580Z"
      },
      {
        "duration": 12,
        "start_time": "2022-09-13T22:23:17.851Z"
      },
      {
        "duration": 4,
        "start_time": "2022-09-13T22:23:20.479Z"
      },
      {
        "duration": 9,
        "start_time": "2022-09-13T22:23:21.348Z"
      },
      {
        "duration": 23,
        "start_time": "2022-09-13T22:23:23.020Z"
      },
      {
        "duration": 5,
        "start_time": "2022-09-13T22:23:25.707Z"
      },
      {
        "duration": 9,
        "start_time": "2022-09-13T22:23:27.661Z"
      },
      {
        "duration": 7,
        "start_time": "2022-09-13T22:23:49.644Z"
      },
      {
        "duration": 7,
        "start_time": "2022-09-13T22:23:50.580Z"
      },
      {
        "duration": 8,
        "start_time": "2022-09-13T22:23:51.140Z"
      },
      {
        "duration": 8,
        "start_time": "2022-09-13T22:23:58.400Z"
      },
      {
        "duration": 8,
        "start_time": "2022-09-13T22:23:59.379Z"
      },
      {
        "duration": 10,
        "start_time": "2022-09-13T22:24:00.880Z"
      },
      {
        "duration": 7,
        "start_time": "2022-09-13T22:24:05.600Z"
      },
      {
        "duration": 8,
        "start_time": "2022-09-13T22:24:06.219Z"
      },
      {
        "duration": 10,
        "start_time": "2022-09-13T22:24:06.548Z"
      },
      {
        "duration": 9,
        "start_time": "2022-09-13T22:24:14.568Z"
      },
      {
        "duration": 7,
        "start_time": "2022-09-13T22:24:15.279Z"
      },
      {
        "duration": 8,
        "start_time": "2022-09-13T22:24:15.780Z"
      },
      {
        "duration": 7,
        "start_time": "2022-09-13T22:24:21.347Z"
      },
      {
        "duration": 7,
        "start_time": "2022-09-13T22:24:22.160Z"
      },
      {
        "duration": 9,
        "start_time": "2022-09-13T22:24:22.521Z"
      },
      {
        "duration": 8,
        "start_time": "2022-09-13T22:24:31.451Z"
      },
      {
        "duration": 8,
        "start_time": "2022-09-13T22:24:32.150Z"
      },
      {
        "duration": 10,
        "start_time": "2022-09-13T22:24:32.552Z"
      },
      {
        "duration": 6,
        "start_time": "2022-09-13T22:24:40.048Z"
      },
      {
        "duration": 7,
        "start_time": "2022-09-13T22:24:40.953Z"
      },
      {
        "duration": 9,
        "start_time": "2022-09-13T22:24:41.780Z"
      },
      {
        "duration": 8,
        "start_time": "2022-09-13T22:24:46.988Z"
      },
      {
        "duration": 7,
        "start_time": "2022-09-13T22:24:47.700Z"
      },
      {
        "duration": 9,
        "start_time": "2022-09-13T22:24:48.061Z"
      },
      {
        "duration": 214,
        "start_time": "2022-09-13T22:27:34.461Z"
      },
      {
        "duration": 243,
        "start_time": "2022-09-13T22:28:11.420Z"
      },
      {
        "duration": 36374,
        "start_time": "2022-09-13T22:30:08.865Z"
      },
      {
        "duration": 222,
        "start_time": "2022-09-13T22:30:45.241Z"
      },
      {
        "duration": 28,
        "start_time": "2022-09-13T22:32:47.395Z"
      },
      {
        "duration": 26,
        "start_time": "2022-09-13T22:34:23.599Z"
      },
      {
        "duration": 258,
        "start_time": "2022-09-13T22:34:30.380Z"
      },
      {
        "duration": 32,
        "start_time": "2022-09-13T22:36:09.721Z"
      },
      {
        "duration": 20,
        "start_time": "2022-09-13T22:39:32.382Z"
      },
      {
        "duration": 1484,
        "start_time": "2022-09-14T19:32:28.806Z"
      },
      {
        "duration": 95,
        "start_time": "2022-09-14T19:32:30.292Z"
      },
      {
        "duration": 5,
        "start_time": "2022-09-14T19:32:30.389Z"
      },
      {
        "duration": 17,
        "start_time": "2022-09-14T19:32:30.935Z"
      },
      {
        "duration": 3,
        "start_time": "2022-09-14T19:32:32.534Z"
      },
      {
        "duration": 4,
        "start_time": "2022-09-14T19:32:33.122Z"
      },
      {
        "duration": 22,
        "start_time": "2022-09-14T19:32:34.500Z"
      },
      {
        "duration": 9,
        "start_time": "2022-09-14T19:32:36.304Z"
      },
      {
        "duration": 5,
        "start_time": "2022-09-14T19:32:37.805Z"
      },
      {
        "duration": 4,
        "start_time": "2022-09-14T19:32:38.601Z"
      },
      {
        "duration": 15,
        "start_time": "2022-09-14T19:32:40.019Z"
      },
      {
        "duration": 3,
        "start_time": "2022-09-14T19:32:42.941Z"
      },
      {
        "duration": 13,
        "start_time": "2022-09-14T19:32:44.804Z"
      },
      {
        "duration": 5,
        "start_time": "2022-09-14T19:32:55.900Z"
      },
      {
        "duration": 10,
        "start_time": "2022-09-14T19:32:57.019Z"
      },
      {
        "duration": 24,
        "start_time": "2022-09-14T19:33:48.919Z"
      },
      {
        "duration": 19,
        "start_time": "2022-09-14T19:34:42.505Z"
      },
      {
        "duration": 4,
        "start_time": "2022-09-14T19:34:51.112Z"
      },
      {
        "duration": 8,
        "start_time": "2022-09-14T19:35:00.380Z"
      },
      {
        "duration": 7,
        "start_time": "2022-09-14T19:35:01.063Z"
      },
      {
        "duration": 10,
        "start_time": "2022-09-14T19:35:01.568Z"
      },
      {
        "duration": 196,
        "start_time": "2022-09-14T19:37:26.985Z"
      },
      {
        "duration": 339,
        "start_time": "2022-09-14T19:37:36.410Z"
      },
      {
        "duration": 130,
        "start_time": "2022-09-14T19:45:14.049Z"
      },
      {
        "duration": 33122,
        "start_time": "2022-09-14T19:45:26.652Z"
      },
      {
        "duration": 230,
        "start_time": "2022-09-14T19:45:59.775Z"
      },
      {
        "duration": 241,
        "start_time": "2022-09-14T19:46:42.453Z"
      },
      {
        "duration": 279,
        "start_time": "2022-09-14T19:46:48.301Z"
      },
      {
        "duration": 23,
        "start_time": "2022-09-14T19:47:32.922Z"
      },
      {
        "duration": 298,
        "start_time": "2022-09-14T19:47:36.124Z"
      },
      {
        "duration": 102,
        "start_time": "2022-09-14T19:52:25.052Z"
      },
      {
        "duration": 195,
        "start_time": "2022-09-14T19:53:53.313Z"
      },
      {
        "duration": 269,
        "start_time": "2022-09-14T19:54:01.839Z"
      },
      {
        "duration": 13,
        "start_time": "2022-09-14T19:54:04.233Z"
      },
      {
        "duration": 3,
        "start_time": "2022-09-14T19:54:53.159Z"
      },
      {
        "duration": 2,
        "start_time": "2022-09-14T19:55:55.721Z"
      },
      {
        "duration": 7,
        "start_time": "2022-09-14T19:56:05.778Z"
      },
      {
        "duration": 12,
        "start_time": "2022-09-14T19:56:28.474Z"
      },
      {
        "duration": 6,
        "start_time": "2022-09-14T19:56:36.046Z"
      },
      {
        "duration": 10,
        "start_time": "2022-09-14T19:56:41.682Z"
      },
      {
        "duration": 5,
        "start_time": "2022-09-14T19:56:54.674Z"
      },
      {
        "duration": 10,
        "start_time": "2022-09-14T19:56:55.994Z"
      },
      {
        "duration": 5,
        "start_time": "2022-09-14T19:57:04.063Z"
      },
      {
        "duration": 12,
        "start_time": "2022-09-14T19:57:04.533Z"
      },
      {
        "duration": 6,
        "start_time": "2022-09-14T19:57:17.349Z"
      },
      {
        "duration": 11,
        "start_time": "2022-09-14T19:57:18.093Z"
      },
      {
        "duration": 13,
        "start_time": "2022-09-14T19:57:59.553Z"
      },
      {
        "duration": 39,
        "start_time": "2022-09-14T19:58:54.464Z"
      },
      {
        "duration": 4,
        "start_time": "2022-09-14T19:58:54.542Z"
      },
      {
        "duration": 12,
        "start_time": "2022-09-14T19:58:54.708Z"
      },
      {
        "duration": 3,
        "start_time": "2022-09-14T19:58:55.184Z"
      },
      {
        "duration": 4,
        "start_time": "2022-09-14T19:58:55.344Z"
      },
      {
        "duration": 21,
        "start_time": "2022-09-14T19:58:55.852Z"
      },
      {
        "duration": 10,
        "start_time": "2022-09-14T19:58:56.363Z"
      },
      {
        "duration": 4,
        "start_time": "2022-09-14T19:58:56.703Z"
      },
      {
        "duration": 3,
        "start_time": "2022-09-14T19:58:57.039Z"
      },
      {
        "duration": 14,
        "start_time": "2022-09-14T19:58:57.395Z"
      },
      {
        "duration": 4,
        "start_time": "2022-09-14T19:58:57.741Z"
      },
      {
        "duration": 12,
        "start_time": "2022-09-14T19:58:58.344Z"
      },
      {
        "duration": 4,
        "start_time": "2022-09-14T19:58:59.153Z"
      },
      {
        "duration": 9,
        "start_time": "2022-09-14T19:58:59.323Z"
      },
      {
        "duration": 21,
        "start_time": "2022-09-14T19:58:59.714Z"
      },
      {
        "duration": 4,
        "start_time": "2022-09-14T19:59:00.083Z"
      },
      {
        "duration": 8,
        "start_time": "2022-09-14T19:59:00.461Z"
      },
      {
        "duration": 7,
        "start_time": "2022-09-14T19:59:00.794Z"
      },
      {
        "duration": 11,
        "start_time": "2022-09-14T19:59:01.014Z"
      },
      {
        "duration": 196,
        "start_time": "2022-09-14T19:59:02.137Z"
      },
      {
        "duration": 243,
        "start_time": "2022-09-14T19:59:02.570Z"
      },
      {
        "duration": 33586,
        "start_time": "2022-09-14T19:59:03.235Z"
      },
      {
        "duration": 284,
        "start_time": "2022-09-14T19:59:36.823Z"
      },
      {
        "duration": 39,
        "start_time": "2022-09-14T19:59:37.109Z"
      },
      {
        "duration": 456,
        "start_time": "2022-09-14T19:59:37.155Z"
      },
      {
        "duration": 26,
        "start_time": "2022-09-14T20:01:38.823Z"
      },
      {
        "duration": 289,
        "start_time": "2022-09-14T20:03:12.767Z"
      },
      {
        "duration": 309,
        "start_time": "2022-09-14T20:11:38.340Z"
      },
      {
        "duration": 391,
        "start_time": "2022-09-14T20:14:20.048Z"
      },
      {
        "duration": 582,
        "start_time": "2022-09-14T20:21:10.403Z"
      },
      {
        "duration": 24,
        "start_time": "2022-09-14T20:23:01.966Z"
      },
      {
        "duration": 249,
        "start_time": "2022-09-14T20:23:12.900Z"
      },
      {
        "duration": 247,
        "start_time": "2022-09-14T20:24:05.960Z"
      },
      {
        "duration": 311,
        "start_time": "2022-09-14T20:24:11.945Z"
      },
      {
        "duration": 606,
        "start_time": "2022-09-14T20:24:18.554Z"
      },
      {
        "duration": 259,
        "start_time": "2022-09-14T20:24:29.337Z"
      },
      {
        "duration": 262,
        "start_time": "2022-09-14T20:25:10.941Z"
      },
      {
        "duration": 298,
        "start_time": "2022-09-14T20:25:14.257Z"
      },
      {
        "duration": 593,
        "start_time": "2022-09-14T20:25:16.568Z"
      },
      {
        "duration": 266,
        "start_time": "2022-09-14T20:25:19.452Z"
      },
      {
        "duration": 155,
        "start_time": "2022-09-14T20:26:21.734Z"
      },
      {
        "duration": 14,
        "start_time": "2022-09-14T20:38:06.436Z"
      },
      {
        "duration": 33,
        "start_time": "2022-09-14T20:39:59.013Z"
      },
      {
        "duration": 549,
        "start_time": "2022-09-14T20:41:21.664Z"
      },
      {
        "duration": 12,
        "start_time": "2022-09-14T20:41:42.055Z"
      },
      {
        "duration": 1167,
        "start_time": "2022-09-14T20:44:01.303Z"
      },
      {
        "duration": 321,
        "start_time": "2022-09-14T20:48:29.714Z"
      },
      {
        "duration": 303,
        "start_time": "2022-09-14T20:50:36.754Z"
      },
      {
        "duration": 352,
        "start_time": "2022-09-14T20:54:11.582Z"
      },
      {
        "duration": 1131,
        "start_time": "2022-09-14T20:54:58.494Z"
      },
      {
        "duration": 290,
        "start_time": "2022-09-14T20:55:38.710Z"
      },
      {
        "duration": 169,
        "start_time": "2022-09-14T20:57:03.806Z"
      },
      {
        "duration": 13,
        "start_time": "2022-09-14T21:01:52.594Z"
      },
      {
        "duration": 30,
        "start_time": "2022-09-14T21:01:54.335Z"
      },
      {
        "duration": 217,
        "start_time": "2022-09-14T21:01:57.180Z"
      },
      {
        "duration": 252,
        "start_time": "2022-09-14T21:02:00.102Z"
      },
      {
        "duration": 1249,
        "start_time": "2022-09-14T21:02:08.511Z"
      },
      {
        "duration": 248,
        "start_time": "2022-09-14T21:02:16.471Z"
      },
      {
        "duration": 165,
        "start_time": "2022-09-14T21:02:18.770Z"
      },
      {
        "duration": 11,
        "start_time": "2022-09-14T21:02:35.018Z"
      },
      {
        "duration": 31,
        "start_time": "2022-09-14T21:02:37.542Z"
      },
      {
        "duration": 268,
        "start_time": "2022-09-14T21:02:39.911Z"
      },
      {
        "duration": 296,
        "start_time": "2022-09-14T21:02:42.372Z"
      },
      {
        "duration": 1136,
        "start_time": "2022-09-14T21:02:45.372Z"
      },
      {
        "duration": 251,
        "start_time": "2022-09-14T21:02:50.436Z"
      },
      {
        "duration": 158,
        "start_time": "2022-09-14T21:02:53.406Z"
      },
      {
        "duration": 11,
        "start_time": "2022-09-14T21:03:12.706Z"
      },
      {
        "duration": 27,
        "start_time": "2022-09-14T21:03:13.711Z"
      },
      {
        "duration": 12,
        "start_time": "2022-09-14T21:03:21.404Z"
      },
      {
        "duration": 47,
        "start_time": "2022-09-14T21:03:22.300Z"
      },
      {
        "duration": 236,
        "start_time": "2022-09-14T21:03:23.481Z"
      },
      {
        "duration": 358,
        "start_time": "2022-09-14T21:03:24.906Z"
      },
      {
        "duration": 1107,
        "start_time": "2022-09-14T21:03:26.821Z"
      },
      {
        "duration": 255,
        "start_time": "2022-09-14T21:03:28.745Z"
      },
      {
        "duration": 166,
        "start_time": "2022-09-14T21:03:30.085Z"
      },
      {
        "duration": 10,
        "start_time": "2022-09-14T21:07:31.494Z"
      },
      {
        "duration": 52,
        "start_time": "2022-09-14T21:07:33.194Z"
      },
      {
        "duration": 253,
        "start_time": "2022-09-14T21:07:34.401Z"
      },
      {
        "duration": 315,
        "start_time": "2022-09-14T21:07:36.253Z"
      },
      {
        "duration": 1038,
        "start_time": "2022-09-14T21:07:39.052Z"
      },
      {
        "duration": 252,
        "start_time": "2022-09-14T21:07:40.536Z"
      },
      {
        "duration": 158,
        "start_time": "2022-09-14T21:07:42.803Z"
      },
      {
        "duration": 14,
        "start_time": "2022-09-14T21:07:48.995Z"
      },
      {
        "duration": 15,
        "start_time": "2022-09-14T21:09:45.474Z"
      },
      {
        "duration": 14,
        "start_time": "2022-09-14T21:09:56.436Z"
      },
      {
        "duration": 16,
        "start_time": "2022-09-14T21:09:58.335Z"
      },
      {
        "duration": 12,
        "start_time": "2022-09-14T21:10:02.773Z"
      },
      {
        "duration": 16,
        "start_time": "2022-09-14T21:10:04.062Z"
      },
      {
        "duration": 12,
        "start_time": "2022-09-14T21:10:08.774Z"
      },
      {
        "duration": 15,
        "start_time": "2022-09-14T21:10:09.543Z"
      },
      {
        "duration": 12,
        "start_time": "2022-09-14T21:10:13.866Z"
      },
      {
        "duration": 15,
        "start_time": "2022-09-14T21:10:14.568Z"
      },
      {
        "duration": 12,
        "start_time": "2022-09-14T21:10:18.380Z"
      },
      {
        "duration": 15,
        "start_time": "2022-09-14T21:10:19.394Z"
      },
      {
        "duration": 232,
        "start_time": "2022-09-14T21:11:41.774Z"
      },
      {
        "duration": 272,
        "start_time": "2022-09-14T21:13:04.186Z"
      },
      {
        "duration": 469,
        "start_time": "2022-09-14T21:15:25.402Z"
      },
      {
        "duration": 291,
        "start_time": "2022-09-14T21:16:18.213Z"
      },
      {
        "duration": 157,
        "start_time": "2022-09-14T21:17:20.305Z"
      },
      {
        "duration": 5,
        "start_time": "2022-09-14T21:17:56.197Z"
      },
      {
        "duration": 10,
        "start_time": "2022-09-14T21:18:00.434Z"
      },
      {
        "duration": 10,
        "start_time": "2022-09-14T21:18:37.801Z"
      },
      {
        "duration": 11,
        "start_time": "2022-09-14T21:18:51.694Z"
      },
      {
        "duration": 566,
        "start_time": "2022-09-14T21:18:52.406Z"
      },
      {
        "duration": 165,
        "start_time": "2022-09-14T21:19:40.357Z"
      },
      {
        "duration": 563,
        "start_time": "2022-09-14T21:24:03.174Z"
      },
      {
        "duration": 11,
        "start_time": "2022-09-14T21:25:15.394Z"
      },
      {
        "duration": 633,
        "start_time": "2022-09-14T21:25:15.834Z"
      },
      {
        "duration": 11,
        "start_time": "2022-09-14T21:25:23.453Z"
      },
      {
        "duration": 645,
        "start_time": "2022-09-14T21:25:23.745Z"
      },
      {
        "duration": 9,
        "start_time": "2022-09-14T21:25:29.343Z"
      },
      {
        "duration": 611,
        "start_time": "2022-09-14T21:25:30.142Z"
      },
      {
        "duration": 10,
        "start_time": "2022-09-14T21:25:35.363Z"
      },
      {
        "duration": 583,
        "start_time": "2022-09-14T21:25:36.611Z"
      },
      {
        "duration": 9,
        "start_time": "2022-09-14T21:25:44.555Z"
      },
      {
        "duration": 592,
        "start_time": "2022-09-14T21:25:44.869Z"
      },
      {
        "duration": 11,
        "start_time": "2022-09-14T21:25:50.343Z"
      },
      {
        "duration": 599,
        "start_time": "2022-09-14T21:25:51.184Z"
      },
      {
        "duration": 161,
        "start_time": "2022-09-14T21:25:55.855Z"
      },
      {
        "duration": 43,
        "start_time": "2022-09-14T21:26:19.353Z"
      },
      {
        "duration": 4,
        "start_time": "2022-09-14T21:26:19.704Z"
      },
      {
        "duration": 13,
        "start_time": "2022-09-14T21:26:20.003Z"
      },
      {
        "duration": 3,
        "start_time": "2022-09-14T21:26:21.053Z"
      },
      {
        "duration": 5,
        "start_time": "2022-09-14T21:26:21.363Z"
      },
      {
        "duration": 18,
        "start_time": "2022-09-14T21:26:22.294Z"
      },
      {
        "duration": 7,
        "start_time": "2022-09-14T21:26:23.843Z"
      },
      {
        "duration": 4,
        "start_time": "2022-09-14T21:26:24.905Z"
      },
      {
        "duration": 4,
        "start_time": "2022-09-14T21:26:25.859Z"
      },
      {
        "duration": 13,
        "start_time": "2022-09-14T21:26:26.692Z"
      },
      {
        "duration": 3,
        "start_time": "2022-09-14T21:26:27.904Z"
      },
      {
        "duration": 12,
        "start_time": "2022-09-14T21:26:29.223Z"
      },
      {
        "duration": 4,
        "start_time": "2022-09-14T21:26:31.744Z"
      },
      {
        "duration": 10,
        "start_time": "2022-09-14T21:26:32.342Z"
      },
      {
        "duration": 22,
        "start_time": "2022-09-14T21:26:33.441Z"
      },
      {
        "duration": 5,
        "start_time": "2022-09-14T21:26:34.370Z"
      },
      {
        "duration": 9,
        "start_time": "2022-09-14T21:26:35.874Z"
      },
      {
        "duration": 8,
        "start_time": "2022-09-14T21:26:36.868Z"
      },
      {
        "duration": 11,
        "start_time": "2022-09-14T21:26:37.187Z"
      },
      {
        "duration": 180,
        "start_time": "2022-09-14T21:26:40.699Z"
      },
      {
        "duration": 242,
        "start_time": "2022-09-14T21:26:42.964Z"
      },
      {
        "duration": 34127,
        "start_time": "2022-09-14T21:26:48.785Z"
      },
      {
        "duration": 295,
        "start_time": "2022-09-14T21:27:22.913Z"
      },
      {
        "duration": 22,
        "start_time": "2022-09-14T21:29:22.626Z"
      },
      {
        "duration": 277,
        "start_time": "2022-09-14T21:29:23.923Z"
      },
      {
        "duration": 27,
        "start_time": "2022-09-14T21:37:21.132Z"
      },
      {
        "duration": 252,
        "start_time": "2022-09-14T21:37:22.864Z"
      },
      {
        "duration": 283,
        "start_time": "2022-09-14T21:37:36.275Z"
      },
      {
        "duration": 313,
        "start_time": "2022-09-14T21:37:42.945Z"
      },
      {
        "duration": 254,
        "start_time": "2022-09-14T21:37:52.795Z"
      },
      {
        "duration": 575,
        "start_time": "2022-09-14T21:38:37.502Z"
      },
      {
        "duration": 257,
        "start_time": "2022-09-14T21:38:39.414Z"
      },
      {
        "duration": 143,
        "start_time": "2022-09-14T21:38:41.294Z"
      },
      {
        "duration": 11,
        "start_time": "2022-09-14T21:38:45.614Z"
      },
      {
        "duration": 26,
        "start_time": "2022-09-14T21:38:48.116Z"
      },
      {
        "duration": 213,
        "start_time": "2022-09-14T21:38:50.494Z"
      },
      {
        "duration": 298,
        "start_time": "2022-09-14T21:38:52.850Z"
      },
      {
        "duration": 1057,
        "start_time": "2022-09-14T21:38:59.504Z"
      },
      {
        "duration": 214,
        "start_time": "2022-09-14T21:39:06.393Z"
      },
      {
        "duration": 165,
        "start_time": "2022-09-14T21:39:08.535Z"
      },
      {
        "duration": 12,
        "start_time": "2022-09-14T21:39:11.991Z"
      },
      {
        "duration": 18,
        "start_time": "2022-09-14T21:39:13.874Z"
      },
      {
        "duration": 305,
        "start_time": "2022-09-14T21:39:15.120Z"
      },
      {
        "duration": 270,
        "start_time": "2022-09-14T21:39:16.986Z"
      },
      {
        "duration": 485,
        "start_time": "2022-09-14T21:39:45.876Z"
      },
      {
        "duration": 229,
        "start_time": "2022-09-14T21:39:49.672Z"
      },
      {
        "duration": 284,
        "start_time": "2022-09-14T21:39:51.522Z"
      },
      {
        "duration": 6,
        "start_time": "2022-09-14T21:47:25.069Z"
      },
      {
        "duration": 2,
        "start_time": "2022-09-14T21:47:26.015Z"
      },
      {
        "duration": 11,
        "start_time": "2022-09-14T21:47:26.439Z"
      },
      {
        "duration": 1137,
        "start_time": "2022-09-14T21:47:31.185Z"
      },
      {
        "duration": 12,
        "start_time": "2022-09-14T21:47:41.454Z"
      },
      {
        "duration": 1256,
        "start_time": "2022-09-14T21:47:41.903Z"
      },
      {
        "duration": 11,
        "start_time": "2022-09-14T21:47:51.503Z"
      },
      {
        "duration": 1338,
        "start_time": "2022-09-14T21:47:51.934Z"
      },
      {
        "duration": 6,
        "start_time": "2022-09-14T21:48:03.645Z"
      },
      {
        "duration": 10,
        "start_time": "2022-09-14T21:48:03.985Z"
      },
      {
        "duration": 614,
        "start_time": "2022-09-14T21:48:04.214Z"
      },
      {
        "duration": 156,
        "start_time": "2022-09-14T21:48:05.238Z"
      },
      {
        "duration": 7,
        "start_time": "2022-09-14T21:50:53.112Z"
      },
      {
        "duration": 10,
        "start_time": "2022-09-14T21:50:54.562Z"
      },
      {
        "duration": 604,
        "start_time": "2022-09-14T21:50:54.942Z"
      },
      {
        "duration": 150,
        "start_time": "2022-09-14T21:50:57.134Z"
      },
      {
        "duration": 1461,
        "start_time": "2022-09-14T22:19:04.547Z"
      },
      {
        "duration": 42,
        "start_time": "2022-09-14T22:19:06.011Z"
      },
      {
        "duration": 7,
        "start_time": "2022-09-14T22:19:06.055Z"
      },
      {
        "duration": 19,
        "start_time": "2022-09-14T22:19:06.063Z"
      },
      {
        "duration": 3,
        "start_time": "2022-09-14T22:19:06.085Z"
      },
      {
        "duration": 6,
        "start_time": "2022-09-14T22:19:06.089Z"
      },
      {
        "duration": 23,
        "start_time": "2022-09-14T22:19:06.096Z"
      },
      {
        "duration": 33,
        "start_time": "2022-09-14T22:19:06.121Z"
      },
      {
        "duration": 11,
        "start_time": "2022-09-14T22:19:06.156Z"
      },
      {
        "duration": 5,
        "start_time": "2022-09-14T22:19:06.169Z"
      },
      {
        "duration": 13,
        "start_time": "2022-09-14T22:19:06.175Z"
      },
      {
        "duration": 3,
        "start_time": "2022-09-14T22:19:06.190Z"
      },
      {
        "duration": 17,
        "start_time": "2022-09-14T22:19:06.194Z"
      },
      {
        "duration": 4,
        "start_time": "2022-09-14T22:19:06.214Z"
      },
      {
        "duration": 33,
        "start_time": "2022-09-14T22:19:06.220Z"
      },
      {
        "duration": 27,
        "start_time": "2022-09-14T22:19:06.256Z"
      },
      {
        "duration": 5,
        "start_time": "2022-09-14T22:19:06.285Z"
      },
      {
        "duration": 14,
        "start_time": "2022-09-14T22:19:06.292Z"
      },
      {
        "duration": 16,
        "start_time": "2022-09-14T22:19:06.308Z"
      },
      {
        "duration": 30,
        "start_time": "2022-09-14T22:19:06.327Z"
      },
      {
        "duration": 229,
        "start_time": "2022-09-14T22:19:06.359Z"
      },
      {
        "duration": 258,
        "start_time": "2022-09-14T22:19:06.590Z"
      },
      {
        "duration": 33261,
        "start_time": "2022-09-14T22:19:06.850Z"
      },
      {
        "duration": 278,
        "start_time": "2022-09-14T22:19:40.113Z"
      },
      {
        "duration": 61,
        "start_time": "2022-09-14T22:19:40.392Z"
      },
      {
        "duration": 337,
        "start_time": "2022-09-14T22:19:40.456Z"
      },
      {
        "duration": 61,
        "start_time": "2022-09-14T22:19:40.794Z"
      },
      {
        "duration": 265,
        "start_time": "2022-09-14T22:19:40.947Z"
      },
      {
        "duration": 291,
        "start_time": "2022-09-14T22:19:41.214Z"
      },
      {
        "duration": 576,
        "start_time": "2022-09-14T22:19:41.507Z"
      },
      {
        "duration": 220,
        "start_time": "2022-09-14T22:19:42.084Z"
      },
      {
        "duration": 151,
        "start_time": "2022-09-14T22:19:42.306Z"
      },
      {
        "duration": 12,
        "start_time": "2022-09-14T22:19:42.459Z"
      },
      {
        "duration": 75,
        "start_time": "2022-09-14T22:19:42.472Z"
      },
      {
        "duration": 369,
        "start_time": "2022-09-14T22:19:42.551Z"
      },
      {
        "duration": 303,
        "start_time": "2022-09-14T22:19:42.922Z"
      },
      {
        "duration": 1066,
        "start_time": "2022-09-14T22:19:43.226Z"
      },
      {
        "duration": 257,
        "start_time": "2022-09-14T22:19:44.294Z"
      },
      {
        "duration": 168,
        "start_time": "2022-09-14T22:19:44.552Z"
      },
      {
        "duration": 11,
        "start_time": "2022-09-14T22:19:44.721Z"
      },
      {
        "duration": 16,
        "start_time": "2022-09-14T22:19:44.746Z"
      },
      {
        "duration": 476,
        "start_time": "2022-09-14T22:19:44.764Z"
      },
      {
        "duration": 385,
        "start_time": "2022-09-14T22:19:45.241Z"
      },
      {
        "duration": 466,
        "start_time": "2022-09-14T22:19:45.628Z"
      },
      {
        "duration": 299,
        "start_time": "2022-09-14T22:19:46.096Z"
      },
      {
        "duration": 170,
        "start_time": "2022-09-14T22:19:46.397Z"
      },
      {
        "duration": 5,
        "start_time": "2022-09-14T22:19:46.569Z"
      },
      {
        "duration": 20,
        "start_time": "2022-09-14T22:19:46.576Z"
      },
      {
        "duration": 612,
        "start_time": "2022-09-14T22:19:46.597Z"
      },
      {
        "duration": 161,
        "start_time": "2022-09-14T22:19:47.210Z"
      },
      {
        "duration": 1299,
        "start_time": "2022-09-14T22:20:51.006Z"
      },
      {
        "duration": 41,
        "start_time": "2022-09-14T22:20:52.307Z"
      },
      {
        "duration": 5,
        "start_time": "2022-09-14T22:20:52.350Z"
      },
      {
        "duration": 18,
        "start_time": "2022-09-14T22:20:52.356Z"
      },
      {
        "duration": 3,
        "start_time": "2022-09-14T22:20:52.376Z"
      },
      {
        "duration": 8,
        "start_time": "2022-09-14T22:20:52.380Z"
      },
      {
        "duration": 23,
        "start_time": "2022-09-14T22:20:52.389Z"
      },
      {
        "duration": 8,
        "start_time": "2022-09-14T22:20:52.413Z"
      },
      {
        "duration": 25,
        "start_time": "2022-09-14T22:20:52.422Z"
      },
      {
        "duration": 4,
        "start_time": "2022-09-14T22:20:52.448Z"
      },
      {
        "duration": 14,
        "start_time": "2022-09-14T22:20:52.453Z"
      },
      {
        "duration": 3,
        "start_time": "2022-09-14T22:20:52.469Z"
      },
      {
        "duration": 15,
        "start_time": "2022-09-14T22:20:52.473Z"
      },
      {
        "duration": 3,
        "start_time": "2022-09-14T22:20:52.490Z"
      },
      {
        "duration": 20,
        "start_time": "2022-09-14T22:20:52.495Z"
      },
      {
        "duration": 34,
        "start_time": "2022-09-14T22:20:52.517Z"
      },
      {
        "duration": 4,
        "start_time": "2022-09-14T22:20:52.552Z"
      },
      {
        "duration": 9,
        "start_time": "2022-09-14T22:20:52.557Z"
      },
      {
        "duration": 9,
        "start_time": "2022-09-14T22:20:52.568Z"
      },
      {
        "duration": 10,
        "start_time": "2022-09-14T22:20:52.578Z"
      },
      {
        "duration": 215,
        "start_time": "2022-09-14T22:20:52.590Z"
      },
      {
        "duration": 283,
        "start_time": "2022-09-14T22:20:52.807Z"
      },
      {
        "duration": 33799,
        "start_time": "2022-09-14T22:20:53.092Z"
      },
      {
        "duration": 209,
        "start_time": "2022-09-14T22:21:26.893Z"
      },
      {
        "duration": 58,
        "start_time": "2022-09-14T22:21:27.103Z"
      },
      {
        "duration": 433,
        "start_time": "2022-09-14T22:21:27.163Z"
      },
      {
        "duration": 50,
        "start_time": "2022-09-14T22:21:27.598Z"
      },
      {
        "duration": 368,
        "start_time": "2022-09-14T22:21:27.650Z"
      },
      {
        "duration": 282,
        "start_time": "2022-09-14T22:21:28.019Z"
      },
      {
        "duration": 570,
        "start_time": "2022-09-14T22:21:28.303Z"
      },
      {
        "duration": 231,
        "start_time": "2022-09-14T22:21:28.875Z"
      },
      {
        "duration": 158,
        "start_time": "2022-09-14T22:21:29.108Z"
      },
      {
        "duration": 13,
        "start_time": "2022-09-14T22:21:29.268Z"
      },
      {
        "duration": 66,
        "start_time": "2022-09-14T22:21:29.282Z"
      },
      {
        "duration": 349,
        "start_time": "2022-09-14T22:21:29.350Z"
      },
      {
        "duration": 247,
        "start_time": "2022-09-14T22:21:29.701Z"
      },
      {
        "duration": 1072,
        "start_time": "2022-09-14T22:21:29.950Z"
      },
      {
        "duration": 265,
        "start_time": "2022-09-14T22:21:31.024Z"
      },
      {
        "duration": 195,
        "start_time": "2022-09-14T22:21:31.290Z"
      },
      {
        "duration": 12,
        "start_time": "2022-09-14T22:21:31.487Z"
      },
      {
        "duration": 47,
        "start_time": "2022-09-14T22:21:31.504Z"
      },
      {
        "duration": 359,
        "start_time": "2022-09-14T22:21:31.553Z"
      },
      {
        "duration": 377,
        "start_time": "2022-09-14T22:21:31.914Z"
      },
      {
        "duration": 473,
        "start_time": "2022-09-14T22:21:32.292Z"
      },
      {
        "duration": 253,
        "start_time": "2022-09-14T22:21:32.767Z"
      },
      {
        "duration": 171,
        "start_time": "2022-09-14T22:21:33.021Z"
      },
      {
        "duration": 5,
        "start_time": "2022-09-14T22:21:33.194Z"
      },
      {
        "duration": 15,
        "start_time": "2022-09-14T22:21:33.200Z"
      },
      {
        "duration": 631,
        "start_time": "2022-09-14T22:21:33.216Z"
      },
      {
        "duration": 176,
        "start_time": "2022-09-14T22:21:33.848Z"
      },
      {
        "duration": 1541,
        "start_time": "2022-09-15T04:31:31.251Z"
      },
      {
        "duration": 41,
        "start_time": "2022-09-15T04:31:32.794Z"
      },
      {
        "duration": 6,
        "start_time": "2022-09-15T04:31:32.836Z"
      },
      {
        "duration": 18,
        "start_time": "2022-09-15T04:31:32.844Z"
      },
      {
        "duration": 3,
        "start_time": "2022-09-15T04:31:32.864Z"
      },
      {
        "duration": 8,
        "start_time": "2022-09-15T04:31:32.868Z"
      },
      {
        "duration": 43,
        "start_time": "2022-09-15T04:31:32.878Z"
      },
      {
        "duration": 9,
        "start_time": "2022-09-15T04:31:32.923Z"
      },
      {
        "duration": 8,
        "start_time": "2022-09-15T04:31:32.933Z"
      },
      {
        "duration": 4,
        "start_time": "2022-09-15T04:31:32.943Z"
      },
      {
        "duration": 17,
        "start_time": "2022-09-15T04:31:32.948Z"
      },
      {
        "duration": 5,
        "start_time": "2022-09-15T04:31:32.967Z"
      },
      {
        "duration": 16,
        "start_time": "2022-09-15T04:31:32.973Z"
      },
      {
        "duration": 4,
        "start_time": "2022-09-15T04:31:33.021Z"
      },
      {
        "duration": 14,
        "start_time": "2022-09-15T04:31:33.027Z"
      },
      {
        "duration": 23,
        "start_time": "2022-09-15T04:31:33.043Z"
      },
      {
        "duration": 4,
        "start_time": "2022-09-15T04:31:33.068Z"
      },
      {
        "duration": 10,
        "start_time": "2022-09-15T04:31:33.074Z"
      },
      {
        "duration": 36,
        "start_time": "2022-09-15T04:31:33.085Z"
      },
      {
        "duration": 9,
        "start_time": "2022-09-15T04:31:33.123Z"
      },
      {
        "duration": 237,
        "start_time": "2022-09-15T04:31:33.134Z"
      },
      {
        "duration": 315,
        "start_time": "2022-09-15T04:31:33.373Z"
      },
      {
        "duration": 36955,
        "start_time": "2022-09-15T04:31:33.691Z"
      },
      {
        "duration": 237,
        "start_time": "2022-09-15T04:32:10.648Z"
      },
      {
        "duration": 41,
        "start_time": "2022-09-15T04:32:10.887Z"
      },
      {
        "duration": 439,
        "start_time": "2022-09-15T04:32:10.929Z"
      },
      {
        "duration": 58,
        "start_time": "2022-09-15T04:32:11.370Z"
      },
      {
        "duration": 356,
        "start_time": "2022-09-15T04:32:11.432Z"
      },
      {
        "duration": 322,
        "start_time": "2022-09-15T04:32:11.790Z"
      },
      {
        "duration": 628,
        "start_time": "2022-09-15T04:32:12.121Z"
      },
      {
        "duration": 272,
        "start_time": "2022-09-15T04:32:12.751Z"
      },
      {
        "duration": 170,
        "start_time": "2022-09-15T04:32:13.025Z"
      },
      {
        "duration": 12,
        "start_time": "2022-09-15T04:32:13.197Z"
      },
      {
        "duration": 36,
        "start_time": "2022-09-15T04:32:13.211Z"
      },
      {
        "duration": 381,
        "start_time": "2022-09-15T04:32:13.321Z"
      },
      {
        "duration": 324,
        "start_time": "2022-09-15T04:32:13.704Z"
      },
      {
        "duration": 1140,
        "start_time": "2022-09-15T04:32:14.030Z"
      },
      {
        "duration": 267,
        "start_time": "2022-09-15T04:32:15.172Z"
      },
      {
        "duration": 185,
        "start_time": "2022-09-15T04:32:15.441Z"
      },
      {
        "duration": 12,
        "start_time": "2022-09-15T04:32:15.628Z"
      },
      {
        "duration": 50,
        "start_time": "2022-09-15T04:32:15.641Z"
      },
      {
        "duration": 417,
        "start_time": "2022-09-15T04:32:15.693Z"
      },
      {
        "duration": 400,
        "start_time": "2022-09-15T04:32:16.112Z"
      },
      {
        "duration": 506,
        "start_time": "2022-09-15T04:32:16.520Z"
      },
      {
        "duration": 277,
        "start_time": "2022-09-15T04:32:17.028Z"
      },
      {
        "duration": 196,
        "start_time": "2022-09-15T04:32:17.306Z"
      },
      {
        "duration": 5,
        "start_time": "2022-09-15T04:32:17.504Z"
      },
      {
        "duration": 29,
        "start_time": "2022-09-15T04:32:17.511Z"
      },
      {
        "duration": 670,
        "start_time": "2022-09-15T04:32:17.542Z"
      },
      {
        "duration": 183,
        "start_time": "2022-09-15T04:32:18.214Z"
      },
      {
        "duration": 1834,
        "start_time": "2022-09-15T16:23:44.215Z"
      },
      {
        "duration": 4,
        "start_time": "2022-09-15T16:25:45.877Z"
      },
      {
        "duration": 369,
        "start_time": "2022-09-15T16:25:51.552Z"
      },
      {
        "duration": 6,
        "start_time": "2022-09-15T16:25:51.962Z"
      },
      {
        "duration": 15,
        "start_time": "2022-09-15T16:25:53.021Z"
      },
      {
        "duration": 3,
        "start_time": "2022-09-15T16:27:29.053Z"
      },
      {
        "duration": 4,
        "start_time": "2022-09-15T16:27:29.564Z"
      },
      {
        "duration": 45,
        "start_time": "2022-09-15T16:30:39.823Z"
      },
      {
        "duration": 4,
        "start_time": "2022-09-15T16:30:40.070Z"
      },
      {
        "duration": 13,
        "start_time": "2022-09-15T16:30:41.462Z"
      },
      {
        "duration": 4,
        "start_time": "2022-09-15T16:31:00.878Z"
      },
      {
        "duration": 5,
        "start_time": "2022-09-15T16:31:01.406Z"
      },
      {
        "duration": 4,
        "start_time": "2022-09-15T16:57:29.626Z"
      },
      {
        "duration": 45,
        "start_time": "2022-09-15T16:57:30.918Z"
      },
      {
        "duration": 4,
        "start_time": "2022-09-15T16:57:31.142Z"
      },
      {
        "duration": 14,
        "start_time": "2022-09-15T16:57:31.334Z"
      },
      {
        "duration": 2,
        "start_time": "2022-09-15T16:58:13.990Z"
      },
      {
        "duration": 1509,
        "start_time": "2022-09-15T20:15:54.140Z"
      },
      {
        "duration": 79,
        "start_time": "2022-09-15T20:16:07.931Z"
      },
      {
        "duration": 5,
        "start_time": "2022-09-15T20:16:08.206Z"
      },
      {
        "duration": 14,
        "start_time": "2022-09-15T20:16:09.007Z"
      },
      {
        "duration": 3,
        "start_time": "2022-09-15T20:16:35.740Z"
      },
      {
        "duration": 4,
        "start_time": "2022-09-15T20:16:36.228Z"
      },
      {
        "duration": 2,
        "start_time": "2022-09-15T20:16:40.665Z"
      },
      {
        "duration": 866,
        "start_time": "2022-09-15T20:16:41.363Z"
      },
      {
        "duration": 8,
        "start_time": "2022-09-15T20:16:57.239Z"
      },
      {
        "duration": 130,
        "start_time": "2022-09-15T20:17:05.281Z"
      },
      {
        "duration": 1215,
        "start_time": "2022-09-15T20:19:51.307Z"
      },
      {
        "duration": 213,
        "start_time": "2022-09-15T20:20:18.261Z"
      },
      {
        "duration": 243,
        "start_time": "2022-09-15T20:20:24.854Z"
      },
      {
        "duration": 20,
        "start_time": "2022-09-15T20:24:48.974Z"
      },
      {
        "duration": 398,
        "start_time": "2022-09-15T20:28:41.801Z"
      },
      {
        "duration": 394,
        "start_time": "2022-09-15T20:28:54.896Z"
      },
      {
        "duration": 627,
        "start_time": "2022-09-15T20:30:00.815Z"
      },
      {
        "duration": 400,
        "start_time": "2022-09-15T20:30:11.334Z"
      },
      {
        "duration": 262,
        "start_time": "2022-09-15T20:30:16.765Z"
      },
      {
        "duration": 177,
        "start_time": "2022-09-15T20:30:22.470Z"
      },
      {
        "duration": 250,
        "start_time": "2022-09-15T20:30:37.937Z"
      },
      {
        "duration": 402,
        "start_time": "2022-09-15T20:31:05.827Z"
      },
      {
        "duration": 516,
        "start_time": "2022-09-15T20:31:45.821Z"
      },
      {
        "duration": 253,
        "start_time": "2022-09-15T20:32:25.101Z"
      },
      {
        "duration": 429,
        "start_time": "2022-09-15T20:32:54.163Z"
      },
      {
        "duration": 414,
        "start_time": "2022-09-15T20:33:10.430Z"
      },
      {
        "duration": 525,
        "start_time": "2022-09-15T20:33:17.938Z"
      },
      {
        "duration": 640,
        "start_time": "2022-09-15T20:33:44.240Z"
      },
      {
        "duration": 878,
        "start_time": "2022-09-15T20:35:20.883Z"
      },
      {
        "duration": 863,
        "start_time": "2022-09-15T20:35:43.622Z"
      },
      {
        "duration": 1003,
        "start_time": "2022-09-15T20:36:17.154Z"
      },
      {
        "duration": 475,
        "start_time": "2022-09-15T20:36:50.150Z"
      },
      {
        "duration": 484,
        "start_time": "2022-09-15T20:40:02.958Z"
      },
      {
        "duration": 505,
        "start_time": "2022-09-15T20:40:16.485Z"
      },
      {
        "duration": 484,
        "start_time": "2022-09-15T20:40:25.593Z"
      },
      {
        "duration": 638,
        "start_time": "2022-09-15T20:40:35.084Z"
      },
      {
        "duration": 536,
        "start_time": "2022-09-15T20:40:40.167Z"
      },
      {
        "duration": 446,
        "start_time": "2022-09-15T20:40:45.511Z"
      },
      {
        "duration": 555,
        "start_time": "2022-09-15T20:41:14.400Z"
      },
      {
        "duration": 1080,
        "start_time": "2022-09-15T20:41:44.465Z"
      },
      {
        "duration": 1070,
        "start_time": "2022-09-15T20:41:50.276Z"
      },
      {
        "duration": 83,
        "start_time": "2022-09-15T20:42:30.001Z"
      },
      {
        "duration": 1081,
        "start_time": "2022-09-15T20:43:11.361Z"
      },
      {
        "duration": 1203,
        "start_time": "2022-09-15T20:43:21.712Z"
      },
      {
        "duration": 1178,
        "start_time": "2022-09-15T20:43:37.921Z"
      },
      {
        "duration": 1279,
        "start_time": "2022-09-15T20:43:51.930Z"
      },
      {
        "duration": 13,
        "start_time": "2022-09-15T20:47:11.992Z"
      },
      {
        "duration": 9,
        "start_time": "2022-09-15T20:47:35.223Z"
      },
      {
        "duration": 1098,
        "start_time": "2022-09-15T20:48:15.995Z"
      },
      {
        "duration": 633,
        "start_time": "2022-09-15T20:48:35.440Z"
      },
      {
        "duration": 638,
        "start_time": "2022-09-15T20:48:45.245Z"
      },
      {
        "duration": 8,
        "start_time": "2022-09-15T20:49:26.332Z"
      },
      {
        "duration": 636,
        "start_time": "2022-09-15T20:49:59.656Z"
      },
      {
        "duration": 7,
        "start_time": "2022-09-15T20:51:13.107Z"
      },
      {
        "duration": 4,
        "start_time": "2022-09-15T20:51:14.095Z"
      },
      {
        "duration": 3,
        "start_time": "2022-09-15T20:51:14.946Z"
      },
      {
        "duration": 11,
        "start_time": "2022-09-15T20:51:17.754Z"
      },
      {
        "duration": 4,
        "start_time": "2022-09-15T20:51:19.609Z"
      },
      {
        "duration": 224,
        "start_time": "2022-09-15T20:51:47.917Z"
      },
      {
        "duration": 35,
        "start_time": "2022-09-15T20:52:09.502Z"
      },
      {
        "duration": 3,
        "start_time": "2022-09-15T20:52:29.947Z"
      },
      {
        "duration": 8,
        "start_time": "2022-09-15T20:52:46.710Z"
      },
      {
        "duration": 13,
        "start_time": "2022-09-15T20:53:43.251Z"
      },
      {
        "duration": 201,
        "start_time": "2022-09-15T20:53:48.242Z"
      },
      {
        "duration": 117,
        "start_time": "2022-09-15T20:53:56.792Z"
      },
      {
        "duration": 111,
        "start_time": "2022-09-15T20:54:08.459Z"
      },
      {
        "duration": 5,
        "start_time": "2022-09-15T20:55:21.457Z"
      },
      {
        "duration": 108,
        "start_time": "2022-09-15T20:55:21.779Z"
      },
      {
        "duration": 10,
        "start_time": "2022-09-15T20:55:32.103Z"
      },
      {
        "duration": 109,
        "start_time": "2022-09-15T20:55:36.039Z"
      },
      {
        "duration": 4,
        "start_time": "2022-09-15T20:55:57.314Z"
      },
      {
        "duration": 13,
        "start_time": "2022-09-15T20:56:00.324Z"
      },
      {
        "duration": 4,
        "start_time": "2022-09-15T20:56:04.519Z"
      },
      {
        "duration": 39,
        "start_time": "2022-09-15T20:56:05.023Z"
      },
      {
        "duration": 4,
        "start_time": "2022-09-15T20:56:05.184Z"
      },
      {
        "duration": 13,
        "start_time": "2022-09-15T20:56:05.359Z"
      },
      {
        "duration": 35,
        "start_time": "2022-09-15T20:56:05.535Z"
      },
      {
        "duration": 3,
        "start_time": "2022-09-15T20:56:06.217Z"
      },
      {
        "duration": 3,
        "start_time": "2022-09-15T20:56:06.384Z"
      },
      {
        "duration": 9,
        "start_time": "2022-09-15T20:56:06.909Z"
      },
      {
        "duration": 656,
        "start_time": "2022-09-15T20:56:07.288Z"
      },
      {
        "duration": 7,
        "start_time": "2022-09-15T20:56:08.894Z"
      },
      {
        "duration": 4,
        "start_time": "2022-09-15T20:56:09.748Z"
      },
      {
        "duration": 3,
        "start_time": "2022-09-15T20:56:10.102Z"
      },
      {
        "duration": 12,
        "start_time": "2022-09-15T20:56:10.649Z"
      },
      {
        "duration": 4,
        "start_time": "2022-09-15T20:56:12.309Z"
      },
      {
        "duration": 7,
        "start_time": "2022-09-15T20:56:14.390Z"
      },
      {
        "duration": 114,
        "start_time": "2022-09-15T20:56:15.221Z"
      },
      {
        "duration": 5,
        "start_time": "2022-09-15T20:56:19.221Z"
      },
      {
        "duration": 10,
        "start_time": "2022-09-15T20:56:24.207Z"
      },
      {
        "duration": 10,
        "start_time": "2022-09-15T20:56:33.299Z"
      },
      {
        "duration": 6,
        "start_time": "2022-09-15T20:58:11.550Z"
      },
      {
        "duration": 7,
        "start_time": "2022-09-15T20:58:13.599Z"
      },
      {
        "duration": 7,
        "start_time": "2022-09-15T20:58:15.652Z"
      },
      {
        "duration": 10,
        "start_time": "2022-09-15T20:58:16.630Z"
      },
      {
        "duration": 26,
        "start_time": "2022-09-15T21:02:04.178Z"
      },
      {
        "duration": 15,
        "start_time": "2022-09-15T21:02:15.141Z"
      },
      {
        "duration": 20,
        "start_time": "2022-09-15T21:03:53.089Z"
      },
      {
        "duration": 15,
        "start_time": "2022-09-15T21:04:52.773Z"
      },
      {
        "duration": 179,
        "start_time": "2022-09-15T21:05:25.696Z"
      },
      {
        "duration": 220,
        "start_time": "2022-09-15T21:05:37.340Z"
      },
      {
        "duration": 110,
        "start_time": "2022-09-15T21:07:33.603Z"
      },
      {
        "duration": 7,
        "start_time": "2022-09-15T21:07:55.696Z"
      },
      {
        "duration": 7,
        "start_time": "2022-09-15T21:08:13.259Z"
      },
      {
        "duration": 6,
        "start_time": "2022-09-15T21:08:39.418Z"
      },
      {
        "duration": 9,
        "start_time": "2022-09-15T21:09:36.140Z"
      },
      {
        "duration": 138485,
        "start_time": "2022-09-15T21:10:37.396Z"
      },
      {
        "duration": 239,
        "start_time": "2022-09-15T21:14:23.113Z"
      },
      {
        "duration": 31,
        "start_time": "2022-09-15T21:14:27.074Z"
      },
      {
        "duration": 25,
        "start_time": "2022-09-15T21:16:46.090Z"
      },
      {
        "duration": 260,
        "start_time": "2022-09-15T21:16:50.790Z"
      },
      {
        "duration": 9,
        "start_time": "2022-09-15T21:19:10.729Z"
      },
      {
        "duration": 20,
        "start_time": "2022-09-15T21:19:48.807Z"
      },
      {
        "duration": 227,
        "start_time": "2022-09-15T21:19:55.820Z"
      },
      {
        "duration": 258,
        "start_time": "2022-09-15T21:20:10.260Z"
      },
      {
        "duration": 137565,
        "start_time": "2022-09-15T21:24:33.409Z"
      },
      {
        "duration": 205,
        "start_time": "2022-09-15T21:27:43.245Z"
      },
      {
        "duration": 137,
        "start_time": "2022-09-15T21:28:19.719Z"
      },
      {
        "duration": 16,
        "start_time": "2022-09-15T21:29:29.031Z"
      },
      {
        "duration": 11,
        "start_time": "2022-09-15T21:29:32.812Z"
      },
      {
        "duration": 12,
        "start_time": "2022-09-15T21:30:31.135Z"
      },
      {
        "duration": 29,
        "start_time": "2022-09-15T21:30:43.201Z"
      },
      {
        "duration": 248,
        "start_time": "2022-09-15T21:30:45.875Z"
      },
      {
        "duration": 248,
        "start_time": "2022-09-15T21:30:55.643Z"
      },
      {
        "duration": 189947,
        "start_time": "2022-09-15T21:37:21.203Z"
      },
      {
        "duration": 258,
        "start_time": "2022-09-15T21:41:44.194Z"
      },
      {
        "duration": 336,
        "start_time": "2022-09-15T21:42:10.300Z"
      },
      {
        "duration": 10,
        "start_time": "2022-09-15T21:44:08.169Z"
      },
      {
        "duration": 10,
        "start_time": "2022-09-15T21:44:58.273Z"
      },
      {
        "duration": 13,
        "start_time": "2022-09-15T21:45:02.521Z"
      },
      {
        "duration": 243,
        "start_time": "2022-09-15T21:45:10.413Z"
      },
      {
        "duration": 228,
        "start_time": "2022-09-15T21:45:14.660Z"
      },
      {
        "duration": 190465,
        "start_time": "2022-09-15T21:47:26.404Z"
      },
      {
        "duration": 193,
        "start_time": "2022-09-15T21:51:28.855Z"
      },
      {
        "duration": 152,
        "start_time": "2022-09-15T21:51:38.987Z"
      },
      {
        "duration": 5,
        "start_time": "2022-09-15T21:58:49.367Z"
      },
      {
        "duration": 171817,
        "start_time": "2022-09-15T22:01:07.922Z"
      },
      {
        "duration": 254,
        "start_time": "2022-09-15T22:05:03.889Z"
      },
      {
        "duration": 142,
        "start_time": "2022-09-15T22:05:15.818Z"
      },
      {
        "duration": 1307,
        "start_time": "2022-09-15T22:07:28.460Z"
      },
      {
        "duration": 38,
        "start_time": "2022-09-15T22:07:29.769Z"
      },
      {
        "duration": 4,
        "start_time": "2022-09-15T22:07:29.809Z"
      },
      {
        "duration": 14,
        "start_time": "2022-09-15T22:07:29.815Z"
      },
      {
        "duration": 35,
        "start_time": "2022-09-15T22:07:29.830Z"
      },
      {
        "duration": 3,
        "start_time": "2022-09-15T22:07:29.867Z"
      },
      {
        "duration": 6,
        "start_time": "2022-09-15T22:07:29.871Z"
      },
      {
        "duration": 33,
        "start_time": "2022-09-15T22:07:29.879Z"
      },
      {
        "duration": 651,
        "start_time": "2022-09-15T22:07:29.913Z"
      },
      {
        "duration": 6,
        "start_time": "2022-09-15T22:07:30.565Z"
      },
      {
        "duration": 22,
        "start_time": "2022-09-15T22:07:30.573Z"
      },
      {
        "duration": 4,
        "start_time": "2022-09-15T22:07:30.596Z"
      },
      {
        "duration": 19,
        "start_time": "2022-09-15T22:07:30.601Z"
      },
      {
        "duration": 14,
        "start_time": "2022-09-15T22:07:30.622Z"
      },
      {
        "duration": 12,
        "start_time": "2022-09-15T22:07:30.638Z"
      },
      {
        "duration": 123,
        "start_time": "2022-09-15T22:07:30.651Z"
      },
      {
        "duration": 5,
        "start_time": "2022-09-15T22:07:30.775Z"
      },
      {
        "duration": 28,
        "start_time": "2022-09-15T22:07:30.781Z"
      },
      {
        "duration": 30,
        "start_time": "2022-09-15T22:07:30.810Z"
      },
      {
        "duration": 6,
        "start_time": "2022-09-15T22:07:30.841Z"
      },
      {
        "duration": 20,
        "start_time": "2022-09-15T22:07:30.848Z"
      },
      {
        "duration": 14,
        "start_time": "2022-09-15T22:07:30.869Z"
      },
      {
        "duration": 70,
        "start_time": "2022-09-15T22:07:30.884Z"
      },
      {
        "duration": 23,
        "start_time": "2022-09-15T22:07:30.955Z"
      },
      {
        "duration": 196,
        "start_time": "2022-09-15T22:07:30.979Z"
      },
      {
        "duration": 276,
        "start_time": "2022-09-15T22:07:31.177Z"
      },
      {
        "duration": 7,
        "start_time": "2022-09-15T22:07:31.454Z"
      },
      {
        "duration": 137773,
        "start_time": "2022-09-15T22:07:31.462Z"
      },
      {
        "duration": 226,
        "start_time": "2022-09-15T22:09:49.236Z"
      },
      {
        "duration": 29,
        "start_time": "2022-09-15T22:09:49.464Z"
      },
      {
        "duration": 34,
        "start_time": "2022-09-15T22:09:49.494Z"
      },
      {
        "duration": 422,
        "start_time": "2022-09-15T22:09:49.529Z"
      },
      {
        "duration": 7,
        "start_time": "2022-09-15T22:09:49.953Z"
      },
      {
        "duration": 150,
        "start_time": "2022-09-15T22:09:49.962Z"
      },
      {
        "duration": 442,
        "start_time": "2022-09-15T22:09:50.114Z"
      },
      {
        "duration": 242,
        "start_time": "2022-09-15T22:09:50.557Z"
      },
      {
        "duration": 137307,
        "start_time": "2022-09-15T22:09:50.809Z"
      },
      {
        "duration": 246,
        "start_time": "2022-09-15T22:12:08.117Z"
      },
      {
        "duration": 156,
        "start_time": "2022-09-15T22:12:08.364Z"
      },
      {
        "duration": 11,
        "start_time": "2022-09-15T22:12:08.521Z"
      },
      {
        "duration": 75,
        "start_time": "2022-09-15T22:12:08.536Z"
      },
      {
        "duration": 343,
        "start_time": "2022-09-15T22:12:08.613Z"
      },
      {
        "duration": 232,
        "start_time": "2022-09-15T22:12:08.957Z"
      },
      {
        "duration": 192398,
        "start_time": "2022-09-15T22:12:09.190Z"
      },
      {
        "duration": 355,
        "start_time": "2022-09-15T22:15:21.589Z"
      },
      {
        "duration": 174,
        "start_time": "2022-09-15T22:15:21.946Z"
      },
      {
        "duration": 11,
        "start_time": "2022-09-15T22:15:22.122Z"
      },
      {
        "duration": 76,
        "start_time": "2022-09-15T22:15:22.135Z"
      },
      {
        "duration": 347,
        "start_time": "2022-09-15T22:15:22.213Z"
      },
      {
        "duration": 248,
        "start_time": "2022-09-15T22:15:22.561Z"
      },
      {
        "duration": 191987,
        "start_time": "2022-09-15T22:15:22.810Z"
      },
      {
        "duration": 255,
        "start_time": "2022-09-15T22:18:34.798Z"
      },
      {
        "duration": 176,
        "start_time": "2022-09-15T22:18:35.054Z"
      },
      {
        "duration": 5,
        "start_time": "2022-09-15T22:18:35.231Z"
      },
      {
        "duration": 172773,
        "start_time": "2022-09-15T22:18:35.237Z"
      },
      {
        "duration": 245,
        "start_time": "2022-09-15T22:21:28.011Z"
      },
      {
        "duration": 154,
        "start_time": "2022-09-15T22:21:28.257Z"
      },
      {
        "duration": 2794,
        "start_time": "2022-09-16T03:40:59.697Z"
      },
      {
        "duration": 100,
        "start_time": "2022-09-16T03:41:02.501Z"
      },
      {
        "duration": 6,
        "start_time": "2022-09-16T03:41:02.603Z"
      },
      {
        "duration": 17,
        "start_time": "2022-09-16T03:41:02.611Z"
      },
      {
        "duration": 100,
        "start_time": "2022-09-16T03:41:02.629Z"
      },
      {
        "duration": 3,
        "start_time": "2022-09-16T03:41:02.730Z"
      },
      {
        "duration": 17,
        "start_time": "2022-09-16T03:41:02.789Z"
      },
      {
        "duration": 12,
        "start_time": "2022-09-16T03:41:02.808Z"
      },
      {
        "duration": 1584,
        "start_time": "2022-09-16T03:41:02.822Z"
      },
      {
        "duration": 8,
        "start_time": "2022-09-16T03:41:04.410Z"
      },
      {
        "duration": 6,
        "start_time": "2022-09-16T03:41:04.419Z"
      },
      {
        "duration": 65,
        "start_time": "2022-09-16T03:41:04.426Z"
      },
      {
        "duration": 17,
        "start_time": "2022-09-16T03:41:04.504Z"
      },
      {
        "duration": 4,
        "start_time": "2022-09-16T03:41:04.523Z"
      },
      {
        "duration": 73,
        "start_time": "2022-09-16T03:41:04.529Z"
      },
      {
        "duration": 299,
        "start_time": "2022-09-16T03:41:04.604Z"
      },
      {
        "duration": 5,
        "start_time": "2022-09-16T03:41:04.909Z"
      },
      {
        "duration": 15,
        "start_time": "2022-09-16T03:41:04.916Z"
      },
      {
        "duration": 12,
        "start_time": "2022-09-16T03:41:04.999Z"
      },
      {
        "duration": 7,
        "start_time": "2022-09-16T03:41:05.013Z"
      },
      {
        "duration": 12,
        "start_time": "2022-09-16T03:41:05.021Z"
      },
      {
        "duration": 67,
        "start_time": "2022-09-16T03:41:05.035Z"
      },
      {
        "duration": 203,
        "start_time": "2022-09-16T03:41:05.104Z"
      },
      {
        "duration": 99,
        "start_time": "2022-09-16T03:41:05.308Z"
      },
      {
        "duration": 405,
        "start_time": "2022-09-16T03:41:05.413Z"
      },
      {
        "duration": 575,
        "start_time": "2022-09-16T03:41:05.820Z"
      },
      {
        "duration": 10,
        "start_time": "2022-09-16T03:41:06.399Z"
      },
      {
        "duration": 336248,
        "start_time": "2022-09-16T03:41:06.413Z"
      },
      {
        "duration": 295,
        "start_time": "2022-09-16T03:46:42.663Z"
      },
      {
        "duration": 49,
        "start_time": "2022-09-16T03:46:42.959Z"
      },
      {
        "duration": 23,
        "start_time": "2022-09-16T03:46:43.009Z"
      },
      {
        "duration": 370,
        "start_time": "2022-09-16T03:46:43.104Z"
      },
      {
        "duration": 21,
        "start_time": "2022-09-16T03:46:43.475Z"
      },
      {
        "duration": 104,
        "start_time": "2022-09-16T03:46:43.498Z"
      },
      {
        "duration": 445,
        "start_time": "2022-09-16T03:46:43.604Z"
      },
      {
        "duration": 324,
        "start_time": "2022-09-16T03:46:44.050Z"
      },
      {
        "duration": 139926,
        "start_time": "2022-09-16T03:46:44.376Z"
      },
      {
        "duration": 266,
        "start_time": "2022-09-16T03:49:04.304Z"
      },
      {
        "duration": 197,
        "start_time": "2022-09-16T03:49:04.572Z"
      },
      {
        "duration": 13,
        "start_time": "2022-09-16T03:49:04.770Z"
      },
      {
        "duration": 110,
        "start_time": "2022-09-16T03:49:04.785Z"
      },
      {
        "duration": 365,
        "start_time": "2022-09-16T03:49:04.906Z"
      },
      {
        "duration": 326,
        "start_time": "2022-09-16T03:49:05.273Z"
      },
      {
        "duration": 223802,
        "start_time": "2022-09-16T03:49:05.601Z"
      },
      {
        "duration": 612,
        "start_time": "2022-09-16T03:52:49.405Z"
      },
      {
        "duration": 399,
        "start_time": "2022-09-16T03:52:50.019Z"
      },
      {
        "duration": 10,
        "start_time": "2022-09-16T03:52:50.420Z"
      },
      {
        "duration": 80,
        "start_time": "2022-09-16T03:52:50.432Z"
      },
      {
        "duration": 510,
        "start_time": "2022-09-16T03:52:50.588Z"
      },
      {
        "duration": 421,
        "start_time": "2022-09-16T03:52:51.101Z"
      },
      {
        "duration": 422700,
        "start_time": "2022-09-16T03:52:51.524Z"
      },
      {
        "duration": 404,
        "start_time": "2022-09-16T03:59:54.226Z"
      },
      {
        "duration": 473,
        "start_time": "2022-09-16T03:59:54.631Z"
      },
      {
        "duration": 5,
        "start_time": "2022-09-16T03:59:55.109Z"
      },
      {
        "duration": 362101,
        "start_time": "2022-09-16T03:59:55.116Z"
      },
      {
        "duration": 509,
        "start_time": "2022-09-16T04:05:57.219Z"
      },
      {
        "duration": 373,
        "start_time": "2022-09-16T04:05:57.730Z"
      },
      {
        "duration": 714,
        "start_time": "2022-09-16T06:35:53.519Z"
      },
      {
        "duration": 759,
        "start_time": "2022-09-16T06:52:08.307Z"
      },
      {
        "duration": 1516,
        "start_time": "2022-09-16T15:02:36.568Z"
      },
      {
        "duration": 92,
        "start_time": "2022-09-16T15:02:38.957Z"
      },
      {
        "duration": 5,
        "start_time": "2022-09-16T15:02:39.205Z"
      },
      {
        "duration": 15,
        "start_time": "2022-09-16T15:02:39.562Z"
      },
      {
        "duration": 36,
        "start_time": "2022-09-16T15:02:40.077Z"
      },
      {
        "duration": 4,
        "start_time": "2022-09-16T15:02:47.362Z"
      },
      {
        "duration": 4,
        "start_time": "2022-09-16T15:02:47.926Z"
      },
      {
        "duration": 12,
        "start_time": "2022-09-16T15:02:49.494Z"
      },
      {
        "duration": 769,
        "start_time": "2022-09-16T15:02:50.691Z"
      },
      {
        "duration": 8,
        "start_time": "2022-09-16T15:02:57.514Z"
      },
      {
        "duration": 4,
        "start_time": "2022-09-16T15:02:58.816Z"
      },
      {
        "duration": 3,
        "start_time": "2022-09-16T15:03:00.499Z"
      },
      {
        "duration": 16,
        "start_time": "2022-09-16T15:03:02.721Z"
      },
      {
        "duration": 5,
        "start_time": "2022-09-16T15:03:04.501Z"
      },
      {
        "duration": 7,
        "start_time": "2022-09-16T15:03:05.894Z"
      },
      {
        "duration": 122,
        "start_time": "2022-09-16T15:03:06.521Z"
      },
      {
        "duration": 5,
        "start_time": "2022-09-16T15:03:11.060Z"
      },
      {
        "duration": 9,
        "start_time": "2022-09-16T15:03:11.798Z"
      },
      {
        "duration": 9,
        "start_time": "2022-09-16T15:03:12.401Z"
      },
      {
        "duration": 4,
        "start_time": "2022-09-16T15:03:14.653Z"
      },
      {
        "duration": 9,
        "start_time": "2022-09-16T15:03:15.113Z"
      },
      {
        "duration": 8,
        "start_time": "2022-09-16T15:03:15.487Z"
      },
      {
        "duration": 10,
        "start_time": "2022-09-16T15:03:15.729Z"
      },
      {
        "duration": 80,
        "start_time": "2022-09-16T15:03:16.110Z"
      },
      {
        "duration": 202,
        "start_time": "2022-09-16T15:03:18.147Z"
      },
      {
        "duration": 278,
        "start_time": "2022-09-16T15:03:18.573Z"
      },
      {
        "duration": 9,
        "start_time": "2022-09-16T15:03:19.696Z"
      },
      {
        "duration": 141756,
        "start_time": "2022-09-16T15:03:30.629Z"
      },
      {
        "duration": 272,
        "start_time": "2022-09-16T15:05:52.387Z"
      },
      {
        "duration": 49,
        "start_time": "2022-09-16T15:05:52.660Z"
      },
      {
        "duration": 19,
        "start_time": "2022-09-16T15:05:52.712Z"
      },
      {
        "duration": 421,
        "start_time": "2022-09-16T15:05:52.733Z"
      },
      {
        "duration": 60,
        "start_time": "2022-09-16T15:05:53.156Z"
      },
      {
        "duration": 192,
        "start_time": "2022-09-16T15:05:53.217Z"
      },
      {
        "duration": 347,
        "start_time": "2022-09-16T15:05:53.412Z"
      },
      {
        "duration": 254,
        "start_time": "2022-09-16T15:05:53.761Z"
      },
      {
        "duration": 140013,
        "start_time": "2022-09-16T15:05:54.019Z"
      },
      {
        "duration": 234,
        "start_time": "2022-09-16T15:08:14.034Z"
      },
      {
        "duration": 176,
        "start_time": "2022-09-16T15:08:14.269Z"
      },
      {
        "duration": 12,
        "start_time": "2022-09-16T15:08:14.448Z"
      },
      {
        "duration": 48,
        "start_time": "2022-09-16T15:08:14.462Z"
      },
      {
        "duration": 340,
        "start_time": "2022-09-16T15:08:14.512Z"
      },
      {
        "duration": 257,
        "start_time": "2022-09-16T15:08:14.854Z"
      },
      {
        "duration": 194789,
        "start_time": "2022-09-16T15:08:15.112Z"
      },
      {
        "duration": 354,
        "start_time": "2022-09-16T15:11:29.902Z"
      },
      {
        "duration": 173,
        "start_time": "2022-09-16T15:11:30.257Z"
      },
      {
        "duration": 11,
        "start_time": "2022-09-16T15:11:30.432Z"
      },
      {
        "duration": 18,
        "start_time": "2022-09-16T15:11:30.444Z"
      },
      {
        "duration": 396,
        "start_time": "2022-09-16T15:11:30.464Z"
      },
      {
        "duration": 255,
        "start_time": "2022-09-16T15:11:30.862Z"
      },
      {
        "duration": 195955,
        "start_time": "2022-09-16T15:11:31.119Z"
      },
      {
        "duration": 269,
        "start_time": "2022-09-16T15:14:47.075Z"
      },
      {
        "duration": 179,
        "start_time": "2022-09-16T15:14:47.345Z"
      },
      {
        "duration": 6,
        "start_time": "2022-09-16T15:14:47.526Z"
      },
      {
        "duration": 757,
        "start_time": "2022-09-16T15:17:28.939Z"
      },
      {
        "duration": 202,
        "start_time": "2022-09-16T15:18:02.645Z"
      },
      {
        "duration": 164,
        "start_time": "2022-09-16T15:18:29.697Z"
      },
      {
        "duration": 756,
        "start_time": "2022-09-16T15:30:00.518Z"
      },
      {
        "duration": 270,
        "start_time": "2022-09-16T15:30:02.873Z"
      },
      {
        "duration": 141,
        "start_time": "2022-09-16T15:30:03.537Z"
      },
      {
        "duration": 1673,
        "start_time": "2022-09-17T05:30:12.376Z"
      },
      {
        "duration": 82,
        "start_time": "2022-09-17T05:30:14.052Z"
      },
      {
        "duration": 6,
        "start_time": "2022-09-17T05:30:14.136Z"
      },
      {
        "duration": 40,
        "start_time": "2022-09-17T05:30:14.144Z"
      },
      {
        "duration": 69,
        "start_time": "2022-09-17T05:30:14.187Z"
      },
      {
        "duration": 4,
        "start_time": "2022-09-17T05:30:14.258Z"
      },
      {
        "duration": 15,
        "start_time": "2022-09-17T05:30:14.264Z"
      },
      {
        "duration": 29,
        "start_time": "2022-09-17T05:30:14.280Z"
      },
      {
        "duration": 846,
        "start_time": "2022-09-17T05:30:14.311Z"
      },
      {
        "duration": 20,
        "start_time": "2022-09-17T05:30:15.158Z"
      },
      {
        "duration": 8,
        "start_time": "2022-09-17T05:30:15.180Z"
      },
      {
        "duration": 31,
        "start_time": "2022-09-17T05:30:15.189Z"
      },
      {
        "duration": 54,
        "start_time": "2022-09-17T05:30:15.223Z"
      },
      {
        "duration": 37,
        "start_time": "2022-09-17T05:30:15.282Z"
      },
      {
        "duration": 32,
        "start_time": "2022-09-17T05:30:15.322Z"
      },
      {
        "duration": 179,
        "start_time": "2022-09-17T05:30:15.356Z"
      },
      {
        "duration": 5,
        "start_time": "2022-09-17T05:30:15.537Z"
      },
      {
        "duration": 55,
        "start_time": "2022-09-17T05:30:15.544Z"
      },
      {
        "duration": 32,
        "start_time": "2022-09-17T05:30:15.601Z"
      },
      {
        "duration": 24,
        "start_time": "2022-09-17T05:30:15.635Z"
      },
      {
        "duration": 16,
        "start_time": "2022-09-17T05:30:15.661Z"
      },
      {
        "duration": 25,
        "start_time": "2022-09-17T05:30:15.679Z"
      },
      {
        "duration": 97,
        "start_time": "2022-09-17T05:30:15.706Z"
      },
      {
        "duration": 34,
        "start_time": "2022-09-17T05:30:15.805Z"
      },
      {
        "duration": 240,
        "start_time": "2022-09-17T05:30:15.841Z"
      },
      {
        "duration": 282,
        "start_time": "2022-09-17T05:30:16.083Z"
      },
      {
        "duration": 8,
        "start_time": "2022-09-17T05:30:16.376Z"
      },
      {
        "duration": 136663,
        "start_time": "2022-09-17T05:30:16.386Z"
      },
      {
        "duration": 279,
        "start_time": "2022-09-17T05:32:33.050Z"
      },
      {
        "duration": 56,
        "start_time": "2022-09-17T05:32:33.331Z"
      },
      {
        "duration": 21,
        "start_time": "2022-09-17T05:32:33.389Z"
      },
      {
        "duration": 434,
        "start_time": "2022-09-17T05:32:33.412Z"
      },
      {
        "duration": 31,
        "start_time": "2022-09-17T05:32:33.847Z"
      },
      {
        "duration": 200,
        "start_time": "2022-09-17T05:32:33.880Z"
      },
      {
        "duration": 353,
        "start_time": "2022-09-17T05:32:34.084Z"
      },
      {
        "duration": 266,
        "start_time": "2022-09-17T05:32:34.439Z"
      },
      {
        "duration": 134927,
        "start_time": "2022-09-17T05:32:34.707Z"
      },
      {
        "duration": 275,
        "start_time": "2022-09-17T05:34:49.636Z"
      },
      {
        "duration": 171,
        "start_time": "2022-09-17T05:34:49.913Z"
      },
      {
        "duration": 11,
        "start_time": "2022-09-17T05:34:50.086Z"
      },
      {
        "duration": 80,
        "start_time": "2022-09-17T05:34:50.101Z"
      },
      {
        "duration": 350,
        "start_time": "2022-09-17T05:34:50.183Z"
      },
      {
        "duration": 252,
        "start_time": "2022-09-17T05:34:50.535Z"
      },
      {
        "duration": 183062,
        "start_time": "2022-09-17T05:34:50.789Z"
      },
      {
        "duration": 367,
        "start_time": "2022-09-17T05:37:53.853Z"
      },
      {
        "duration": 193,
        "start_time": "2022-09-17T05:37:54.222Z"
      },
      {
        "duration": 11,
        "start_time": "2022-09-17T05:37:54.416Z"
      },
      {
        "duration": 53,
        "start_time": "2022-09-17T05:37:54.429Z"
      },
      {
        "duration": 351,
        "start_time": "2022-09-17T05:37:54.484Z"
      },
      {
        "duration": 269,
        "start_time": "2022-09-17T05:37:54.837Z"
      },
      {
        "duration": 181683,
        "start_time": "2022-09-17T05:37:55.107Z"
      },
      {
        "duration": 251,
        "start_time": "2022-09-17T05:40:56.792Z"
      },
      {
        "duration": 189,
        "start_time": "2022-09-17T05:40:57.045Z"
      },
      {
        "duration": 5,
        "start_time": "2022-09-17T05:40:57.235Z"
      },
      {
        "duration": 684,
        "start_time": "2022-09-17T05:40:57.242Z"
      },
      {
        "duration": 206,
        "start_time": "2022-09-17T05:40:57.928Z"
      },
      {
        "duration": 201,
        "start_time": "2022-09-17T05:40:58.136Z"
      }
    ],
    "kernelspec": {
      "display_name": "Python 3 (ipykernel)",
      "language": "python",
      "name": "python3"
    },
    "language_info": {
      "codemirror_mode": {
        "name": "ipython",
        "version": 3
      },
      "file_extension": ".py",
      "mimetype": "text/x-python",
      "name": "python",
      "nbconvert_exporter": "python",
      "pygments_lexer": "ipython3",
      "version": "3.9.13"
    },
    "toc": {
      "base_numbering": 1,
      "nav_menu": {
        "height": "364px",
        "width": "573px"
      },
      "number_sections": true,
      "sideBar": true,
      "skip_h1_title": true,
      "title_cell": "Содержание",
      "title_sidebar": "Contents",
      "toc_cell": true,
      "toc_position": {
        "height": "calc(100% - 180px)",
        "left": "10px",
        "top": "150px",
        "width": "289px"
      },
      "toc_section_display": true,
      "toc_window_display": true
    },
    "colab": {
      "provenance": [],
      "collapsed_sections": [],
      "toc_visible": true
    }
  },
  "nbformat": 4,
  "nbformat_minor": 0
}